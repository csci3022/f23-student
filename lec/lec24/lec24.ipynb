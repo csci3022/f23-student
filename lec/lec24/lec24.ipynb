{
 "cells": [
  {
   "cell_type": "code",
   "execution_count": 39,
   "metadata": {},
   "outputs": [],
   "source": [
    "import numpy as np\n",
    "import pandas as pd\n",
    "%matplotlib inline\n",
    "import matplotlib.pyplot as plt\n",
    "plt.style.use('fivethirtyeight')"
   ]
  },
  {
   "cell_type": "markdown",
   "metadata": {},
   "source": [
    "# Lecture 24 #"
   ]
  },
  {
   "cell_type": "markdown",
   "metadata": {},
   "source": [
    "## Reviewing Setup from Last Lecture\n",
    "\n",
    "Recall, in our example from last class we actually had access to the population data.  \n",
    "This is not normally the case.  The methods we are about to study **only make sense when you don't have access to the population.** "
   ]
  },
  {
   "cell_type": "code",
   "execution_count": 41,
   "metadata": {},
   "outputs": [
    {
     "data": {
      "text/html": [
       "<div>\n",
       "<style scoped>\n",
       "    .dataframe tbody tr th:only-of-type {\n",
       "        vertical-align: middle;\n",
       "    }\n",
       "\n",
       "    .dataframe tbody tr th {\n",
       "        vertical-align: top;\n",
       "    }\n",
       "\n",
       "    .dataframe thead th {\n",
       "        text-align: right;\n",
       "    }\n",
       "</style>\n",
       "<table border=\"1\" class=\"dataframe\">\n",
       "  <thead>\n",
       "    <tr style=\"text-align: right;\">\n",
       "      <th></th>\n",
       "      <th>Organization Group</th>\n",
       "      <th>Department</th>\n",
       "      <th>Job Family</th>\n",
       "      <th>Job</th>\n",
       "      <th>Salary</th>\n",
       "      <th>Overtime</th>\n",
       "      <th>Benefits</th>\n",
       "      <th>Total Compensation</th>\n",
       "    </tr>\n",
       "  </thead>\n",
       "  <tbody>\n",
       "    <tr>\n",
       "      <th>0</th>\n",
       "      <td>Public Protection</td>\n",
       "      <td>Adult Probation</td>\n",
       "      <td>Information Systems</td>\n",
       "      <td>IS Trainer-Journey</td>\n",
       "      <td>91332.0</td>\n",
       "      <td>0.0</td>\n",
       "      <td>40059.0</td>\n",
       "      <td>131391.0</td>\n",
       "    </tr>\n",
       "    <tr>\n",
       "      <th>1</th>\n",
       "      <td>Public Protection</td>\n",
       "      <td>Adult Probation</td>\n",
       "      <td>Information Systems</td>\n",
       "      <td>IS Engineer-Assistant</td>\n",
       "      <td>123241.0</td>\n",
       "      <td>0.0</td>\n",
       "      <td>49279.0</td>\n",
       "      <td>172520.0</td>\n",
       "    </tr>\n",
       "    <tr>\n",
       "      <th>2</th>\n",
       "      <td>Public Protection</td>\n",
       "      <td>Adult Probation</td>\n",
       "      <td>Information Systems</td>\n",
       "      <td>IS Business Analyst-Senior</td>\n",
       "      <td>115715.0</td>\n",
       "      <td>0.0</td>\n",
       "      <td>46752.0</td>\n",
       "      <td>162468.0</td>\n",
       "    </tr>\n",
       "    <tr>\n",
       "      <th>3</th>\n",
       "      <td>Public Protection</td>\n",
       "      <td>Adult Probation</td>\n",
       "      <td>Information Systems</td>\n",
       "      <td>IS Business Analyst-Principal</td>\n",
       "      <td>159394.0</td>\n",
       "      <td>0.0</td>\n",
       "      <td>57312.0</td>\n",
       "      <td>216706.0</td>\n",
       "    </tr>\n",
       "    <tr>\n",
       "      <th>4</th>\n",
       "      <td>Public Protection</td>\n",
       "      <td>Adult Probation</td>\n",
       "      <td>Information Systems</td>\n",
       "      <td>IS Programmer Analyst</td>\n",
       "      <td>70035.0</td>\n",
       "      <td>0.0</td>\n",
       "      <td>28671.0</td>\n",
       "      <td>98706.0</td>\n",
       "    </tr>\n",
       "    <tr>\n",
       "      <th>...</th>\n",
       "      <td>...</td>\n",
       "      <td>...</td>\n",
       "      <td>...</td>\n",
       "      <td>...</td>\n",
       "      <td>...</td>\n",
       "      <td>...</td>\n",
       "      <td>...</td>\n",
       "      <td>...</td>\n",
       "    </tr>\n",
       "    <tr>\n",
       "      <th>44520</th>\n",
       "      <td>General Administration &amp; Finance</td>\n",
       "      <td>Treasurer/Tax Collector</td>\n",
       "      <td>Revenue</td>\n",
       "      <td>Investigator, Tax Collector</td>\n",
       "      <td>44961.0</td>\n",
       "      <td>42.0</td>\n",
       "      <td>19546.0</td>\n",
       "      <td>64549.0</td>\n",
       "    </tr>\n",
       "    <tr>\n",
       "      <th>44521</th>\n",
       "      <td>General Administration &amp; Finance</td>\n",
       "      <td>Treasurer/Tax Collector</td>\n",
       "      <td>Revenue</td>\n",
       "      <td>Investigator, Tax Collector</td>\n",
       "      <td>85706.0</td>\n",
       "      <td>107.0</td>\n",
       "      <td>38924.0</td>\n",
       "      <td>124737.0</td>\n",
       "    </tr>\n",
       "    <tr>\n",
       "      <th>44522</th>\n",
       "      <td>General Administration &amp; Finance</td>\n",
       "      <td>Treasurer/Tax Collector</td>\n",
       "      <td>Revenue</td>\n",
       "      <td>Investigator, Tax Collector</td>\n",
       "      <td>101403.0</td>\n",
       "      <td>0.0</td>\n",
       "      <td>43185.0</td>\n",
       "      <td>144587.0</td>\n",
       "    </tr>\n",
       "    <tr>\n",
       "      <th>44523</th>\n",
       "      <td>General Administration &amp; Finance</td>\n",
       "      <td>Treasurer/Tax Collector</td>\n",
       "      <td>Revenue</td>\n",
       "      <td>Pr Investigator, Tax Collector</td>\n",
       "      <td>113738.0</td>\n",
       "      <td>397.0</td>\n",
       "      <td>47104.0</td>\n",
       "      <td>161240.0</td>\n",
       "    </tr>\n",
       "    <tr>\n",
       "      <th>44524</th>\n",
       "      <td>General Administration &amp; Finance</td>\n",
       "      <td>Treasurer/Tax Collector</td>\n",
       "      <td>Revenue</td>\n",
       "      <td>Pr Investigator, Tax Collector</td>\n",
       "      <td>113237.0</td>\n",
       "      <td>0.0</td>\n",
       "      <td>49749.0</td>\n",
       "      <td>162986.0</td>\n",
       "    </tr>\n",
       "  </tbody>\n",
       "</table>\n",
       "<p>36931 rows × 8 columns</p>\n",
       "</div>"
      ],
      "text/plain": [
       "                     Organization Group               Department  \\\n",
       "0                     Public Protection          Adult Probation   \n",
       "1                     Public Protection          Adult Probation   \n",
       "2                     Public Protection          Adult Probation   \n",
       "3                     Public Protection          Adult Probation   \n",
       "4                     Public Protection          Adult Probation   \n",
       "...                                 ...                      ...   \n",
       "44520  General Administration & Finance  Treasurer/Tax Collector   \n",
       "44521  General Administration & Finance  Treasurer/Tax Collector   \n",
       "44522  General Administration & Finance  Treasurer/Tax Collector   \n",
       "44523  General Administration & Finance  Treasurer/Tax Collector   \n",
       "44524  General Administration & Finance  Treasurer/Tax Collector   \n",
       "\n",
       "                Job Family                             Job    Salary  \\\n",
       "0      Information Systems              IS Trainer-Journey   91332.0   \n",
       "1      Information Systems           IS Engineer-Assistant  123241.0   \n",
       "2      Information Systems      IS Business Analyst-Senior  115715.0   \n",
       "3      Information Systems   IS Business Analyst-Principal  159394.0   \n",
       "4      Information Systems           IS Programmer Analyst   70035.0   \n",
       "...                    ...                             ...       ...   \n",
       "44520              Revenue     Investigator, Tax Collector   44961.0   \n",
       "44521              Revenue     Investigator, Tax Collector   85706.0   \n",
       "44522              Revenue     Investigator, Tax Collector  101403.0   \n",
       "44523              Revenue  Pr Investigator, Tax Collector  113738.0   \n",
       "44524              Revenue  Pr Investigator, Tax Collector  113237.0   \n",
       "\n",
       "       Overtime  Benefits  Total Compensation  \n",
       "0           0.0   40059.0            131391.0  \n",
       "1           0.0   49279.0            172520.0  \n",
       "2           0.0   46752.0            162468.0  \n",
       "3           0.0   57312.0            216706.0  \n",
       "4           0.0   28671.0             98706.0  \n",
       "...         ...       ...                 ...  \n",
       "44520      42.0   19546.0             64549.0  \n",
       "44521     107.0   38924.0            124737.0  \n",
       "44522       0.0   43185.0            144587.0  \n",
       "44523     397.0   47104.0            161240.0  \n",
       "44524       0.0   49749.0            162986.0  \n",
       "\n",
       "[36931 rows x 8 columns]"
      ]
     },
     "execution_count": 41,
     "metadata": {},
     "output_type": "execute_result"
    }
   ],
   "source": [
    "sf = pd.read_csv('san_francisco_2019.csv')\n",
    "min_salary = 15 * 20 * 52\n",
    "sf = sf[sf[\"Salary\"]>=min_salary]+\n",
    "sf\n"
   ]
  },
  {
   "cell_type": "code",
   "execution_count": 46,
   "metadata": {},
   "outputs": [
    {
     "data": {
      "text/plain": [
       "array([[<AxesSubplot:title={'center':'Total Compensation'}>]],\n",
       "      dtype=object)"
      ]
     },
     "execution_count": 46,
     "metadata": {},
     "output_type": "execute_result"
    },
    {
     "data": {
      "image/png": "[encoded data removed]",
      "text/plain": [
       "<Figure size 432x288 with 1 Axes>"
      ]
     },
     "metadata": {},
     "output_type": "display_data"
    }
   ],
   "source": [
    "sf_bins = np.arange(0, 726000, 50000)\n",
    "sf.hist('Total Compensation', bins=sf_bins)"
   ]
  },
  {
   "cell_type": "markdown",
   "metadata": {},
   "source": [
    "### Defining the Statistic\n",
    "\n",
    "Here we are interested in the median (50% percentile) of the total compensation. "
   ]
  },
  {
   "cell_type": "code",
   "execution_count": 4,
   "metadata": {},
   "outputs": [],
   "source": [
    "# Parameter: Median total compensation in the population\n",
    "def median_comp(t):\n",
    "    return t['Total Compensation'].median()"
   ]
  },
  {
   "cell_type": "markdown",
   "metadata": {},
   "source": [
    "### The Population Parameter\n",
    "\n",
    "We have access to the population so we can compute the **parameter** but in practice we typically won't have access to the population and instead we will have to *estimate* the parameter from a **sample**."
   ]
  },
  {
   "cell_type": "code",
   "execution_count": 5,
   "metadata": {},
   "outputs": [
    {
     "name": "stdout",
     "output_type": "stream",
     "text": [
      "Parameter Value: 136164.0\n"
     ]
    }
   ],
   "source": [
    "pop_median = median_comp(sf)\n",
    "print(\"Parameter Value:\", pop_median)"
   ]
  },
  {
   "cell_type": "markdown",
   "metadata": {},
   "source": [
    "### The Sample\n",
    "\n",
    "In practice, the data we would get from most studies would be a **sample** of the entire population.  This is because collecting a full census is challenging and expensive.\n",
    "\n",
    "Here we load the (fictional) sample that was taken by Prof. Oscamou\n",
    "\n",
    "<details><summary>Unimportant and Not True Details</summary>\n",
    "\n",
    "She collected this sample by selecting 400 names at random from the HR database and then directly asking them how much they make. It took all weekend and he had to give a chocolate to everyone who participated. \n",
    "    \n",
    "    \n",
    "<details><summary>The Real Truth</summary>\n",
    "        \n",
    "Actually, everything above is a complete fabrication.  Prof. Oscamou simply wrote: \n",
    "        \n",
    "```python\n",
    "sf.sample(400, replace=False).to_csv(\"sf_sample.csv\")\n",
    "```\n",
    "        \n",
    "</details>\n",
    "    \n",
    "</details>"
   ]
  },
  {
   "cell_type": "code",
   "execution_count": 6,
   "metadata": {},
   "outputs": [
    {
     "data": {
      "text/html": [
       "<div>\n",
       "<style scoped>\n",
       "    .dataframe tbody tr th:only-of-type {\n",
       "        vertical-align: middle;\n",
       "    }\n",
       "\n",
       "    .dataframe tbody tr th {\n",
       "        vertical-align: top;\n",
       "    }\n",
       "\n",
       "    .dataframe thead th {\n",
       "        text-align: right;\n",
       "    }\n",
       "</style>\n",
       "<table border=\"1\" class=\"dataframe\">\n",
       "  <thead>\n",
       "    <tr style=\"text-align: right;\">\n",
       "      <th></th>\n",
       "      <th>Unnamed: 0</th>\n",
       "      <th>Organization Group</th>\n",
       "      <th>Department</th>\n",
       "      <th>Job Family</th>\n",
       "      <th>Job</th>\n",
       "      <th>Salary</th>\n",
       "      <th>Overtime</th>\n",
       "      <th>Benefits</th>\n",
       "      <th>Total Compensation</th>\n",
       "    </tr>\n",
       "  </thead>\n",
       "  <tbody>\n",
       "    <tr>\n",
       "      <th>0</th>\n",
       "      <td>30718</td>\n",
       "      <td>Community Health</td>\n",
       "      <td>Public Health</td>\n",
       "      <td>Human Services</td>\n",
       "      <td>Hospital Eligibility Worker</td>\n",
       "      <td>15746.0</td>\n",
       "      <td>230.0</td>\n",
       "      <td>1240.0</td>\n",
       "      <td>17216.0</td>\n",
       "    </tr>\n",
       "    <tr>\n",
       "      <th>1</th>\n",
       "      <td>26940</td>\n",
       "      <td>Community Health</td>\n",
       "      <td>Public Health</td>\n",
       "      <td>Payroll, Billing &amp; Accounting</td>\n",
       "      <td>Accountant III</td>\n",
       "      <td>111816.0</td>\n",
       "      <td>0.0</td>\n",
       "      <td>46250.0</td>\n",
       "      <td>158066.0</td>\n",
       "    </tr>\n",
       "    <tr>\n",
       "      <th>2</th>\n",
       "      <td>26746</td>\n",
       "      <td>Community Health</td>\n",
       "      <td>Public Health</td>\n",
       "      <td>Information Systems</td>\n",
       "      <td>IS Business Analyst-Principal</td>\n",
       "      <td>106571.0</td>\n",
       "      <td>0.0</td>\n",
       "      <td>17000.0</td>\n",
       "      <td>123570.0</td>\n",
       "    </tr>\n",
       "    <tr>\n",
       "      <th>3</th>\n",
       "      <td>22031</td>\n",
       "      <td>Public Works, Transportation &amp; Commerce</td>\n",
       "      <td>Public Utilities Commission</td>\n",
       "      <td>Supervisory-Labor &amp; Trade</td>\n",
       "      <td>Sewer Repair Supervisor</td>\n",
       "      <td>145342.0</td>\n",
       "      <td>10646.0</td>\n",
       "      <td>49299.0</td>\n",
       "      <td>205287.0</td>\n",
       "    </tr>\n",
       "    <tr>\n",
       "      <th>4</th>\n",
       "      <td>9420</td>\n",
       "      <td>Public Works, Transportation &amp; Commerce</td>\n",
       "      <td>Airport Commission</td>\n",
       "      <td>Management</td>\n",
       "      <td>Manager IV</td>\n",
       "      <td>152315.0</td>\n",
       "      <td>0.0</td>\n",
       "      <td>58910.0</td>\n",
       "      <td>211225.0</td>\n",
       "    </tr>\n",
       "  </tbody>\n",
       "</table>\n",
       "</div>"
      ],
      "text/plain": [
       "   Unnamed: 0                       Organization Group  \\\n",
       "0       30718                         Community Health   \n",
       "1       26940                         Community Health   \n",
       "2       26746                         Community Health   \n",
       "3       22031  Public Works, Transportation & Commerce   \n",
       "4        9420  Public Works, Transportation & Commerce   \n",
       "\n",
       "                    Department                     Job Family  \\\n",
       "0                Public Health                 Human Services   \n",
       "1                Public Health  Payroll, Billing & Accounting   \n",
       "2                Public Health            Information Systems   \n",
       "3  Public Utilities Commission      Supervisory-Labor & Trade   \n",
       "4           Airport Commission                     Management   \n",
       "\n",
       "                             Job    Salary  Overtime  Benefits  \\\n",
       "0    Hospital Eligibility Worker   15746.0     230.0    1240.0   \n",
       "1                 Accountant III  111816.0       0.0   46250.0   \n",
       "2  IS Business Analyst-Principal  106571.0       0.0   17000.0   \n",
       "3        Sewer Repair Supervisor  145342.0   10646.0   49299.0   \n",
       "4                     Manager IV  152315.0       0.0   58910.0   \n",
       "\n",
       "   Total Compensation  \n",
       "0             17216.0  \n",
       "1            158066.0  \n",
       "2            123570.0  \n",
       "3            205287.0  \n",
       "4            211225.0  "
      ]
     },
     "execution_count": 6,
     "metadata": {},
     "output_type": "execute_result"
    }
   ],
   "source": [
    "sample_sf = pd.read_csv(\"sf_sample.csv\")\n",
    "sample_sf.head(5)"
   ]
  },
  {
   "cell_type": "code",
   "execution_count": 7,
   "metadata": {},
   "outputs": [
    {
     "data": {
      "text/plain": [
       "400"
      ]
     },
     "execution_count": 7,
     "metadata": {},
     "output_type": "execute_result"
    }
   ],
   "source": [
    "#Make sure our sample has the correct number of rows:\n",
    "\n",
    "sample_sf.shape[0]"
   ]
  },
  {
   "cell_type": "markdown",
   "metadata": {},
   "source": [
    "### Bootstrap Sampling\n",
    "\n",
    "We introduced the following function that computes bootstrap samples of the statistic.\n",
    "Note we recommend you use **10,000** repetitions when computing bootstrapped distributions."
   ]
  },
  {
   "cell_type": "code",
   "execution_count": 42,
   "metadata": {},
   "outputs": [],
   "source": [
    "def bootstrapper(sample, statistic, num_repetitions=10000):\n",
    "    \"\"\"\n",
    "    Returns the statistic computed on a num_repetitions  \n",
    "    bootstrap samples from sample.\n",
    "    \"\"\"\n",
    "    bstrap_stats = np.array([])\n",
    "    for i in np.arange(num_repetitions):\n",
    "        # Step 1: Sample the Sample\n",
    "        bootstrap_sample = sample.sample(frac=1, replace=True)\n",
    "        # Step 2: compute statistics on the sample of the sample\n",
    "        bootstrap_stat = statistic(bootstrap_sample)\n",
    "        # Accumulate the statistics\n",
    "        bstrap_stats = np.append(bstrap_stats, bootstrap_stat)\n",
    "\n",
    "    return bstrap_stats    "
   ]
  },
  {
   "cell_type": "code",
   "execution_count": 9,
   "metadata": {},
   "outputs": [],
   "source": [
    "bootstrap_medians = bootstrapper(sample_sf, median_comp, 10000)"
   ]
  },
  {
   "cell_type": "markdown",
   "metadata": {},
   "source": [
    "### Examining the Bootstrapped Distribution of the Statistic\n",
    "\n",
    "When using the boostrap it is important to always examine the distribution of the statistic.  In general when using bootstrapping we are looking for a distribution that is **roughly symmetric and bell-shaped**."
   ]
  },
  {
   "cell_type": "code",
   "execution_count": 10,
   "metadata": {},
   "outputs": [
    {
     "data": {
      "image/png": "[encoded data removed]",
      "text/plain": [
       "<Figure size 432x288 with 1 Axes>"
      ]
     },
     "metadata": {},
     "output_type": "display_data"
    }
   ],
   "source": [
    "plt.hist(bootstrap_medians, density=True, ec='white');\n",
    "\n",
    "parameter_green = '#32CD32'\n",
    "plt.ylim(-0.000005, 0.00014)\n",
    "plt.scatter(pop_median, 0, color=parameter_green, s=40, zorder=2)\n",
    "plt.title('Bootstrap Medians and the Parameter (Green Dot)');"
   ]
  },
  {
   "cell_type": "markdown",
   "metadata": {},
   "source": [
    "### Computing the Confidence Interval\n",
    "\n",
    "We compute the confidence interval for our desired **confidence level** using the following code:"
   ]
  },
  {
   "cell_type": "code",
   "execution_count": 11,
   "metadata": {},
   "outputs": [],
   "source": [
    "def compute_ci(bs_samples, confidence_level):\n",
    "    \"\"\"\n",
    "    Returns the confidence interval for the provided bootstrap samples\n",
    "    and desired confidence level.\n",
    "    \"\"\"\n",
    "    tail_size = (100 - confidence_level)/2\n",
    "    lower = np.percentile(bs_samples, tail_size,)\n",
    "    upper = np.percentile(bs_samples, 100 - tail_size, )\n",
    "    return [lower, upper]"
   ]
  },
  {
   "cell_type": "code",
   "execution_count": 12,
   "metadata": {},
   "outputs": [
    {
     "data": {
      "text/plain": [
       "[127354.0, 138301.0]"
      ]
     },
     "execution_count": 12,
     "metadata": {},
     "output_type": "execute_result"
    }
   ],
   "source": [
    "ci = compute_ci(bootstrap_medians, 95)\n",
    "ci"
   ]
  },
  {
   "cell_type": "markdown",
   "metadata": {},
   "source": [
    "Visualizing the CI"
   ]
  },
  {
   "cell_type": "code",
   "execution_count": 14,
   "metadata": {},
   "outputs": [
    {
     "data": {
      "image/png": "[encoded data removed]",
      "text/plain": [
       "<Figure size 432x288 with 1 Axes>"
      ]
     },
     "metadata": {},
     "output_type": "display_data"
    }
   ],
   "source": [
    "plt.hist(bootstrap_medians, density=True, ec='white');\n",
    "# cool python trick to deconstruct the array!\n",
    "[left, right] = ci\n",
    "# Plotting parameters; you can ignore this code\n",
    "plt.ylim(-0.000005, 0.00014)\n",
    "plt.plot([left, right], [0, 0], color='yellow', lw=5, zorder=1)\n",
    "plt.scatter(pop_median, 0, color=parameter_green, s=40, zorder=2);"
   ]
  },
  {
   "cell_type": "markdown",
   "metadata": {},
   "source": [
    "<br><br><br><br>\n",
    "\n",
    "---\n",
    "\n",
    "Return to Slides\n",
    "\n",
    "---\n",
    "\n",
    "<br><br><br><br>\n"
   ]
  },
  {
   "cell_type": "markdown",
   "metadata": {},
   "source": [
    "---\n",
    "\n",
    "## Simulating the Simulation!\n",
    "\n",
    "Let's look at what happens if we use the above code repeatedly with separate original samples from the population? How accurate are our 95% Bootstrap Estimates of the Parameter? "
   ]
  },
  {
   "cell_type": "code",
   "execution_count": 47,
   "metadata": {},
   "outputs": [],
   "source": [
    "intervals = pd.DataFrame(columns = ['lower', 'upper', 'median', 'good', 'sample size' ])\n",
    "\n",
    "sample_sizes = [2,8,16,50, 100]\n",
    "for sample_size in sample_sizes:\n",
    "    for trial in np.arange(20): # Run 20 trials of each configuration\n",
    "        # Pay for one new random sample from the population\n",
    "        og_sample = sf.sample(sample_size, replace=False)\n",
    "        \n",
    "        # Compute the statistic on the sample\n",
    "        sample_median = median_comp(og_sample)\n",
    "        \n",
    "        # Generate the medians of 10000 bootstrap samples\n",
    "        bootstrap_medians = bootstrapper(og_sample, median_comp, 1000)\n",
    "        \n",
    "        # Construct the confidence interval\n",
    "        [ci_lower, ci_upper] = compute_ci(bootstrap_medians, 95)\n",
    "        \n",
    "        # Determine if the confidence interval is good\n",
    "        is_good = ci_lower <= pop_median <= ci_upper\n",
    "        \n",
    "        # Add a row with this data to the DataFrame\n",
    "        \n",
    "        intervals.loc[len(intervals.index)] = [ci_lower, ci_upper, sample_median, is_good, str(sample_size)]\n",
    "    \n",
    "\n",
    "        \n",
    "\n",
    "# Add an experiment number\n",
    "intervals[\"Experiment\"]= np.arange(intervals.shape[0])"
   ]
  },
  {
   "cell_type": "code",
   "execution_count": 48,
   "metadata": {},
   "outputs": [
    {
     "data": {
      "text/html": [
       "<div>\n",
       "<style scoped>\n",
       "    .dataframe tbody tr th:only-of-type {\n",
       "        vertical-align: middle;\n",
       "    }\n",
       "\n",
       "    .dataframe tbody tr th {\n",
       "        vertical-align: top;\n",
       "    }\n",
       "\n",
       "    .dataframe thead th {\n",
       "        text-align: right;\n",
       "    }\n",
       "</style>\n",
       "<table border=\"1\" class=\"dataframe\">\n",
       "  <thead>\n",
       "    <tr style=\"text-align: right;\">\n",
       "      <th></th>\n",
       "      <th>lower</th>\n",
       "      <th>upper</th>\n",
       "      <th>median</th>\n",
       "      <th>good</th>\n",
       "      <th>sample size</th>\n",
       "      <th>Experiment</th>\n",
       "    </tr>\n",
       "  </thead>\n",
       "  <tbody>\n",
       "    <tr>\n",
       "      <th>0</th>\n",
       "      <td>163671.0</td>\n",
       "      <td>175097.0</td>\n",
       "      <td>169384.0</td>\n",
       "      <td>False</td>\n",
       "      <td>2</td>\n",
       "      <td>0</td>\n",
       "    </tr>\n",
       "    <tr>\n",
       "      <th>1</th>\n",
       "      <td>111101.0</td>\n",
       "      <td>131476.0</td>\n",
       "      <td>121288.5</td>\n",
       "      <td>False</td>\n",
       "      <td>2</td>\n",
       "      <td>1</td>\n",
       "    </tr>\n",
       "    <tr>\n",
       "      <th>2</th>\n",
       "      <td>18167.0</td>\n",
       "      <td>197150.0</td>\n",
       "      <td>107658.5</td>\n",
       "      <td>True</td>\n",
       "      <td>2</td>\n",
       "      <td>2</td>\n",
       "    </tr>\n",
       "    <tr>\n",
       "      <th>3</th>\n",
       "      <td>105193.0</td>\n",
       "      <td>108886.0</td>\n",
       "      <td>107039.5</td>\n",
       "      <td>False</td>\n",
       "      <td>2</td>\n",
       "      <td>3</td>\n",
       "    </tr>\n",
       "    <tr>\n",
       "      <th>4</th>\n",
       "      <td>180080.0</td>\n",
       "      <td>187795.0</td>\n",
       "      <td>183937.5</td>\n",
       "      <td>False</td>\n",
       "      <td>2</td>\n",
       "      <td>4</td>\n",
       "    </tr>\n",
       "    <tr>\n",
       "      <th>...</th>\n",
       "      <td>...</td>\n",
       "      <td>...</td>\n",
       "      <td>...</td>\n",
       "      <td>...</td>\n",
       "      <td>...</td>\n",
       "      <td>...</td>\n",
       "    </tr>\n",
       "    <tr>\n",
       "      <th>95</th>\n",
       "      <td>122116.0</td>\n",
       "      <td>148513.0</td>\n",
       "      <td>129850.5</td>\n",
       "      <td>True</td>\n",
       "      <td>100</td>\n",
       "      <td>95</td>\n",
       "    </tr>\n",
       "    <tr>\n",
       "      <th>96</th>\n",
       "      <td>126108.0</td>\n",
       "      <td>166155.0</td>\n",
       "      <td>142092.0</td>\n",
       "      <td>True</td>\n",
       "      <td>100</td>\n",
       "      <td>96</td>\n",
       "    </tr>\n",
       "    <tr>\n",
       "      <th>97</th>\n",
       "      <td>124539.0</td>\n",
       "      <td>159966.0</td>\n",
       "      <td>134663.5</td>\n",
       "      <td>True</td>\n",
       "      <td>100</td>\n",
       "      <td>97</td>\n",
       "    </tr>\n",
       "    <tr>\n",
       "      <th>98</th>\n",
       "      <td>113932.8</td>\n",
       "      <td>152861.0</td>\n",
       "      <td>131434.5</td>\n",
       "      <td>True</td>\n",
       "      <td>100</td>\n",
       "      <td>98</td>\n",
       "    </tr>\n",
       "    <tr>\n",
       "      <th>99</th>\n",
       "      <td>122196.0</td>\n",
       "      <td>164508.0</td>\n",
       "      <td>135178.5</td>\n",
       "      <td>True</td>\n",
       "      <td>100</td>\n",
       "      <td>99</td>\n",
       "    </tr>\n",
       "  </tbody>\n",
       "</table>\n",
       "<p>100 rows × 6 columns</p>\n",
       "</div>"
      ],
      "text/plain": [
       "       lower     upper    median   good sample size  Experiment\n",
       "0   163671.0  175097.0  169384.0  False           2           0\n",
       "1   111101.0  131476.0  121288.5  False           2           1\n",
       "2    18167.0  197150.0  107658.5   True           2           2\n",
       "3   105193.0  108886.0  107039.5  False           2           3\n",
       "4   180080.0  187795.0  183937.5  False           2           4\n",
       "..       ...       ...       ...    ...         ...         ...\n",
       "95  122116.0  148513.0  129850.5   True         100          95\n",
       "96  126108.0  166155.0  142092.0   True         100          96\n",
       "97  124539.0  159966.0  134663.5   True         100          97\n",
       "98  113932.8  152861.0  131434.5   True         100          98\n",
       "99  122196.0  164508.0  135178.5   True         100          99\n",
       "\n",
       "[100 rows x 6 columns]"
      ]
     },
     "execution_count": 48,
     "metadata": {},
     "output_type": "execute_result"
    }
   ],
   "source": [
    "intervals"
   ]
  },
  {
   "cell_type": "markdown",
   "metadata": {},
   "source": [
    "Here I render a plot of all the confidence intervals with the true value depicted as a solid vertical line.  "
   ]
  },
  {
   "cell_type": "code",
   "execution_count": 49,
   "metadata": {},
   "outputs": [
    {
     "data": {
      "application/vnd.plotly.v1+json": {
       "config": {
        "plotlyServerURL": "https://plot.ly"
       },
       "data": [
        {
         "error_x": {
          "array": [
           5713,
           10187.5,
           1846.5,
           3857.5,
           5225,
           22223.5,
           36067.5,
           13854,
           43001,
           64815.5,
           13985.5
          ],
          "arrayminus": [
           5713,
           10187.5,
           1846.5,
           3857.5,
           5225,
           22223.5,
           36067.5,
           13854,
           43001,
           64815.5,
           13985.5
          ]
         },
         "hovertemplate": "color=2<br>symbol=False<br>x=%{x}<br>y=%{y}<extra></extra>",
         "legendgroup": "2, False",
         "marker": {
          "color": "#636efa",
          "symbol": "circle-open"
         },
         "mode": "markers",
         "name": "2, False",
         "orientation": "v",
         "showlegend": true,
         "type": "scatter",
         "x": [
          169384,
          121288.5,
          107039.5,
          183937.5,
          97546,
          170955.5,
          81143.5,
          83343,
          81636,
          206957.5,
          98859.5
         ],
         "xaxis": "x",
         "y": [
          0,
          1,
          3,
          4,
          8,
          9,
          11,
          12,
          13,
          15,
          16
         ],
         "yaxis": "y"
        },
        {
         "error_x": {
          "array": [
           89491.5,
           63080,
           85875,
           5440,
           53169.5,
           29941.5,
           43342,
           18661,
           89780
          ],
          "arrayminus": [
           89491.5,
           63080,
           85875,
           5440,
           53169.5,
           29941.5,
           43342,
           18661,
           89780
          ]
         },
         "hovertemplate": "color=2<br>symbol=True<br>x=%{x}<br>y=%{y}<extra></extra>",
         "legendgroup": "2, True",
         "marker": {
          "color": "#636efa",
          "symbol": "circle"
         },
         "mode": "markers",
         "name": "2, True",
         "orientation": "v",
         "showlegend": true,
         "type": "scatter",
         "x": [
          107658.5,
          100087,
          188305,
          140017,
          182274.5,
          141971.5,
          114717,
          133351,
          122687
         ],
         "xaxis": "x",
         "y": [
          2,
          5,
          6,
          7,
          10,
          14,
          17,
          18,
          19
         ],
         "yaxis": "y"
        },
        {
         "error_x": {
          "array": [
           36187,
           12266
          ],
          "arrayminus": [
           54657.98749999999,
           28779
          ]
         },
         "hovertemplate": "color=8<br>symbol=False<br>x=%{x}<br>y=%{y}<extra></extra>",
         "legendgroup": "8, False",
         "marker": {
          "color": "#EF553B",
          "symbol": "circle-open"
         },
         "mode": "markers",
         "name": "8, False",
         "orientation": "v",
         "showlegend": true,
         "type": "scatter",
         "x": [
          94254,
          122742
         ],
         "xaxis": "x",
         "y": [
          22,
          34
         ],
         "yaxis": "y"
        },
        {
         "error_x": {
          "array": [
           42565.12499999977,
           19815,
           18117,
           41111.5,
           46984.5,
           77988,
           71657.5,
           20458.5,
           58049,
           50645,
           57382.5,
           80659.5,
           62546.5,
           45121.5,
           25880.5,
           28917.5,
           20549,
           33449.5
          ],
          "arrayminus": [
           56052.5,
           74221,
           122546,
           32716.5,
           69520.4,
           10838,
           22690.5,
           43804.9375,
           55417,
           48519.5,
           31571.5,
           28411,
           78986.5,
           19129,
           60990.5,
           18129,
           22523,
           59290.5
          ]
         },
         "hovertemplate": "color=8<br>symbol=True<br>x=%{x}<br>y=%{y}<extra></extra>",
         "legendgroup": "8, True",
         "marker": {
          "color": "#EF553B",
          "symbol": "circle"
         },
         "mode": "markers",
         "name": "8, True",
         "orientation": "v",
         "showlegend": true,
         "type": "scatter",
         "x": [
          150534.5,
          129634,
          181994,
          118834.5,
          141901.5,
          139779,
          112811.5,
          127877.5,
          171452,
          124140.5,
          130790.5,
          146949.5,
          153164.5,
          130693,
          111671.5,
          143443,
          126203,
          179880.5
         ],
         "xaxis": "x",
         "y": [
          20,
          21,
          23,
          24,
          25,
          26,
          27,
          28,
          29,
          30,
          31,
          32,
          33,
          35,
          36,
          37,
          38,
          39
         ],
         "yaxis": "y"
        },
        {
         "error_x": {
          "array": [
           25082,
           30328.699999999837,
           28271.09999999986
          ],
          "arrayminus": [
           24600,
           14633,
           38282.5
          ]
         },
         "hovertemplate": "color=16<br>symbol=False<br>x=%{x}<br>y=%{y}<extra></extra>",
         "legendgroup": "16, False",
         "marker": {
          "color": "#00cc96",
          "symbol": "circle-open"
         },
         "mode": "markers",
         "name": "16, False",
         "orientation": "v",
         "showlegend": true,
         "type": "scatter",
         "x": [
          169318,
          165405,
          106625.5
         ],
         "xaxis": "x",
         "y": [
          49,
          52,
          53
         ],
         "yaxis": "y"
        },
        {
         "error_x": {
          "array": [
           45983,
           33894.49999999997,
           58280,
           58386,
           33082,
           25034.5,
           15298.5,
           42441,
           95226.5,
           48475.5,
           41952,
           40132,
           24599.5,
           13416,
           24371.5,
           27105,
           51756
          ],
          "arrayminus": [
           50065,
           26646,
           14243.0625,
           11245,
           58027,
           39672.5,
           27481.5,
           45714,
           51124.5,
           17462,
           55401.3875,
           32215,
           19398.5,
           24896,
           39246.5,
           49117,
           30966
          ]
         },
         "hovertemplate": "color=16<br>symbol=True<br>x=%{x}<br>y=%{y}<extra></extra>",
         "legendgroup": "16, True",
         "marker": {
          "color": "#00cc96",
          "symbol": "circle"
         },
         "mode": "markers",
         "name": "16, True",
         "orientation": "v",
         "showlegend": true,
         "type": "scatter",
         "x": [
          118035,
          125811,
          129882.5,
          122022,
          150737,
          112341.5,
          131723.5,
          137278,
          107700.5,
          135589.5,
          137732.5,
          131080,
          133320.5,
          135832,
          159086.5,
          179009,
          139096
         ],
         "xaxis": "x",
         "y": [
          40,
          41,
          42,
          43,
          44,
          45,
          46,
          47,
          48,
          50,
          51,
          54,
          55,
          56,
          57,
          58,
          59
         ],
         "yaxis": "y"
        },
        {
         "error_x": {
          "array": [
           9507.5
          ],
          "arrayminus": [
           13960.300000000003
          ]
         },
         "hovertemplate": "color=50<br>symbol=False<br>x=%{x}<br>y=%{y}<extra></extra>",
         "legendgroup": "50, False",
         "marker": {
          "color": "#ab63fa",
          "symbol": "circle-open"
         },
         "mode": "markers",
         "name": "50, False",
         "orientation": "v",
         "showlegend": true,
         "type": "scatter",
         "x": [
          121076.5
         ],
         "xaxis": "x",
         "y": [
          78
         ],
         "yaxis": "y"
        },
        {
         "error_x": {
          "array": [
           12676.5,
           17159.962499999965,
           40493.69999999998,
           20912,
           24586.12499999994,
           12993.324999999983,
           17603,
           42053.5,
           25664.5,
           12626.049999999988,
           30964.79999999999,
           33072.1875,
           11211.5,
           20049.5,
           24622.5,
           28927.04999999999,
           36216.36249999996,
           52179.5,
           35345.5
          ],
          "arrayminus": [
           16499.34999999999,
           17367.237500000003,
           19981,
           22397.412500000006,
           13982.5,
           18779.34999999999,
           16199.5,
           26533,
           18012.5,
           10093.5,
           24697.625,
           28380,
           24418,
           30727.5,
           14264.5,
           14703.362500000003,
           9948,
           15441.5,
           14731
          ]
         },
         "hovertemplate": "color=50<br>symbol=True<br>x=%{x}<br>y=%{y}<extra></extra>",
         "legendgroup": "50, True",
         "marker": {
          "color": "#ab63fa",
          "symbol": "circle"
         },
         "mode": "markers",
         "name": "50, True",
         "orientation": "v",
         "showlegend": true,
         "type": "scatter",
         "x": [
          144791,
          137108,
          126805,
          129712,
          139008,
          140798,
          142753.5,
          148311.5,
          137755,
          140849.5,
          147783.5,
          138602,
          137867.5,
          151373,
          127899.5,
          127478.5,
          131049.5,
          133428,
          134936.5
         ],
         "xaxis": "x",
         "y": [
          60,
          61,
          62,
          63,
          64,
          65,
          66,
          67,
          68,
          69,
          70,
          71,
          72,
          73,
          74,
          75,
          76,
          77,
          79
         ],
         "yaxis": "y"
        },
        {
         "error_x": {
          "array": [
           7749.274999999994
          ],
          "arrayminus": [
           13200.5
          ]
         },
         "hovertemplate": "color=100<br>symbol=False<br>x=%{x}<br>y=%{y}<extra></extra>",
         "legendgroup": "100, False",
         "marker": {
          "color": "#FFA15A",
          "symbol": "circle-open"
         },
         "mode": "markers",
         "name": "100, False",
         "orientation": "v",
         "showlegend": true,
         "type": "scatter",
         "x": [
          128203.5
         ],
         "xaxis": "x",
         "y": [
          90
         ],
         "yaxis": "y"
        },
        {
         "error_x": {
          "array": [
           12025,
           18412.5,
           16822.5,
           13633.324999999983,
           22088.087499999965,
           22707.975000000006,
           14569.099999999977,
           11548.5,
           10214.5,
           15212.5,
           17807,
           6204,
           22196.5,
           11165,
           18662.5,
           24063,
           25302.5,
           21426.5,
           29329.5
          ],
          "arrayminus": [
           22636,
           13690,
           15195,
           12902.5,
           14772.5,
           23248.5,
           15461.5,
           13201.5,
           11587.949999999997,
           15138.5,
           13488,
           12227,
           12199,
           15152,
           7734.5,
           15984,
           10124.5,
           17501.699999999997,
           12982.5
          ]
         },
         "hovertemplate": "color=100<br>symbol=True<br>x=%{x}<br>y=%{y}<extra></extra>",
         "legendgroup": "100, True",
         "marker": {
          "color": "#FFA15A",
          "symbol": "circle"
         },
         "mode": "markers",
         "name": "100, True",
         "orientation": "v",
         "showlegend": true,
         "type": "scatter",
         "x": [
          133159,
          145980,
          139683,
          138614.5,
          129088.5,
          138661.5,
          132288.5,
          143906.5,
          134231.5,
          135853.5,
          127807,
          134784,
          136621,
          132869.5,
          129850.5,
          142092,
          134663.5,
          131434.5,
          135178.5
         ],
         "xaxis": "x",
         "y": [
          80,
          81,
          82,
          83,
          84,
          85,
          86,
          87,
          88,
          89,
          91,
          92,
          93,
          94,
          95,
          96,
          97,
          98,
          99
         ],
         "yaxis": "y"
        }
       ],
       "layout": {
        "height": 800,
        "legend": {
         "title": {
          "text": "color, symbol"
         },
         "tracegroupgap": 0
        },
        "margin": {
         "t": 60
        },
        "shapes": [
         {
          "type": "line",
          "x0": 136164,
          "x1": 136164,
          "xref": "x",
          "y0": 0,
          "y1": 1,
          "yref": "y domain"
         }
        ],
        "template": {
         "data": {
          "bar": [
           {
            "error_x": {
             "color": "#2a3f5f"
            },
            "error_y": {
             "color": "#2a3f5f"
            },
            "marker": {
             "line": {
              "color": "#E5ECF6",
              "width": 0.5
             },
             "pattern": {
              "fillmode": "overlay",
              "size": 10,
              "solidity": 0.2
             }
            },
            "type": "bar"
           }
          ],
          "barpolar": [
           {
            "marker": {
             "line": {
              "color": "#E5ECF6",
              "width": 0.5
             },
             "pattern": {
              "fillmode": "overlay",
              "size": 10,
              "solidity": 0.2
             }
            },
            "type": "barpolar"
           }
          ],
          "carpet": [
           {
            "aaxis": {
             "endlinecolor": "#2a3f5f",
             "gridcolor": "white",
             "linecolor": "white",
             "minorgridcolor": "white",
             "startlinecolor": "#2a3f5f"
            },
            "baxis": {
             "endlinecolor": "#2a3f5f",
             "gridcolor": "white",
             "linecolor": "white",
             "minorgridcolor": "white",
             "startlinecolor": "#2a3f5f"
            },
            "type": "carpet"
           }
          ],
          "choropleth": [
           {
            "colorbar": {
             "outlinewidth": 0,
             "ticks": ""
            },
            "type": "choropleth"
           }
          ],
          "contour": [
           {
            "colorbar": {
             "outlinewidth": 0,
             "ticks": ""
            },
            "colorscale": [
             [
              0,
              "#0d0887"
             ],
             [
              0.1111111111111111,
              "#46039f"
             ],
             [
              0.2222222222222222,
              "#7201a8"
             ],
             [
              0.3333333333333333,
              "#9c179e"
             ],
             [
              0.4444444444444444,
              "#bd3786"
             ],
             [
              0.5555555555555556,
              "#d8576b"
             ],
             [
              0.6666666666666666,
              "#ed7953"
             ],
             [
              0.7777777777777778,
              "#fb9f3a"
             ],
             [
              0.8888888888888888,
              "#fdca26"
             ],
             [
              1,
              "#f0f921"
             ]
            ],
            "type": "contour"
           }
          ],
          "contourcarpet": [
           {
            "colorbar": {
             "outlinewidth": 0,
             "ticks": ""
            },
            "type": "contourcarpet"
           }
          ],
          "heatmap": [
           {
            "colorbar": {
             "outlinewidth": 0,
             "ticks": ""
            },
            "colorscale": [
             [
              0,
              "#0d0887"
             ],
             [
              0.1111111111111111,
              "#46039f"
             ],
             [
              0.2222222222222222,
              "#7201a8"
             ],
             [
              0.3333333333333333,
              "#9c179e"
             ],
             [
              0.4444444444444444,
              "#bd3786"
             ],
             [
              0.5555555555555556,
              "#d8576b"
             ],
             [
              0.6666666666666666,
              "#ed7953"
             ],
             [
              0.7777777777777778,
              "#fb9f3a"
             ],
             [
              0.8888888888888888,
              "#fdca26"
             ],
             [
              1,
              "#f0f921"
             ]
            ],
            "type": "heatmap"
           }
          ],
          "heatmapgl": [
           {
            "colorbar": {
             "outlinewidth": 0,
             "ticks": ""
            },
            "colorscale": [
             [
              0,
              "#0d0887"
             ],
             [
              0.1111111111111111,
              "#46039f"
             ],
             [
              0.2222222222222222,
              "#7201a8"
             ],
             [
              0.3333333333333333,
              "#9c179e"
             ],
             [
              0.4444444444444444,
              "#bd3786"
             ],
             [
              0.5555555555555556,
              "#d8576b"
             ],
             [
              0.6666666666666666,
              "#ed7953"
             ],
             [
              0.7777777777777778,
              "#fb9f3a"
             ],
             [
              0.8888888888888888,
              "#fdca26"
             ],
             [
              1,
              "#f0f921"
             ]
            ],
            "type": "heatmapgl"
           }
          ],
          "histogram": [
           {
            "marker": {
             "pattern": {
              "fillmode": "overlay",
              "size": 10,
              "solidity": 0.2
             }
            },
            "type": "histogram"
           }
          ],
          "histogram2d": [
           {
            "colorbar": {
             "outlinewidth": 0,
             "ticks": ""
            },
            "colorscale": [
             [
              0,
              "#0d0887"
             ],
             [
              0.1111111111111111,
              "#46039f"
             ],
             [
              0.2222222222222222,
              "#7201a8"
             ],
             [
              0.3333333333333333,
              "#9c179e"
             ],
             [
              0.4444444444444444,
              "#bd3786"
             ],
             [
              0.5555555555555556,
              "#d8576b"
             ],
             [
              0.6666666666666666,
              "#ed7953"
             ],
             [
              0.7777777777777778,
              "#fb9f3a"
             ],
             [
              0.8888888888888888,
              "#fdca26"
             ],
             [
              1,
              "#f0f921"
             ]
            ],
            "type": "histogram2d"
           }
          ],
          "histogram2dcontour": [
           {
            "colorbar": {
             "outlinewidth": 0,
             "ticks": ""
            },
            "colorscale": [
             [
              0,
              "#0d0887"
             ],
             [
              0.1111111111111111,
              "#46039f"
             ],
             [
              0.2222222222222222,
              "#7201a8"
             ],
             [
              0.3333333333333333,
              "#9c179e"
             ],
             [
              0.4444444444444444,
              "#bd3786"
             ],
             [
              0.5555555555555556,
              "#d8576b"
             ],
             [
              0.6666666666666666,
              "#ed7953"
             ],
             [
              0.7777777777777778,
              "#fb9f3a"
             ],
             [
              0.8888888888888888,
              "#fdca26"
             ],
             [
              1,
              "#f0f921"
             ]
            ],
            "type": "histogram2dcontour"
           }
          ],
          "mesh3d": [
           {
            "colorbar": {
             "outlinewidth": 0,
             "ticks": ""
            },
            "type": "mesh3d"
           }
          ],
          "parcoords": [
           {
            "line": {
             "colorbar": {
              "outlinewidth": 0,
              "ticks": ""
             }
            },
            "type": "parcoords"
           }
          ],
          "pie": [
           {
            "automargin": true,
            "type": "pie"
           }
          ],
          "scatter": [
           {
            "marker": {
             "colorbar": {
              "outlinewidth": 0,
              "ticks": ""
             }
            },
            "type": "scatter"
           }
          ],
          "scatter3d": [
           {
            "line": {
             "colorbar": {
              "outlinewidth": 0,
              "ticks": ""
             }
            },
            "marker": {
             "colorbar": {
              "outlinewidth": 0,
              "ticks": ""
             }
            },
            "type": "scatter3d"
           }
          ],
          "scattercarpet": [
           {
            "marker": {
             "colorbar": {
              "outlinewidth": 0,
              "ticks": ""
             }
            },
            "type": "scattercarpet"
           }
          ],
          "scattergeo": [
           {
            "marker": {
             "colorbar": {
              "outlinewidth": 0,
              "ticks": ""
             }
            },
            "type": "scattergeo"
           }
          ],
          "scattergl": [
           {
            "marker": {
             "colorbar": {
              "outlinewidth": 0,
              "ticks": ""
             }
            },
            "type": "scattergl"
           }
          ],
          "scattermapbox": [
           {
            "marker": {
             "colorbar": {
              "outlinewidth": 0,
              "ticks": ""
             }
            },
            "type": "scattermapbox"
           }
          ],
          "scatterpolar": [
           {
            "marker": {
             "colorbar": {
              "outlinewidth": 0,
              "ticks": ""
             }
            },
            "type": "scatterpolar"
           }
          ],
          "scatterpolargl": [
           {
            "marker": {
             "colorbar": {
              "outlinewidth": 0,
              "ticks": ""
             }
            },
            "type": "scatterpolargl"
           }
          ],
          "scatterternary": [
           {
            "marker": {
             "colorbar": {
              "outlinewidth": 0,
              "ticks": ""
             }
            },
            "type": "scatterternary"
           }
          ],
          "surface": [
           {
            "colorbar": {
             "outlinewidth": 0,
             "ticks": ""
            },
            "colorscale": [
             [
              0,
              "#0d0887"
             ],
             [
              0.1111111111111111,
              "#46039f"
             ],
             [
              0.2222222222222222,
              "#7201a8"
             ],
             [
              0.3333333333333333,
              "#9c179e"
             ],
             [
              0.4444444444444444,
              "#bd3786"
             ],
             [
              0.5555555555555556,
              "#d8576b"
             ],
             [
              0.6666666666666666,
              "#ed7953"
             ],
             [
              0.7777777777777778,
              "#fb9f3a"
             ],
             [
              0.8888888888888888,
              "#fdca26"
             ],
             [
              1,
              "#f0f921"
             ]
            ],
            "type": "surface"
           }
          ],
          "table": [
           {
            "cells": {
             "fill": {
              "color": "#EBF0F8"
             },
             "line": {
              "color": "white"
             }
            },
            "header": {
             "fill": {
              "color": "#C8D4E3"
             },
             "line": {
              "color": "white"
             }
            },
            "type": "table"
           }
          ]
         },
         "layout": {
          "annotationdefaults": {
           "arrowcolor": "#2a3f5f",
           "arrowhead": 0,
           "arrowwidth": 1
          },
          "autotypenumbers": "strict",
          "coloraxis": {
           "colorbar": {
            "outlinewidth": 0,
            "ticks": ""
           }
          },
          "colorscale": {
           "diverging": [
            [
             0,
             "#8e0152"
            ],
            [
             0.1,
             "#c51b7d"
            ],
            [
             0.2,
             "#de77ae"
            ],
            [
             0.3,
             "#f1b6da"
            ],
            [
             0.4,
             "#fde0ef"
            ],
            [
             0.5,
             "#f7f7f7"
            ],
            [
             0.6,
             "#e6f5d0"
            ],
            [
             0.7,
             "#b8e186"
            ],
            [
             0.8,
             "#7fbc41"
            ],
            [
             0.9,
             "#4d9221"
            ],
            [
             1,
             "#276419"
            ]
           ],
           "sequential": [
            [
             0,
             "#0d0887"
            ],
            [
             0.1111111111111111,
             "#46039f"
            ],
            [
             0.2222222222222222,
             "#7201a8"
            ],
            [
             0.3333333333333333,
             "#9c179e"
            ],
            [
             0.4444444444444444,
             "#bd3786"
            ],
            [
             0.5555555555555556,
             "#d8576b"
            ],
            [
             0.6666666666666666,
             "#ed7953"
            ],
            [
             0.7777777777777778,
             "#fb9f3a"
            ],
            [
             0.8888888888888888,
             "#fdca26"
            ],
            [
             1,
             "#f0f921"
            ]
           ],
           "sequentialminus": [
            [
             0,
             "#0d0887"
            ],
            [
             0.1111111111111111,
             "#46039f"
            ],
            [
             0.2222222222222222,
             "#7201a8"
            ],
            [
             0.3333333333333333,
             "#9c179e"
            ],
            [
             0.4444444444444444,
             "#bd3786"
            ],
            [
             0.5555555555555556,
             "#d8576b"
            ],
            [
             0.6666666666666666,
             "#ed7953"
            ],
            [
             0.7777777777777778,
             "#fb9f3a"
            ],
            [
             0.8888888888888888,
             "#fdca26"
            ],
            [
             1,
             "#f0f921"
            ]
           ]
          },
          "colorway": [
           "#636efa",
           "#EF553B",
           "#00cc96",
           "#ab63fa",
           "#FFA15A",
           "#19d3f3",
           "#FF6692",
           "#B6E880",
           "#FF97FF",
           "#FECB52"
          ],
          "font": {
           "color": "#2a3f5f"
          },
          "geo": {
           "bgcolor": "white",
           "lakecolor": "white",
           "landcolor": "#E5ECF6",
           "showlakes": true,
           "showland": true,
           "subunitcolor": "white"
          },
          "hoverlabel": {
           "align": "left"
          },
          "hovermode": "closest",
          "mapbox": {
           "style": "light"
          },
          "paper_bgcolor": "white",
          "plot_bgcolor": "#E5ECF6",
          "polar": {
           "angularaxis": {
            "gridcolor": "white",
            "linecolor": "white",
            "ticks": ""
           },
           "bgcolor": "#E5ECF6",
           "radialaxis": {
            "gridcolor": "white",
            "linecolor": "white",
            "ticks": ""
           }
          },
          "scene": {
           "xaxis": {
            "backgroundcolor": "#E5ECF6",
            "gridcolor": "white",
            "gridwidth": 2,
            "linecolor": "white",
            "showbackground": true,
            "ticks": "",
            "zerolinecolor": "white"
           },
           "yaxis": {
            "backgroundcolor": "#E5ECF6",
            "gridcolor": "white",
            "gridwidth": 2,
            "linecolor": "white",
            "showbackground": true,
            "ticks": "",
            "zerolinecolor": "white"
           },
           "zaxis": {
            "backgroundcolor": "#E5ECF6",
            "gridcolor": "white",
            "gridwidth": 2,
            "linecolor": "white",
            "showbackground": true,
            "ticks": "",
            "zerolinecolor": "white"
           }
          },
          "shapedefaults": {
           "line": {
            "color": "#2a3f5f"
           }
          },
          "ternary": {
           "aaxis": {
            "gridcolor": "white",
            "linecolor": "white",
            "ticks": ""
           },
           "baxis": {
            "gridcolor": "white",
            "linecolor": "white",
            "ticks": ""
           },
           "bgcolor": "#E5ECF6",
           "caxis": {
            "gridcolor": "white",
            "linecolor": "white",
            "ticks": ""
           }
          },
          "title": {
           "x": 0.05
          },
          "xaxis": {
           "automargin": true,
           "gridcolor": "white",
           "linecolor": "white",
           "ticks": "",
           "title": {
            "standoff": 15
           },
           "zerolinecolor": "white",
           "zerolinewidth": 2
          },
          "yaxis": {
           "automargin": true,
           "gridcolor": "white",
           "linecolor": "white",
           "ticks": "",
           "title": {
            "standoff": 15
           },
           "zerolinecolor": "white",
           "zerolinewidth": 2
          }
         }
        },
        "xaxis": {
         "anchor": "y",
         "domain": [
          0,
          1
         ],
         "title": {
          "text": "x"
         }
        },
        "yaxis": {
         "anchor": "x",
         "domain": [
          0,
          1
         ],
         "title": {
          "text": "y"
         }
        }
       }
      },
      "text/html": [
       "<div>                            <div id=\"28289ff2-4825-4dcf-ab7a-353d3fee0fc2\" class=\"plotly-graph-div\" style=\"height:800px; width:100%;\"></div>            <script type=\"text/javascript\">                require([\"plotly\"], function(Plotly) {                    window.PLOTLYENV=window.PLOTLYENV || {};                                    if (document.getElementById(\"28289ff2-4825-4dcf-ab7a-353d3fee0fc2\")) {                    Plotly.newPlot(                        \"28289ff2-4825-4dcf-ab7a-353d3fee0fc2\",                        [{\"error_x\":{\"array\":[5713.0,10187.5,1846.5,3857.5,5225.0,22223.5,36067.5,13854.0,43001.0,64815.5,13985.5],\"arrayminus\":[5713.0,10187.5,1846.5,3857.5,5225.0,22223.5,36067.5,13854.0,43001.0,64815.5,13985.5]},\"hovertemplate\":\"color=2<br>symbol=False<br>x=%{x}<br>y=%{y}<extra></extra>\",\"legendgroup\":\"2, False\",\"marker\":{\"color\":\"#636efa\",\"symbol\":\"circle-open\"},\"mode\":\"markers\",\"name\":\"2, False\",\"orientation\":\"v\",\"showlegend\":true,\"x\":[169384.0,121288.5,107039.5,183937.5,97546.0,170955.5,81143.5,83343.0,81636.0,206957.5,98859.5],\"xaxis\":\"x\",\"y\":[0,1,3,4,8,9,11,12,13,15,16],\"yaxis\":\"y\",\"type\":\"scatter\"},{\"error_x\":{\"array\":[89491.5,63080.0,85875.0,5440.0,53169.5,29941.5,43342.0,18661.0,89780.0],\"arrayminus\":[89491.5,63080.0,85875.0,5440.0,53169.5,29941.5,43342.0,18661.0,89780.0]},\"hovertemplate\":\"color=2<br>symbol=True<br>x=%{x}<br>y=%{y}<extra></extra>\",\"legendgroup\":\"2, True\",\"marker\":{\"color\":\"#636efa\",\"symbol\":\"circle\"},\"mode\":\"markers\",\"name\":\"2, True\",\"orientation\":\"v\",\"showlegend\":true,\"x\":[107658.5,100087.0,188305.0,140017.0,182274.5,141971.5,114717.0,133351.0,122687.0],\"xaxis\":\"x\",\"y\":[2,5,6,7,10,14,17,18,19],\"yaxis\":\"y\",\"type\":\"scatter\"},{\"error_x\":{\"array\":[36187.0,12266.0],\"arrayminus\":[54657.98749999999,28779.0]},\"hovertemplate\":\"color=8<br>symbol=False<br>x=%{x}<br>y=%{y}<extra></extra>\",\"legendgroup\":\"8, False\",\"marker\":{\"color\":\"#EF553B\",\"symbol\":\"circle-open\"},\"mode\":\"markers\",\"name\":\"8, False\",\"orientation\":\"v\",\"showlegend\":true,\"x\":[94254.0,122742.0],\"xaxis\":\"x\",\"y\":[22,34],\"yaxis\":\"y\",\"type\":\"scatter\"},{\"error_x\":{\"array\":[42565.12499999977,19815.0,18117.0,41111.5,46984.5,77988.0,71657.5,20458.5,58049.0,50645.0,57382.5,80659.5,62546.5,45121.5,25880.5,28917.5,20549.0,33449.5],\"arrayminus\":[56052.5,74221.0,122546.0,32716.5,69520.4,10838.0,22690.5,43804.9375,55417.0,48519.5,31571.5,28411.0,78986.5,19129.0,60990.5,18129.0,22523.0,59290.5]},\"hovertemplate\":\"color=8<br>symbol=True<br>x=%{x}<br>y=%{y}<extra></extra>\",\"legendgroup\":\"8, True\",\"marker\":{\"color\":\"#EF553B\",\"symbol\":\"circle\"},\"mode\":\"markers\",\"name\":\"8, True\",\"orientation\":\"v\",\"showlegend\":true,\"x\":[150534.5,129634.0,181994.0,118834.5,141901.5,139779.0,112811.5,127877.5,171452.0,124140.5,130790.5,146949.5,153164.5,130693.0,111671.5,143443.0,126203.0,179880.5],\"xaxis\":\"x\",\"y\":[20,21,23,24,25,26,27,28,29,30,31,32,33,35,36,37,38,39],\"yaxis\":\"y\",\"type\":\"scatter\"},{\"error_x\":{\"array\":[25082.0,30328.699999999837,28271.09999999986],\"arrayminus\":[24600.0,14633.0,38282.5]},\"hovertemplate\":\"color=16<br>symbol=False<br>x=%{x}<br>y=%{y}<extra></extra>\",\"legendgroup\":\"16, False\",\"marker\":{\"color\":\"#00cc96\",\"symbol\":\"circle-open\"},\"mode\":\"markers\",\"name\":\"16, False\",\"orientation\":\"v\",\"showlegend\":true,\"x\":[169318.0,165405.0,106625.5],\"xaxis\":\"x\",\"y\":[49,52,53],\"yaxis\":\"y\",\"type\":\"scatter\"},{\"error_x\":{\"array\":[45983.0,33894.49999999997,58280.0,58386.0,33082.0,25034.5,15298.5,42441.0,95226.5,48475.5,41952.0,40132.0,24599.5,13416.0,24371.5,27105.0,51756.0],\"arrayminus\":[50065.0,26646.0,14243.0625,11245.0,58027.0,39672.5,27481.5,45714.0,51124.5,17462.0,55401.3875,32215.0,19398.5,24896.0,39246.5,49117.0,30966.0]},\"hovertemplate\":\"color=16<br>symbol=True<br>x=%{x}<br>y=%{y}<extra></extra>\",\"legendgroup\":\"16, True\",\"marker\":{\"color\":\"#00cc96\",\"symbol\":\"circle\"},\"mode\":\"markers\",\"name\":\"16, True\",\"orientation\":\"v\",\"showlegend\":true,\"x\":[118035.0,125811.0,129882.5,122022.0,150737.0,112341.5,131723.5,137278.0,107700.5,135589.5,137732.5,131080.0,133320.5,135832.0,159086.5,179009.0,139096.0],\"xaxis\":\"x\",\"y\":[40,41,42,43,44,45,46,47,48,50,51,54,55,56,57,58,59],\"yaxis\":\"y\",\"type\":\"scatter\"},{\"error_x\":{\"array\":[9507.5],\"arrayminus\":[13960.300000000003]},\"hovertemplate\":\"color=50<br>symbol=False<br>x=%{x}<br>y=%{y}<extra></extra>\",\"legendgroup\":\"50, False\",\"marker\":{\"color\":\"#ab63fa\",\"symbol\":\"circle-open\"},\"mode\":\"markers\",\"name\":\"50, False\",\"orientation\":\"v\",\"showlegend\":true,\"x\":[121076.5],\"xaxis\":\"x\",\"y\":[78],\"yaxis\":\"y\",\"type\":\"scatter\"},{\"error_x\":{\"array\":[12676.5,17159.962499999965,40493.69999999998,20912.0,24586.12499999994,12993.324999999983,17603.0,42053.5,25664.5,12626.049999999988,30964.79999999999,33072.1875,11211.5,20049.5,24622.5,28927.04999999999,36216.36249999996,52179.5,35345.5],\"arrayminus\":[16499.34999999999,17367.237500000003,19981.0,22397.412500000006,13982.5,18779.34999999999,16199.5,26533.0,18012.5,10093.5,24697.625,28380.0,24418.0,30727.5,14264.5,14703.362500000003,9948.0,15441.5,14731.0]},\"hovertemplate\":\"color=50<br>symbol=True<br>x=%{x}<br>y=%{y}<extra></extra>\",\"legendgroup\":\"50, True\",\"marker\":{\"color\":\"#ab63fa\",\"symbol\":\"circle\"},\"mode\":\"markers\",\"name\":\"50, True\",\"orientation\":\"v\",\"showlegend\":true,\"x\":[144791.0,137108.0,126805.0,129712.0,139008.0,140798.0,142753.5,148311.5,137755.0,140849.5,147783.5,138602.0,137867.5,151373.0,127899.5,127478.5,131049.5,133428.0,134936.5],\"xaxis\":\"x\",\"y\":[60,61,62,63,64,65,66,67,68,69,70,71,72,73,74,75,76,77,79],\"yaxis\":\"y\",\"type\":\"scatter\"},{\"error_x\":{\"array\":[7749.274999999994],\"arrayminus\":[13200.5]},\"hovertemplate\":\"color=100<br>symbol=False<br>x=%{x}<br>y=%{y}<extra></extra>\",\"legendgroup\":\"100, False\",\"marker\":{\"color\":\"#FFA15A\",\"symbol\":\"circle-open\"},\"mode\":\"markers\",\"name\":\"100, False\",\"orientation\":\"v\",\"showlegend\":true,\"x\":[128203.5],\"xaxis\":\"x\",\"y\":[90],\"yaxis\":\"y\",\"type\":\"scatter\"},{\"error_x\":{\"array\":[12025.0,18412.5,16822.5,13633.324999999983,22088.087499999965,22707.975000000006,14569.099999999977,11548.5,10214.5,15212.5,17807.0,6204.0,22196.5,11165.0,18662.5,24063.0,25302.5,21426.5,29329.5],\"arrayminus\":[22636.0,13690.0,15195.0,12902.5,14772.5,23248.5,15461.5,13201.5,11587.949999999997,15138.5,13488.0,12227.0,12199.0,15152.0,7734.5,15984.0,10124.5,17501.699999999997,12982.5]},\"hovertemplate\":\"color=100<br>symbol=True<br>x=%{x}<br>y=%{y}<extra></extra>\",\"legendgroup\":\"100, True\",\"marker\":{\"color\":\"#FFA15A\",\"symbol\":\"circle\"},\"mode\":\"markers\",\"name\":\"100, True\",\"orientation\":\"v\",\"showlegend\":true,\"x\":[133159.0,145980.0,139683.0,138614.5,129088.5,138661.5,132288.5,143906.5,134231.5,135853.5,127807.0,134784.0,136621.0,132869.5,129850.5,142092.0,134663.5,131434.5,135178.5],\"xaxis\":\"x\",\"y\":[80,81,82,83,84,85,86,87,88,89,91,92,93,94,95,96,97,98,99],\"yaxis\":\"y\",\"type\":\"scatter\"}],                        {\"template\":{\"data\":{\"bar\":[{\"error_x\":{\"color\":\"#2a3f5f\"},\"error_y\":{\"color\":\"#2a3f5f\"},\"marker\":{\"line\":{\"color\":\"#E5ECF6\",\"width\":0.5},\"pattern\":{\"fillmode\":\"overlay\",\"size\":10,\"solidity\":0.2}},\"type\":\"bar\"}],\"barpolar\":[{\"marker\":{\"line\":{\"color\":\"#E5ECF6\",\"width\":0.5},\"pattern\":{\"fillmode\":\"overlay\",\"size\":10,\"solidity\":0.2}},\"type\":\"barpolar\"}],\"carpet\":[{\"aaxis\":{\"endlinecolor\":\"#2a3f5f\",\"gridcolor\":\"white\",\"linecolor\":\"white\",\"minorgridcolor\":\"white\",\"startlinecolor\":\"#2a3f5f\"},\"baxis\":{\"endlinecolor\":\"#2a3f5f\",\"gridcolor\":\"white\",\"linecolor\":\"white\",\"minorgridcolor\":\"white\",\"startlinecolor\":\"#2a3f5f\"},\"type\":\"carpet\"}],\"choropleth\":[{\"colorbar\":{\"outlinewidth\":0,\"ticks\":\"\"},\"type\":\"choropleth\"}],\"contour\":[{\"colorbar\":{\"outlinewidth\":0,\"ticks\":\"\"},\"colorscale\":[[0.0,\"#0d0887\"],[0.1111111111111111,\"#46039f\"],[0.2222222222222222,\"#7201a8\"],[0.3333333333333333,\"#9c179e\"],[0.4444444444444444,\"#bd3786\"],[0.5555555555555556,\"#d8576b\"],[0.6666666666666666,\"#ed7953\"],[0.7777777777777778,\"#fb9f3a\"],[0.8888888888888888,\"#fdca26\"],[1.0,\"#f0f921\"]],\"type\":\"contour\"}],\"contourcarpet\":[{\"colorbar\":{\"outlinewidth\":0,\"ticks\":\"\"},\"type\":\"contourcarpet\"}],\"heatmap\":[{\"colorbar\":{\"outlinewidth\":0,\"ticks\":\"\"},\"colorscale\":[[0.0,\"#0d0887\"],[0.1111111111111111,\"#46039f\"],[0.2222222222222222,\"#7201a8\"],[0.3333333333333333,\"#9c179e\"],[0.4444444444444444,\"#bd3786\"],[0.5555555555555556,\"#d8576b\"],[0.6666666666666666,\"#ed7953\"],[0.7777777777777778,\"#fb9f3a\"],[0.8888888888888888,\"#fdca26\"],[1.0,\"#f0f921\"]],\"type\":\"heatmap\"}],\"heatmapgl\":[{\"colorbar\":{\"outlinewidth\":0,\"ticks\":\"\"},\"colorscale\":[[0.0,\"#0d0887\"],[0.1111111111111111,\"#46039f\"],[0.2222222222222222,\"#7201a8\"],[0.3333333333333333,\"#9c179e\"],[0.4444444444444444,\"#bd3786\"],[0.5555555555555556,\"#d8576b\"],[0.6666666666666666,\"#ed7953\"],[0.7777777777777778,\"#fb9f3a\"],[0.8888888888888888,\"#fdca26\"],[1.0,\"#f0f921\"]],\"type\":\"heatmapgl\"}],\"histogram\":[{\"marker\":{\"pattern\":{\"fillmode\":\"overlay\",\"size\":10,\"solidity\":0.2}},\"type\":\"histogram\"}],\"histogram2d\":[{\"colorbar\":{\"outlinewidth\":0,\"ticks\":\"\"},\"colorscale\":[[0.0,\"#0d0887\"],[0.1111111111111111,\"#46039f\"],[0.2222222222222222,\"#7201a8\"],[0.3333333333333333,\"#9c179e\"],[0.4444444444444444,\"#bd3786\"],[0.5555555555555556,\"#d8576b\"],[0.6666666666666666,\"#ed7953\"],[0.7777777777777778,\"#fb9f3a\"],[0.8888888888888888,\"#fdca26\"],[1.0,\"#f0f921\"]],\"type\":\"histogram2d\"}],\"histogram2dcontour\":[{\"colorbar\":{\"outlinewidth\":0,\"ticks\":\"\"},\"colorscale\":[[0.0,\"#0d0887\"],[0.1111111111111111,\"#46039f\"],[0.2222222222222222,\"#7201a8\"],[0.3333333333333333,\"#9c179e\"],[0.4444444444444444,\"#bd3786\"],[0.5555555555555556,\"#d8576b\"],[0.6666666666666666,\"#ed7953\"],[0.7777777777777778,\"#fb9f3a\"],[0.8888888888888888,\"#fdca26\"],[1.0,\"#f0f921\"]],\"type\":\"histogram2dcontour\"}],\"mesh3d\":[{\"colorbar\":{\"outlinewidth\":0,\"ticks\":\"\"},\"type\":\"mesh3d\"}],\"parcoords\":[{\"line\":{\"colorbar\":{\"outlinewidth\":0,\"ticks\":\"\"}},\"type\":\"parcoords\"}],\"pie\":[{\"automargin\":true,\"type\":\"pie\"}],\"scatter\":[{\"marker\":{\"colorbar\":{\"outlinewidth\":0,\"ticks\":\"\"}},\"type\":\"scatter\"}],\"scatter3d\":[{\"line\":{\"colorbar\":{\"outlinewidth\":0,\"ticks\":\"\"}},\"marker\":{\"colorbar\":{\"outlinewidth\":0,\"ticks\":\"\"}},\"type\":\"scatter3d\"}],\"scattercarpet\":[{\"marker\":{\"colorbar\":{\"outlinewidth\":0,\"ticks\":\"\"}},\"type\":\"scattercarpet\"}],\"scattergeo\":[{\"marker\":{\"colorbar\":{\"outlinewidth\":0,\"ticks\":\"\"}},\"type\":\"scattergeo\"}],\"scattergl\":[{\"marker\":{\"colorbar\":{\"outlinewidth\":0,\"ticks\":\"\"}},\"type\":\"scattergl\"}],\"scattermapbox\":[{\"marker\":{\"colorbar\":{\"outlinewidth\":0,\"ticks\":\"\"}},\"type\":\"scattermapbox\"}],\"scatterpolar\":[{\"marker\":{\"colorbar\":{\"outlinewidth\":0,\"ticks\":\"\"}},\"type\":\"scatterpolar\"}],\"scatterpolargl\":[{\"marker\":{\"colorbar\":{\"outlinewidth\":0,\"ticks\":\"\"}},\"type\":\"scatterpolargl\"}],\"scatterternary\":[{\"marker\":{\"colorbar\":{\"outlinewidth\":0,\"ticks\":\"\"}},\"type\":\"scatterternary\"}],\"surface\":[{\"colorbar\":{\"outlinewidth\":0,\"ticks\":\"\"},\"colorscale\":[[0.0,\"#0d0887\"],[0.1111111111111111,\"#46039f\"],[0.2222222222222222,\"#7201a8\"],[0.3333333333333333,\"#9c179e\"],[0.4444444444444444,\"#bd3786\"],[0.5555555555555556,\"#d8576b\"],[0.6666666666666666,\"#ed7953\"],[0.7777777777777778,\"#fb9f3a\"],[0.8888888888888888,\"#fdca26\"],[1.0,\"#f0f921\"]],\"type\":\"surface\"}],\"table\":[{\"cells\":{\"fill\":{\"color\":\"#EBF0F8\"},\"line\":{\"color\":\"white\"}},\"header\":{\"fill\":{\"color\":\"#C8D4E3\"},\"line\":{\"color\":\"white\"}},\"type\":\"table\"}]},\"layout\":{\"annotationdefaults\":{\"arrowcolor\":\"#2a3f5f\",\"arrowhead\":0,\"arrowwidth\":1},\"autotypenumbers\":\"strict\",\"coloraxis\":{\"colorbar\":{\"outlinewidth\":0,\"ticks\":\"\"}},\"colorscale\":{\"diverging\":[[0,\"#8e0152\"],[0.1,\"#c51b7d\"],[0.2,\"#de77ae\"],[0.3,\"#f1b6da\"],[0.4,\"#fde0ef\"],[0.5,\"#f7f7f7\"],[0.6,\"#e6f5d0\"],[0.7,\"#b8e186\"],[0.8,\"#7fbc41\"],[0.9,\"#4d9221\"],[1,\"#276419\"]],\"sequential\":[[0.0,\"#0d0887\"],[0.1111111111111111,\"#46039f\"],[0.2222222222222222,\"#7201a8\"],[0.3333333333333333,\"#9c179e\"],[0.4444444444444444,\"#bd3786\"],[0.5555555555555556,\"#d8576b\"],[0.6666666666666666,\"#ed7953\"],[0.7777777777777778,\"#fb9f3a\"],[0.8888888888888888,\"#fdca26\"],[1.0,\"#f0f921\"]],\"sequentialminus\":[[0.0,\"#0d0887\"],[0.1111111111111111,\"#46039f\"],[0.2222222222222222,\"#7201a8\"],[0.3333333333333333,\"#9c179e\"],[0.4444444444444444,\"#bd3786\"],[0.5555555555555556,\"#d8576b\"],[0.6666666666666666,\"#ed7953\"],[0.7777777777777778,\"#fb9f3a\"],[0.8888888888888888,\"#fdca26\"],[1.0,\"#f0f921\"]]},\"colorway\":[\"#636efa\",\"#EF553B\",\"#00cc96\",\"#ab63fa\",\"#FFA15A\",\"#19d3f3\",\"#FF6692\",\"#B6E880\",\"#FF97FF\",\"#FECB52\"],\"font\":{\"color\":\"#2a3f5f\"},\"geo\":{\"bgcolor\":\"white\",\"lakecolor\":\"white\",\"landcolor\":\"#E5ECF6\",\"showlakes\":true,\"showland\":true,\"subunitcolor\":\"white\"},\"hoverlabel\":{\"align\":\"left\"},\"hovermode\":\"closest\",\"mapbox\":{\"style\":\"light\"},\"paper_bgcolor\":\"white\",\"plot_bgcolor\":\"#E5ECF6\",\"polar\":{\"angularaxis\":{\"gridcolor\":\"white\",\"linecolor\":\"white\",\"ticks\":\"\"},\"bgcolor\":\"#E5ECF6\",\"radialaxis\":{\"gridcolor\":\"white\",\"linecolor\":\"white\",\"ticks\":\"\"}},\"scene\":{\"xaxis\":{\"backgroundcolor\":\"#E5ECF6\",\"gridcolor\":\"white\",\"gridwidth\":2,\"linecolor\":\"white\",\"showbackground\":true,\"ticks\":\"\",\"zerolinecolor\":\"white\"},\"yaxis\":{\"backgroundcolor\":\"#E5ECF6\",\"gridcolor\":\"white\",\"gridwidth\":2,\"linecolor\":\"white\",\"showbackground\":true,\"ticks\":\"\",\"zerolinecolor\":\"white\"},\"zaxis\":{\"backgroundcolor\":\"#E5ECF6\",\"gridcolor\":\"white\",\"gridwidth\":2,\"linecolor\":\"white\",\"showbackground\":true,\"ticks\":\"\",\"zerolinecolor\":\"white\"}},\"shapedefaults\":{\"line\":{\"color\":\"#2a3f5f\"}},\"ternary\":{\"aaxis\":{\"gridcolor\":\"white\",\"linecolor\":\"white\",\"ticks\":\"\"},\"baxis\":{\"gridcolor\":\"white\",\"linecolor\":\"white\",\"ticks\":\"\"},\"bgcolor\":\"#E5ECF6\",\"caxis\":{\"gridcolor\":\"white\",\"linecolor\":\"white\",\"ticks\":\"\"}},\"title\":{\"x\":0.05},\"xaxis\":{\"automargin\":true,\"gridcolor\":\"white\",\"linecolor\":\"white\",\"ticks\":\"\",\"title\":{\"standoff\":15},\"zerolinecolor\":\"white\",\"zerolinewidth\":2},\"yaxis\":{\"automargin\":true,\"gridcolor\":\"white\",\"linecolor\":\"white\",\"ticks\":\"\",\"title\":{\"standoff\":15},\"zerolinecolor\":\"white\",\"zerolinewidth\":2}}},\"xaxis\":{\"anchor\":\"y\",\"domain\":[0.0,1.0],\"title\":{\"text\":\"x\"}},\"yaxis\":{\"anchor\":\"x\",\"domain\":[0.0,1.0],\"title\":{\"text\":\"y\"}},\"legend\":{\"title\":{\"text\":\"color, symbol\"},\"tracegroupgap\":0},\"margin\":{\"t\":60},\"height\":800,\"shapes\":[{\"type\":\"line\",\"x0\":136164.0,\"x1\":136164.0,\"xref\":\"x\",\"y0\":0,\"y1\":1,\"yref\":\"y domain\"}]},                        {\"responsive\": true}                    ).then(function(){\n",
       "                            \n",
       "var gd = document.getElementById('28289ff2-4825-4dcf-ab7a-353d3fee0fc2');\n",
       "var x = new MutationObserver(function (mutations, observer) {{\n",
       "        var display = window.getComputedStyle(gd).display;\n",
       "        if (!display || display === 'none') {{\n",
       "            console.log([gd, 'removed!']);\n",
       "            Plotly.purge(gd);\n",
       "            observer.disconnect();\n",
       "        }}\n",
       "}});\n",
       "\n",
       "// Listen for the removal of the full notebook cells\n",
       "var notebookContainer = gd.closest('#notebook-container');\n",
       "if (notebookContainer) {{\n",
       "    x.observe(notebookContainer, {childList: true});\n",
       "}}\n",
       "\n",
       "// Listen for the clearing of the current output cell\n",
       "var outputEl = gd.closest('.output');\n",
       "if (outputEl) {{\n",
       "    x.observe(outputEl, {childList: true});\n",
       "}}\n",
       "\n",
       "                        })                };                });            </script>        </div>"
      ]
     },
     "metadata": {},
     "output_type": "display_data"
    }
   ],
   "source": [
    "import plotly.express as px\n",
    "\n",
    "# Plotly will draw error bars which are the distance in each direction\n",
    "# from the median\n",
    "intervals[\"error_left\"] = intervals[\"median\"]-intervals[\"lower\"]\n",
    "intervals[\"error_right\"] = intervals[\"upper\"]-intervals[\"median\"]\n",
    "\n",
    "\n",
    "# Making the plot\n",
    "fig = px.scatter(\n",
    "    x=intervals[\"median\"], # X location of my interval center dot\n",
    "    y=intervals[\"Experiment\"], # Y location of my interval center dot \n",
    "    color=intervals[\"sample size\"], # The color to use.\n",
    "    symbol=intervals[\"good\"], # The column to use for the symbol\n",
    "    symbol_map={True: \"circle\", False: \"circle-open\"},\n",
    "    error_x=intervals[\"error_right\"], # upper error bar size\n",
    "    error_x_minus=intervals[\"error_left\"], # lower error bar size\n",
    "    height=800)\n",
    "fig.add_vline(pop_median)"
   ]
  },
  {
   "cell_type": "markdown",
   "metadata": {},
   "source": [
    "<br><br><br><br>\n",
    "\n",
    "---\n",
    "\n",
    "Return to Slides\n",
    "\n",
    "---\n",
    "\n",
    "<br><br><br><br>\n"
   ]
  },
  {
   "cell_type": "markdown",
   "metadata": {},
   "source": [
    "## Confidence Interval for Unknown Population Mean\n",
    "\n",
    "Now let's look at a more appropriate use of the bootstrap (when we don't have the population).  The baby table from prior lecture had a random sample of moms."
   ]
  },
  {
   "cell_type": "code",
   "execution_count": 18,
   "metadata": {},
   "outputs": [
    {
     "data": {
      "text/html": [
       "<div>\n",
       "<style scoped>\n",
       "    .dataframe tbody tr th:only-of-type {\n",
       "        vertical-align: middle;\n",
       "    }\n",
       "\n",
       "    .dataframe tbody tr th {\n",
       "        vertical-align: top;\n",
       "    }\n",
       "\n",
       "    .dataframe thead th {\n",
       "        text-align: right;\n",
       "    }\n",
       "</style>\n",
       "<table border=\"1\" class=\"dataframe\">\n",
       "  <thead>\n",
       "    <tr style=\"text-align: right;\">\n",
       "      <th></th>\n",
       "      <th>Birth Weight</th>\n",
       "      <th>Gestational Days</th>\n",
       "      <th>Maternal Age</th>\n",
       "      <th>Maternal Height</th>\n",
       "      <th>Maternal Pregnancy Weight</th>\n",
       "      <th>Maternal Smoker</th>\n",
       "    </tr>\n",
       "  </thead>\n",
       "  <tbody>\n",
       "    <tr>\n",
       "      <th>0</th>\n",
       "      <td>120</td>\n",
       "      <td>284</td>\n",
       "      <td>27</td>\n",
       "      <td>62</td>\n",
       "      <td>100</td>\n",
       "      <td>False</td>\n",
       "    </tr>\n",
       "    <tr>\n",
       "      <th>1</th>\n",
       "      <td>113</td>\n",
       "      <td>282</td>\n",
       "      <td>33</td>\n",
       "      <td>64</td>\n",
       "      <td>135</td>\n",
       "      <td>False</td>\n",
       "    </tr>\n",
       "    <tr>\n",
       "      <th>2</th>\n",
       "      <td>128</td>\n",
       "      <td>279</td>\n",
       "      <td>28</td>\n",
       "      <td>64</td>\n",
       "      <td>115</td>\n",
       "      <td>True</td>\n",
       "    </tr>\n",
       "    <tr>\n",
       "      <th>3</th>\n",
       "      <td>108</td>\n",
       "      <td>282</td>\n",
       "      <td>23</td>\n",
       "      <td>67</td>\n",
       "      <td>125</td>\n",
       "      <td>True</td>\n",
       "    </tr>\n",
       "    <tr>\n",
       "      <th>4</th>\n",
       "      <td>136</td>\n",
       "      <td>286</td>\n",
       "      <td>25</td>\n",
       "      <td>62</td>\n",
       "      <td>93</td>\n",
       "      <td>False</td>\n",
       "    </tr>\n",
       "    <tr>\n",
       "      <th>...</th>\n",
       "      <td>...</td>\n",
       "      <td>...</td>\n",
       "      <td>...</td>\n",
       "      <td>...</td>\n",
       "      <td>...</td>\n",
       "      <td>...</td>\n",
       "    </tr>\n",
       "    <tr>\n",
       "      <th>1169</th>\n",
       "      <td>113</td>\n",
       "      <td>275</td>\n",
       "      <td>27</td>\n",
       "      <td>60</td>\n",
       "      <td>100</td>\n",
       "      <td>False</td>\n",
       "    </tr>\n",
       "    <tr>\n",
       "      <th>1170</th>\n",
       "      <td>128</td>\n",
       "      <td>265</td>\n",
       "      <td>24</td>\n",
       "      <td>67</td>\n",
       "      <td>120</td>\n",
       "      <td>False</td>\n",
       "    </tr>\n",
       "    <tr>\n",
       "      <th>1171</th>\n",
       "      <td>130</td>\n",
       "      <td>291</td>\n",
       "      <td>30</td>\n",
       "      <td>65</td>\n",
       "      <td>150</td>\n",
       "      <td>True</td>\n",
       "    </tr>\n",
       "    <tr>\n",
       "      <th>1172</th>\n",
       "      <td>125</td>\n",
       "      <td>281</td>\n",
       "      <td>21</td>\n",
       "      <td>65</td>\n",
       "      <td>110</td>\n",
       "      <td>False</td>\n",
       "    </tr>\n",
       "    <tr>\n",
       "      <th>1173</th>\n",
       "      <td>117</td>\n",
       "      <td>297</td>\n",
       "      <td>38</td>\n",
       "      <td>65</td>\n",
       "      <td>129</td>\n",
       "      <td>False</td>\n",
       "    </tr>\n",
       "  </tbody>\n",
       "</table>\n",
       "<p>1174 rows × 6 columns</p>\n",
       "</div>"
      ],
      "text/plain": [
       "      Birth Weight  Gestational Days  Maternal Age  Maternal Height  \\\n",
       "0              120               284            27               62   \n",
       "1              113               282            33               64   \n",
       "2              128               279            28               64   \n",
       "3              108               282            23               67   \n",
       "4              136               286            25               62   \n",
       "...            ...               ...           ...              ...   \n",
       "1169           113               275            27               60   \n",
       "1170           128               265            24               67   \n",
       "1171           130               291            30               65   \n",
       "1172           125               281            21               65   \n",
       "1173           117               297            38               65   \n",
       "\n",
       "      Maternal Pregnancy Weight  Maternal Smoker  \n",
       "0                           100            False  \n",
       "1                           135            False  \n",
       "2                           115             True  \n",
       "3                           125             True  \n",
       "4                            93            False  \n",
       "...                         ...              ...  \n",
       "1169                        100            False  \n",
       "1170                        120            False  \n",
       "1171                        150             True  \n",
       "1172                        110            False  \n",
       "1173                        129            False  \n",
       "\n",
       "[1174 rows x 6 columns]"
      ]
     },
     "execution_count": 18,
     "metadata": {},
     "output_type": "execute_result"
    }
   ],
   "source": [
    "# Random sample of mother-newborn pairs\n",
    "births = pd.read_csv('baby.csv')\n",
    "births"
   ]
  },
  {
   "cell_type": "markdown",
   "metadata": {},
   "source": [
    "What is the average age of moms who are having children in the entire population?\n",
    "\n",
    "**Parameter:** Average age of moms when they give birth to first child.\n",
    "\n",
    "**Statistic:** Average age of moms in our sample."
   ]
  },
  {
   "cell_type": "code",
   "execution_count": 19,
   "metadata": {},
   "outputs": [
    {
     "data": {
      "text/plain": [
       "27.228279386712096"
      ]
     },
     "execution_count": 19,
     "metadata": {},
     "output_type": "execute_result"
    }
   ],
   "source": [
    "# Average age of mothers in the sample\n",
    "births['Maternal Age'].mean()"
   ]
  },
  {
   "cell_type": "markdown",
   "metadata": {},
   "source": [
    "Remember there was a distribution of ages."
   ]
  },
  {
   "cell_type": "code",
   "execution_count": 20,
   "metadata": {},
   "outputs": [
    {
     "data": {
      "text/plain": [
       "Text(0.5, 1.0, 'Distribution of Age in our SAMPLE')"
      ]
     },
     "execution_count": 20,
     "metadata": {},
     "output_type": "execute_result"
    },
    {
     "data": {
      "image/png": "[encoded data removed]",
      "text/plain": [
       "<Figure size 432x288 with 1 Axes>"
      ]
     },
     "metadata": {},
     "output_type": "display_data"
    }
   ],
   "source": [
    "births.hist('Maternal Age')\n",
    "plt.title(\"Distribution of Age in our SAMPLE\")\n"
   ]
  },
  {
   "cell_type": "markdown",
   "metadata": {},
   "source": [
    "We could have also returned the median or even a range of ages as our statistic:"
   ]
  },
  {
   "cell_type": "code",
   "execution_count": 21,
   "metadata": {},
   "outputs": [
    {
     "data": {
      "text/plain": [
       "26.0"
      ]
     },
     "execution_count": 21,
     "metadata": {},
     "output_type": "execute_result"
    }
   ],
   "source": [
    "births['Maternal Age'].median()"
   ]
  },
  {
   "cell_type": "markdown",
   "metadata": {},
   "source": [
    "Or an interval of 95% of the ages:"
   ]
  },
  {
   "cell_type": "code",
   "execution_count": 22,
   "metadata": {},
   "outputs": [
    {
     "data": {
      "text/plain": [
       "[19.0, 40.0]"
      ]
     },
     "execution_count": 22,
     "metadata": {},
     "output_type": "execute_result"
    }
   ],
   "source": [
    "[np.percentile(births['Maternal Age'],2.5),\n",
    " np.percentile(births['Maternal Age'],97.5)]"
   ]
  },
  {
   "cell_type": "markdown",
   "metadata": {},
   "source": [
    "Is this a confidence interval?\n",
    "<br><br><br><br>"
   ]
  },
  {
   "cell_type": "markdown",
   "metadata": {},
   "source": [
    "### Compute the Sample Statistic\n",
    "Since we are interested in estimating the average age of mothers in the population we will use the average age statistic:"
   ]
  },
  {
   "cell_type": "code",
   "execution_count": 23,
   "metadata": {},
   "outputs": [],
   "source": [
    "def avg_maternal_age(sample):\n",
    "    return sample[\"Maternal Age\"].mean()"
   ]
  },
  {
   "cell_type": "code",
   "execution_count": 24,
   "metadata": {},
   "outputs": [
    {
     "data": {
      "text/plain": [
       "27.228279386712096"
      ]
     },
     "execution_count": 24,
     "metadata": {},
     "output_type": "execute_result"
    }
   ],
   "source": [
    "sample_statistic = avg_maternal_age(births)\n",
    "sample_statistic"
   ]
  },
  {
   "cell_type": "markdown",
   "metadata": {},
   "source": [
    "### Use the Bootstrap to Estimate the CI \n",
    "\n",
    "The interval of estimates is the \"middle 95%\" of the bootstrap estimates.\n",
    "\n",
    "This is called a *95% confidence interval* for the **mean age in the population**.\n"
   ]
  },
  {
   "cell_type": "code",
   "execution_count": 25,
   "metadata": {},
   "outputs": [
    {
     "data": {
      "text/plain": [
       "[26.905451448040886, 27.56984667802385]"
      ]
     },
     "execution_count": 25,
     "metadata": {},
     "output_type": "execute_result"
    }
   ],
   "source": [
    "bootstrap_means = bootstrapper(births, avg_maternal_age, 10000)\n",
    "avg_maternal_age_ci = compute_ci(bootstrap_means, confidence_level=95)\n",
    "avg_maternal_age_ci"
   ]
  },
  {
   "cell_type": "code",
   "execution_count": 26,
   "metadata": {},
   "outputs": [
    {
     "data": {
      "image/png": "[encoded data removed]",
      "text/plain": [
       "<Figure size 432x288 with 1 Axes>"
      ]
     },
     "metadata": {},
     "output_type": "display_data"
    }
   ],
   "source": [
    "plt.hist(bootstrap_means, density=True, ec='white');\n",
    "\n",
    "\n",
    "[left, right] = avg_maternal_age_ci\n",
    "plt.plot([left, right], [0, 0], color='yellow', lw=8);"
   ]
  },
  {
   "cell_type": "code",
   "execution_count": 27,
   "metadata": {},
   "outputs": [
    {
     "data": {
      "image/png": "[encoded data removed]",
      "text/plain": [
       "<Figure size 432x288 with 1 Axes>"
      ]
     },
     "metadata": {},
     "output_type": "display_data"
    }
   ],
   "source": [
    "# Now we can visualize this interval back on our sample\n",
    "# Notice tiny yellow bar at the bottom:\n",
    "births.hist('Maternal Age')\n",
    "plt.title(\"Distribution of Age in our SAMPLE\")\n",
    "\n",
    "plt.plot([left, right], [0, 0], color='yellow', lw=10);"
   ]
  },
  {
   "cell_type": "markdown",
   "metadata": {},
   "source": [
    "<br><br><br><br>\n",
    "\n",
    "---\n",
    "\n",
    "Return to Slides\n",
    "\n",
    "---\n",
    "\n",
    "<br><br><br><br>\n"
   ]
  },
  {
   "cell_type": "markdown",
   "metadata": {
    "tags": []
   },
   "source": [
    "## Using the Confidence Interval for Testing Hypotheses\n",
    "\n",
    "**Null:** The average age of mothers in the population is 25 years; the random sample average is different due to chance.\n",
    "\n",
    "**Alternative:** The average age of the mothers in the population is not 25 years.\n",
    "\n",
    "Suppose you use the 5% cutoff for the p-value.\n",
    "\n",
    "Based on the confidence interval, which hypothesis would you pick?"
   ]
  },
  {
   "cell_type": "code",
   "execution_count": 28,
   "metadata": {},
   "outputs": [
    {
     "data": {
      "text/plain": [
       "[26.89778534923339, 27.56558773424191]"
      ]
     },
     "execution_count": 28,
     "metadata": {},
     "output_type": "execute_result"
    }
   ],
   "source": [
    "bootstrap_means = bootstrapper(births, avg_maternal_age, 10000)\n",
    "avg_maternal_age_ci = compute_ci(bootstrap_means, confidence_level=95)\n",
    "avg_maternal_age_ci"
   ]
  },
  {
   "cell_type": "markdown",
   "metadata": {},
   "source": [
    "Suppose you use the 0.1% cutoff for the p-value.\n"
   ]
  },
  {
   "cell_type": "code",
   "execution_count": 29,
   "metadata": {},
   "outputs": [
    {
     "data": {
      "text/plain": [
       "[26.706981260647357, 27.75641098807496]"
      ]
     },
     "execution_count": 29,
     "metadata": {},
     "output_type": "execute_result"
    }
   ],
   "source": [
    "bootstrap_means = bootstrapper(births, avg_maternal_age, 10000)\n",
    "avg_maternal_age_ci = compute_ci(bootstrap_means, confidence_level=99.9)\n",
    "avg_maternal_age_ci"
   ]
  },
  {
   "cell_type": "markdown",
   "metadata": {},
   "source": [
    "check it: https://www.cdc.gov/nchs/nsfg/key_statistics/b.htm"
   ]
  },
  {
   "cell_type": "markdown",
   "metadata": {},
   "source": [
    "<br><br><br><br>\n",
    "\n",
    "---\n",
    "\n",
    "Return to Slides\n",
    "\n",
    "---\n",
    "\n",
    "<br><br><br><br>\n"
   ]
  },
  {
   "cell_type": "markdown",
   "metadata": {},
   "source": [
    "## Using CLT to Calculate the CI for Age:\n",
    "\n"
   ]
  },
  {
   "cell_type": "code",
   "execution_count": 32,
   "metadata": {},
   "outputs": [],
   "source": [
    "sample_mean=births['Maternal Age'].mean()\n",
    "sample_mean"
   ]
  },
  {
   "cell_type": "code",
   "execution_count": 34,
   "metadata": {},
   "outputs": [
    {
     "data": {
      "text/plain": [
       "0.16979606801968558"
      ]
     },
     "execution_count": 34,
     "metadata": {},
     "output_type": "execute_result"
    }
   ],
   "source": [
    "standard_error = births['Maternal Age'].std()/np.sqrt(len(births[\"Maternal Age\"]))\n",
    "standard_error"
   ]
  },
  {
   "cell_type": "code",
   "execution_count": 36,
   "metadata": {},
   "outputs": [
    {
     "data": {
      "text/plain": [
       "[26.888687250672724, 27.567871522751467]"
      ]
     },
     "execution_count": 36,
     "metadata": {},
     "output_type": "execute_result"
    }
   ],
   "source": [
    "#95% CI\n",
    "L = sample_mean-2*standard_error\n",
    "U = sample_mean+2*standard_error\n",
    "\n",
    "[L,U]"
   ]
  },
  {
   "cell_type": "code",
   "execution_count": 37,
   "metadata": {},
   "outputs": [
    {
     "data": {
      "text/plain": [
       "[26.706981260647357, 27.75641098807496]"
      ]
     },
     "execution_count": 37,
     "metadata": {},
     "output_type": "execute_result"
    }
   ],
   "source": [
    "#Compare to bootstrapped example:\n",
    "avg_maternal_age_ci"
   ]
  },
  {
   "cell_type": "code",
   "execution_count": null,
   "metadata": {},
   "outputs": [],
   "source": []
  }
 ],
 "metadata": {
  "kernelspec": {
   "display_name": "Python 3 (ipykernel)",
   "language": "python",
   "name": "python3"
  },
  "language_info": {
   "codemirror_mode": {
    "name": "ipython",
    "version": 3
   },
   "file_extension": ".py",
   "mimetype": "text/x-python",
   "name": "python",
   "nbconvert_exporter": "python",
   "pygments_lexer": "ipython3",
   "version": "3.9.12"
  }
 },
 "nbformat": 4,
 "nbformat_minor": 4
}
