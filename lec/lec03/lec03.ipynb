{
 "cells": [
  {
   "cell_type": "markdown",
   "metadata": {},
   "source": [
    "# Lecture 3 – CSCI 3022\n",
    "\n",
    "\n",
    "[Acknowledgments Page](https://ds100.org/fa23/acks/)\n",
    "\n",
    "A demonstration of advanced `pandas` syntax to accompany Lecture 3."
   ]
  },
  {
   "cell_type": "code",
   "execution_count": 1,
   "metadata": {},
   "outputs": [],
   "source": [
    "# Linear algebra, probability\n",
    "import numpy as np\n",
    "\n",
    "# Data manipulation\n",
    "import pandas as pd\n",
    "\n",
    "# Interactive visualization library\n",
    "import plotly.express as px"
   ]
  },
  {
   "cell_type": "code",
   "execution_count": null,
   "metadata": {},
   "outputs": [],
   "source": [
    "# Loading the elections DataFrame\n",
    "elections = pd.read_csv(\"data/elections.csv\")\n",
    "\n",
    "elections.head() "
   ]
  },
  {
   "cell_type": "markdown",
   "metadata": {},
   "source": [
    "## Data Extraction in `Pandas`\n",
    "\n",
    "### Context-dependent Extraction using `[]`"
   ]
  },
  {
   "cell_type": "markdown",
   "metadata": {},
   "source": [
    "`[]` is *context-dependent*.\n",
    "\n",
    "`[]` only takes one argument, which may be:\n",
    "1. A slice of row integers (i.e. something of the form start:stop, where the slice is exclusive of the stop value)\n",
    "2. A list of column labels.\n",
    "3. A single column label.\n"
   ]
  },
  {
   "cell_type": "markdown",
   "metadata": {},
   "source": [
    "If we provide a slice of row numbers, we get the numbered rows."
   ]
  },
  {
   "cell_type": "code",
   "execution_count": null,
   "metadata": {
    "tags": []
   },
   "outputs": [],
   "source": [
    "elections[3:7]"
   ]
  },
  {
   "cell_type": "code",
   "execution_count": null,
   "metadata": {},
   "outputs": [],
   "source": [
    "elections[:3]"
   ]
  },
  {
   "cell_type": "code",
   "execution_count": null,
   "metadata": {},
   "outputs": [],
   "source": [
    "elections[7:]"
   ]
  },
  {
   "cell_type": "markdown",
   "metadata": {},
   "source": [
    "If we provide a list of column names, we get the listed columns."
   ]
  },
  {
   "cell_type": "code",
   "execution_count": null,
   "metadata": {},
   "outputs": [],
   "source": [
    "elections[[\"Year\", \"Candidate\", \"Result\"]]"
   ]
  },
  {
   "cell_type": "markdown",
   "metadata": {},
   "source": [
    "And if we provide a single column name we get back just that column, stored as a `Series`."
   ]
  },
  {
   "cell_type": "code",
   "execution_count": null,
   "metadata": {
    "tags": []
   },
   "outputs": [],
   "source": [
    "elections[\"Candidate\"]"
   ]
  },
  {
   "cell_type": "code",
   "execution_count": null,
   "metadata": {},
   "outputs": [],
   "source": [
    "#Notice above this returned a Series.  If we wanted to return a 1-column DataFrame we could use:\n",
    "elections[[\"Candidate\"]]"
   ]
  },
  {
   "cell_type": "code",
   "execution_count": null,
   "metadata": {},
   "outputs": [],
   "source": [
    "elections[:3][[\"Year\",\"Candidate\"]]"
   ]
  },
  {
   "cell_type": "markdown",
   "metadata": {},
   "source": [
    "## Other Methods for Slicing:\n",
    "\n",
    "#### Label-Based Extraction Using`loc`\n",
    "\n",
    "Arguments to `.loc` can be:\n",
    "1. A list.\n",
    "2. A slice (syntax is inclusive of the right-hand side of the slice).\n",
    "3. A single value.\n"
   ]
  },
  {
   "cell_type": "markdown",
   "metadata": {},
   "source": [
    "`loc` selects items by row and column *label*."
   ]
  },
  {
   "cell_type": "code",
   "execution_count": null,
   "metadata": {},
   "outputs": [],
   "source": [
    "# Selection by a list\n",
    "elections.loc[[87, 25, 179], [\"Year\", \"Candidate\", \"Result\"]]"
   ]
  },
  {
   "cell_type": "code",
   "execution_count": null,
   "metadata": {},
   "outputs": [],
   "source": [
    "# Selection by a list and a slice of columns\n",
    "elections.loc[[87, 25, 179], \"Popular vote\":\"%\"]"
   ]
  },
  {
   "cell_type": "code",
   "execution_count": null,
   "metadata": {},
   "outputs": [],
   "source": [
    "# Extracting all rows using a colon\n",
    "elections.loc[:, [\"Year\", \"Candidate\", \"Result\"]]"
   ]
  },
  {
   "cell_type": "code",
   "execution_count": null,
   "metadata": {},
   "outputs": [],
   "source": [
    "# Extracting all columns using a colon\n",
    "elections.loc[[87, 25, 179], :]"
   ]
  },
  {
   "cell_type": "code",
   "execution_count": null,
   "metadata": {},
   "outputs": [],
   "source": [
    "# Selection by a list and a single-column label\n",
    "elections.loc[[87, 25, 179], \"Popular vote\"]"
   ]
  },
  {
   "cell_type": "code",
   "execution_count": null,
   "metadata": {},
   "outputs": [],
   "source": [
    "# Note that if we pass \"Popular vote\" in a list, the output will be a DataFrame\n",
    "elections.loc[[87, 25, 179], [\"Popular vote\"]]"
   ]
  },
  {
   "cell_type": "code",
   "execution_count": null,
   "metadata": {},
   "outputs": [],
   "source": [
    "# Selection by a row label and a column label\n",
    "elections.loc[0, \"Candidate\"]"
   ]
  },
  {
   "cell_type": "markdown",
   "metadata": {},
   "source": [
    "### Integer-Based Extraction Using `iloc`\n",
    "\n",
    "`iloc` selects items by row and column *integer* position.\n",
    "\n",
    "Arguments to `.iloc` can be:\n",
    "1. A list.\n",
    "2. A slice (syntax is exclusive of the right hand side of the slice).\n",
    "3. A single value.\n"
   ]
  },
  {
   "cell_type": "code",
   "execution_count": null,
   "metadata": {},
   "outputs": [],
   "source": [
    "# Select the rows at positions 1, 2, and 3.\n",
    "# Select the columns at positions 0, 1, and 2.\n",
    "# Remember that Python indexing begins at position 0!\n",
    "elections.iloc[[1, 2, 3], [0, 1, 2]]"
   ]
  },
  {
   "cell_type": "code",
   "execution_count": null,
   "metadata": {},
   "outputs": [],
   "source": [
    "# Index-based extraction using a list of rows and a slice of column indices\n",
    "elections.iloc[[1, 2, 3], 0:3]"
   ]
  },
  {
   "cell_type": "code",
   "execution_count": null,
   "metadata": {},
   "outputs": [],
   "source": [
    "# Selecting all rows using a colon\n",
    "elections.iloc[:, 0:3]"
   ]
  },
  {
   "cell_type": "code",
   "execution_count": null,
   "metadata": {},
   "outputs": [],
   "source": [
    "elections.iloc[[1, 2, 3], 1]"
   ]
  },
  {
   "cell_type": "code",
   "execution_count": null,
   "metadata": {},
   "outputs": [],
   "source": [
    "# Extracting the value at row 0 and the second column\n",
    "elections.iloc[0,1]"
   ]
  },
  {
   "cell_type": "markdown",
   "metadata": {},
   "source": [
    "## Dataset: California baby names\n",
    "\n",
    "\n",
    "In today's lecture, we will download data from the United States Social Security office containing the number of registered names broken down by **year**, **sex**, and **name**. This is often called the Baby Names Data as social security numbers (SSNs) are typically given at birth.\n",
    "\n",
    "The cell below pulls census data from a government website and then loads it into a usable form and then extracts the information for babies born in California into the `babynames` dataframe.  \n",
    "\n",
    "\n",
    "The code shown here is outside of the scope of CSCI 3022, but you're encouraged to dig into it if you are interested!"
   ]
  },
  {
   "cell_type": "markdown",
   "metadata": {},
   "source": [
    "### Understanding the Setting\n",
    "\n",
    "**In CSCI 3022 you will have to learn about different data sources (and their limitations) on your own.**\n",
    "\n",
    "Reading from [SSN Office description](https://www.ssa.gov/oact/babynames/background.html), bolded for readability: \n",
    "\n",
    "\n",
    "> All names are from Social Security card applications for **births that occurred in the United States** after 1879. **Note that many people born before 1937 never applied** for a Social Security card, so their names are not included in our data. For others who did apply, our records may not show the place of birth, and again their names are not included in our data.\n",
    "\n",
    "> **To safeguard privacy, we exclude** from our tabulated lists of names those that would indicate, or would allow the ability to determine, **names with fewer than 5 occurrences** in any geographic area. If a name has less than 5 occurrences for a year of birth in any state, the sum of the state counts for that year will be less than the national count.\n",
    "\n",
    "> All data are from a **100% sample** of our records on Social Security card applications as of March 2023."
   ]
  },
  {
   "cell_type": "code",
   "execution_count": null,
   "metadata": {},
   "outputs": [],
   "source": [
    "import urllib.request\n",
    "import os.path\n",
    "import zipfile\n",
    "\n",
    "data_url = \"https://www.ssa.gov/oact/babynames/state/namesbystate.zip\"\n",
    "local_filename = \"data/babynamesbystate.zip\"\n",
    "if not os.path.exists(local_filename): # If the data exists don't download again\n",
    "    with urllib.request.urlopen(data_url) as resp, open(local_filename, 'wb') as f:\n",
    "        f.write(resp.read())\n",
    "\n",
    "zf = zipfile.ZipFile(local_filename, 'r')\n",
    "\n",
    "ca_name = 'STATE.CA.TXT'\n",
    "field_names = ['State', 'Sex', 'Year', 'Name', 'Count']\n",
    "with zf.open(ca_name) as fh:\n",
    "    babynames = pd.read_csv(fh, header=None, names=field_names)\n",
    "\n",
    "babynames.head()"
   ]
  },
  {
   "cell_type": "markdown",
   "metadata": {},
   "source": [
    "## Conditional Selection"
   ]
  },
  {
   "cell_type": "code",
   "execution_count": null,
   "metadata": {},
   "outputs": [],
   "source": [
    "# Ask yourself: Why is :9 is the correct slice to select the first 10 rows?\n",
    "babynames_first_10_rows = babynames.loc[:9, :]\n",
    "\n",
    "babynames_first_10_rows"
   ]
  },
  {
   "cell_type": "markdown",
   "metadata": {},
   "source": [
    "By passing in a sequence (list, array, or `Series`) of boolean values, we can extract a subset of the rows in a `DataFrame`. We will keep *only* the rows that correspond to a boolean value of `True`."
   ]
  },
  {
   "cell_type": "code",
   "execution_count": null,
   "metadata": {},
   "outputs": [],
   "source": [
    "# Notice how we have exactly 10 elements in our boolean array argument.\n",
    "babynames_first_10_rows[[True, False, True, False, True, False, True, False, True, False]]"
   ]
  },
  {
   "cell_type": "code",
   "execution_count": null,
   "metadata": {},
   "outputs": [],
   "source": [
    "# Or using .loc to filter a DataFrame by a Boolean array argument\n",
    "babynames_first_10_rows.loc[[True, False, True, False, True, False, True, False, True, False], :]\n"
   ]
  },
  {
   "cell_type": "markdown",
   "metadata": {},
   "source": [
    "Oftentimes, we'll use boolean selection to check for entries in a `DataFrame` that meet a particular condition."
   ]
  },
  {
   "cell_type": "code",
   "execution_count": null,
   "metadata": {},
   "outputs": [],
   "source": [
    "# First, use a logical condition to generate a boolean Series\n",
    "logical_operator = (babynames[\"Sex\"] == \"F\")\n",
    "logical_operator"
   ]
  },
  {
   "cell_type": "code",
   "execution_count": null,
   "metadata": {},
   "outputs": [],
   "source": [
    "# Then, use this boolean Series to filter the DataFrame\n",
    "babynames[logical_operator]"
   ]
  },
  {
   "cell_type": "markdown",
   "metadata": {},
   "source": [
    "Boolean selection also works with `loc`!"
   ]
  },
  {
   "cell_type": "code",
   "execution_count": null,
   "metadata": {},
   "outputs": [],
   "source": [
    "# Notice that we did not have to specify columns to select \n",
    "# If no columns are referenced, pandas will automatically select all columns\n",
    "babynames.loc[babynames[\"Sex\"] == \"F\"]"
   ]
  },
  {
   "cell_type": "markdown",
   "metadata": {},
   "source": [
    "### Bitwise Operators"
   ]
  },
  {
   "cell_type": "markdown",
   "metadata": {},
   "source": [
    "To filter on multiple conditions, we combine boolean operators using **bitwise comparisons**.\n",
    "\n",
    "Symbol | Usage      | Meaning \n",
    "------ | ---------- | -------------------------------------\n",
    "~    | ~p       | Returns negation of p\n",
    "&#124; | p &#124; q | p OR q\n",
    "&    | p & q    | p AND q\n",
    "^  | p ^ q | p XOR q (exclusive or)"
   ]
  },
  {
   "cell_type": "markdown",
   "metadata": {},
   "source": [
    "### `.isin` for Selection based on a list, array, or `Series` "
   ]
  },
  {
   "cell_type": "code",
   "execution_count": null,
   "metadata": {},
   "outputs": [],
   "source": [
    "# Note: The parentheses surrounding the code make it possible to break the code into multiple lines for readability\n",
    "\n",
    "(\n",
    "    babynames[(babynames[\"Name\"] == \"Bella\") | \n",
    "              (babynames[\"Name\"] == \"Alex\") |\n",
    "              (babynames[\"Name\"] == \"Narges\") |\n",
    "              (babynames[\"Name\"] == \"Lisa\")]\n",
    ")\n"
   ]
  },
  {
   "cell_type": "code",
   "execution_count": null,
   "metadata": {},
   "outputs": [],
   "source": [
    "# A more concise method to achieve the above: .isin\n",
    "names = [\"Bella\", \"Alex\", \"Narges\", \"Lisa\"]\n",
    "display(babynames[\"Name\"].isin(names))\n",
    "display(babynames[babynames[\"Name\"].isin(names)])"
   ]
  },
  {
   "cell_type": "markdown",
   "metadata": {},
   "source": [
    "### `.str` Functions for Defining a Condition"
   ]
  },
  {
   "cell_type": "code",
   "execution_count": null,
   "metadata": {},
   "outputs": [],
   "source": [
    "# What if we only want names that start with \"N\"?\n",
    "display(babynames[\"Name\"].str.startswith(\"N\"))\n",
    "display(babynames[babynames[\"Name\"].str.startswith(\"N\")])"
   ]
  },
  {
   "cell_type": "markdown",
   "metadata": {},
   "source": [
    "## Adding, Removing, and Modifying Columns"
   ]
  },
  {
   "cell_type": "markdown",
   "metadata": {},
   "source": [
    "### Add a Column\n",
    "To add a column, use `[]` to reference the desired new column, then assign it to a `Series` or array of appropriate length."
   ]
  },
  {
   "cell_type": "code",
   "execution_count": null,
   "metadata": {},
   "outputs": [],
   "source": [
    "# Create a Series of the length of each name\n",
    "babyname_lengths = babynames[\"Name\"].str.len()\n",
    "\n",
    "# Add a column named \"name_lengths\" that includes the length of each name\n",
    "babynames[\"name_lengths\"] = babyname_lengths\n",
    "\n",
    "babynames"
   ]
  },
  {
   "cell_type": "markdown",
   "metadata": {},
   "source": [
    "### Modify a Column\n",
    "To modify a column, use `[]` to access the desired column, then re-assign it to a new array or Series."
   ]
  },
  {
   "cell_type": "code",
   "execution_count": null,
   "metadata": {},
   "outputs": [],
   "source": [
    "# Modify the \"name_lengths\" column to be one less than its original value\n",
    "babynames[\"name_lengths\"] = babynames[\"name_lengths\"] - 1\n",
    "babynames"
   ]
  },
  {
   "cell_type": "markdown",
   "metadata": {},
   "source": [
    "### Rename a Column Name\n",
    "Rename a column using the `.rename()` method."
   ]
  },
  {
   "cell_type": "code",
   "execution_count": null,
   "metadata": {},
   "outputs": [],
   "source": [
    "# Rename \"name_lengths\" to \"Length\"\n",
    "babynames = babynames.rename(columns={\"name_lengths\":\"Length\"})\n",
    "babynames"
   ]
  },
  {
   "cell_type": "markdown",
   "metadata": {},
   "source": [
    "### Delete a Column\n",
    "Remove a column using `.drop()`."
   ]
  },
  {
   "cell_type": "code",
   "execution_count": null,
   "metadata": {},
   "outputs": [],
   "source": [
    "# Remove our new \"Length\" column\n",
    "babynames = babynames.drop(\"Length\", axis=\"columns\")\n",
    "babynames"
   ]
  },
  {
   "cell_type": "markdown",
   "metadata": {},
   "source": [
    "## Useful Utility Functions"
   ]
  },
  {
   "cell_type": "markdown",
   "metadata": {},
   "source": [
    "### `NumPy`"
   ]
  },
  {
   "cell_type": "markdown",
   "metadata": {},
   "source": [
    " `NumPy`   [functions](https://www.data8.org/su23/reference/#array-functions-and-methods) are compatible with objects in `pandas`. "
   ]
  },
  {
   "cell_type": "code",
   "execution_count": null,
   "metadata": {},
   "outputs": [],
   "source": [
    "yash_counts = babynames[babynames[\"Name\"] == \"Yash\"][\"Count\"]\n",
    "yash_counts"
   ]
  },
  {
   "cell_type": "code",
   "execution_count": null,
   "metadata": {},
   "outputs": [],
   "source": [
    "# Average number of babies named Yash each year\n",
    "\n",
    "np.mean(yash_counts)"
   ]
  },
  {
   "cell_type": "code",
   "execution_count": null,
   "metadata": {},
   "outputs": [],
   "source": [
    "# Max number of babies named Yash born in any single year\n",
    "\n",
    "max(yash_counts)"
   ]
  },
  {
   "cell_type": "markdown",
   "metadata": {},
   "source": [
    "### Built-In `pandas` Methods\n",
    "\n",
    "There are many, *many* utility functions built into `pandas`, far more than we can possibly cover in lecture. You are encouraged to explore all the functionality outlined in the `pandas` [documentation](https://pandas.pydata.org/docs/reference/index.html)."
   ]
  },
  {
   "cell_type": "code",
   "execution_count": null,
   "metadata": {},
   "outputs": [],
   "source": [
    "# Returns the shape of the object in the format (num_rows, num_columns)\n",
    "babynames.shape"
   ]
  },
  {
   "cell_type": "code",
   "execution_count": null,
   "metadata": {},
   "outputs": [],
   "source": [
    "# Returns the total number of entries in the object, equal to num_rows * num_columns\n",
    "babynames.size"
   ]
  },
  {
   "cell_type": "code",
   "execution_count": null,
   "metadata": {},
   "outputs": [],
   "source": [
    "# What summary statistics can we describe?\n",
    "babynames.describe()"
   ]
  },
  {
   "cell_type": "code",
   "execution_count": null,
   "metadata": {},
   "outputs": [],
   "source": [
    "# Our statistics are slightly different when working with a Series\n",
    "babynames[\"Sex\"].describe()"
   ]
  },
  {
   "cell_type": "code",
   "execution_count": null,
   "metadata": {},
   "outputs": [],
   "source": [
    "# Randomly sample row(s) from the DataFrame\n",
    "babynames.sample()"
   ]
  },
  {
   "cell_type": "code",
   "execution_count": null,
   "metadata": {},
   "outputs": [],
   "source": [
    "# Rerun this cell a few times – you'll get different results!\n",
    "babynames.sample(5).iloc[:, 2:]"
   ]
  },
  {
   "cell_type": "code",
   "execution_count": null,
   "metadata": {},
   "outputs": [],
   "source": [
    "# Sampling with replacement\n",
    "babynames[babynames[\"Year\"] == 2000].sample(4, replace = True).iloc[:,2:]"
   ]
  },
  {
   "cell_type": "code",
   "execution_count": null,
   "metadata": {},
   "outputs": [],
   "source": [
    "# Count the number of times each unique value occurs in a Series\n",
    "babynames[\"Name\"].value_counts()"
   ]
  },
  {
   "cell_type": "code",
   "execution_count": null,
   "metadata": {},
   "outputs": [],
   "source": [
    "# Return an array of all unique values in the Series\n",
    "babynames[\"Name\"].unique()"
   ]
  },
  {
   "cell_type": "code",
   "execution_count": null,
   "metadata": {},
   "outputs": [],
   "source": [
    "# Sort a Series\n",
    "babynames[\"Name\"].sort_values()"
   ]
  },
  {
   "cell_type": "code",
   "execution_count": null,
   "metadata": {},
   "outputs": [],
   "source": [
    "# Sort a DataFrame – there are lots of Michaels in California\n",
    "babynames.sort_values(by = \"Count\", ascending = False)"
   ]
  },
  {
   "cell_type": "code",
   "execution_count": null,
   "metadata": {},
   "outputs": [],
   "source": [
    "#Sorting by multiple columns\n",
    "\n",
    "babynames.sort_values(by = [\"Count\",\"Name\"])\n",
    "\n",
    "#babynames.sort_values(by = [\"Name\",\"Count\"])"
   ]
  },
  {
   "cell_type": "code",
   "execution_count": null,
   "metadata": {},
   "outputs": [],
   "source": [
    "babynames.query('Sex == \"M\" and Year ==2020').sort_values(\"Name\", ascending=False)"
   ]
  },
  {
   "cell_type": "markdown",
   "metadata": {},
   "source": [
    "## Custom sorting\n",
    "\n",
    "### Approach 1: Create a temporary column"
   ]
  },
  {
   "cell_type": "code",
   "execution_count": null,
   "metadata": {},
   "outputs": [],
   "source": [
    "# Create a Series of the length of each name\n",
    "babyname_lengths = babynames[\"Name\"].str.len()\n",
    "\n",
    "# Add a column named \"name_lengths\" that includes the length of each name\n",
    "babynames[\"name_lengths\"] = babyname_lengths\n",
    "babynames.head(5)"
   ]
  },
  {
   "cell_type": "code",
   "execution_count": null,
   "metadata": {},
   "outputs": [],
   "source": [
    "# Sort by the temporary column\n",
    "babynames = babynames.sort_values(by = \"name_lengths\", ascending=False)\n",
    "babynames.head(5)"
   ]
  },
  {
   "cell_type": "code",
   "execution_count": null,
   "metadata": {
    "tags": []
   },
   "outputs": [],
   "source": [
    "# Drop the 'name_length' column\n",
    "babynames = babynames.drop(\"name_lengths\", axis = 'columns')\n",
    "babynames.head(5)"
   ]
  },
  {
   "cell_type": "markdown",
   "metadata": {},
   "source": [
    "### Approach 2: Sorting using the `key` argument"
   ]
  },
  {
   "cell_type": "code",
   "execution_count": null,
   "metadata": {},
   "outputs": [],
   "source": [
    "def yourfunctionname(x):\n",
    "    return x.str.len()\n",
    "\n",
    "(\n",
    "babynames.sort_values(\"Name\",key=yourfunctionname,ascending=False)\n",
    "        .head()\n",
    ")"
   ]
  },
  {
   "cell_type": "code",
   "execution_count": null,
   "metadata": {},
   "outputs": [],
   "source": [
    "babynames.sort_values(\"Name\", key = lambda x:x.str.len(), ascending = False).head()"
   ]
  },
  {
   "cell_type": "markdown",
   "metadata": {},
   "source": [
    "### Approach 3: Sorting Using the `map` Function\n",
    "\n",
    "We can also use the Python map function if we want to use an arbitrarily defined function. Suppose we want to sort by the number of occurrences of \"dr\" plus the number of occurences of \"ea\"."
   ]
  },
  {
   "cell_type": "code",
   "execution_count": null,
   "metadata": {},
   "outputs": [],
   "source": [
    "# First, define a function to count the number of times \"dr\" or \"ea\" appear in each name\n",
    "def dr_ea_count(string):\n",
    "    return string.count('dr') + string.count('ea')\n",
    "\n",
    "# Then, use `map` to apply `dr_ea_count` to each name in the \"Name\" column\n",
    "babynames[\"dr_ea_count\"] = babynames[\"Name\"].map(dr_ea_count)\n",
    "\n",
    "# Sort the DataFrame by the new \"dr_ea_count\" column so we can see our handiwork\n",
    "babynames = babynames.sort_values(by = \"dr_ea_count\", ascending=False)\n",
    "babynames.head()"
   ]
  },
  {
   "cell_type": "code",
   "execution_count": null,
   "metadata": {},
   "outputs": [],
   "source": [
    "# Drop the `dr_ea_count` column\n",
    "babynames = babynames.drop(\"dr_ea_count\", axis = 'columns')\n",
    "babynames.head(5)"
   ]
  },
  {
   "cell_type": "markdown",
   "metadata": {},
   "source": [
    "## Grouping\n",
    "\n",
    "Group rows that share a common feature, then aggregate data across the group.\n",
    "\n",
    "In this example, we count the total number of babies born in each year (considering only a small subset of the data, for simplicity).\n",
    "\n",
    "<img src=\"images/groupby.png\" width=\"800\"/>"
   ]
  },
  {
   "cell_type": "markdown",
   "metadata": {},
   "source": [
    "There are many different aggregation functions we can use, all of which are useful in different applications."
   ]
  },
  {
   "cell_type": "code",
   "execution_count": null,
   "metadata": {},
   "outputs": [],
   "source": [
    "# What is the earliest year in which each name appeared?\n",
    "\n",
    "babynames.groupby(\"Name\")[[\"Year\"]].agg(min)"
   ]
  },
  {
   "cell_type": "code",
   "execution_count": null,
   "metadata": {},
   "outputs": [],
   "source": [
    "babynames.groupby(\"Name\").agg(min)"
   ]
  },
  {
   "cell_type": "code",
   "execution_count": null,
   "metadata": {},
   "outputs": [],
   "source": [
    "# What is the largest single-year count of each name?\n",
    "babynames.groupby(\"Name\")[[\"Count\"]].agg(max)"
   ]
  },
  {
   "cell_type": "code",
   "execution_count": null,
   "metadata": {},
   "outputs": [],
   "source": [
    "babynames.groupby(\"Name\")[[\"Count\"]].last()"
   ]
  },
  {
   "cell_type": "markdown",
   "metadata": {},
   "source": [
    "## Case Study: Name \"Popularity\""
   ]
  },
  {
   "cell_type": "markdown",
   "metadata": {},
   "source": [
    "In this exercise, let's find the name with sex \"F\" that has dropped most in popularity since its peak usage. We'll start by filtering `babynames` to only include names corresponding to sex \"F\"."
   ]
  },
  {
   "cell_type": "code",
   "execution_count": null,
   "metadata": {},
   "outputs": [],
   "source": [
    "f_babynames = babynames[babynames[\"Sex\"] == \"F\"]\n",
    "f_babynames"
   ]
  },
  {
   "cell_type": "code",
   "execution_count": null,
   "metadata": {},
   "outputs": [],
   "source": [
    "# We sort the data by year\n",
    "f_babynames = f_babynames.sort_values(\"Year\")\n",
    "f_babynames"
   ]
  },
  {
   "cell_type": "markdown",
   "metadata": {},
   "source": [
    "To build our intuition on how to answer our research question, let's visualize the prevalence of the name \"Jennifer\" over time."
   ]
  },
  {
   "cell_type": "code",
   "execution_count": null,
   "metadata": {},
   "outputs": [],
   "source": [
    "# We'll talk about how to generate plots in a later lecture\n",
    "fig = px.line(f_babynames[f_babynames[\"Name\"] == \"Jennifer\"],\n",
    "              x = \"Year\", y = \"Count\")\n",
    "fig.update_layout(font_size = 18, \n",
    "                  autosize=False, \n",
    "                  width=1000, \n",
    "                  height=400)"
   ]
  },
  {
   "cell_type": "markdown",
   "metadata": {},
   "source": [
    "We'll need a mathematical definition for the change in popularity of a name.\n",
    "\n",
    "Define the metric \"ratio to peak\" (RTP). We'll calculate this as the count of the name in 2022 (the most recent year for which we have data) divided by the largest count of this name in *any* year. \n",
    "\n",
    "A demo calculation for Jennifer:"
   ]
  },
  {
   "cell_type": "code",
   "execution_count": null,
   "metadata": {},
   "outputs": [],
   "source": [
    "# In the year with the highest Jennifer count, 6065 Jennifers were born\n",
    "max_jenn = np.max(f_babynames[f_babynames[\"Name\"] == \"Jennifer\"][\"Count\"])\n",
    "max_jenn"
   ]
  },
  {
   "cell_type": "code",
   "execution_count": null,
   "metadata": {
    "tags": []
   },
   "outputs": [],
   "source": [
    "# Remember that we sorted f_babynames by year. \n",
    "# This means that grabbing the final entry gives us the most recent count of Jennifers: 114\n",
    "# In 2022, the most recent year for which we have data, 114 Jennifers were born\n",
    "curr_jenn = f_babynames[f_babynames[\"Name\"] == \"Jennifer\"][\"Count\"].iloc[-1]\n",
    "curr_jenn"
   ]
  },
  {
   "cell_type": "code",
   "execution_count": null,
   "metadata": {
    "tags": []
   },
   "outputs": [],
   "source": [
    "# Compute the RTP\n",
    "curr_jenn / max_jenn"
   ]
  },
  {
   "cell_type": "markdown",
   "metadata": {},
   "source": [
    "We can also write a function that produces the `ratio_to_peak`for a given `Series`. This will allow us to use `.groupby` to speed up our computation for all names in the dataset."
   ]
  },
  {
   "cell_type": "code",
   "execution_count": null,
   "metadata": {},
   "outputs": [],
   "source": [
    "def ratio_to_peak(series):\n",
    "    \"\"\"\n",
    "    Compute the RTP for a Series containing the counts per year for a single name\n",
    "    \"\"\"\n",
    "    return series.iloc[-1] / np.max(series)"
   ]
  },
  {
   "cell_type": "code",
   "execution_count": null,
   "metadata": {},
   "outputs": [],
   "source": [
    "# Construct a Series containing our Jennifer count data\n",
    "jenn_counts_ser = f_babynames[f_babynames[\"Name\"] == \"Jennifer\"][\"Count\"]\n",
    "\n",
    "# Then, find the RTP\n",
    "ratio_to_peak(jenn_counts_ser)"
   ]
  },
  {
   "cell_type": "markdown",
   "metadata": {},
   "source": [
    "Now, let's use `.groupby` to compute the RTPs for *all* names in the dataset.\n",
    "\n",
    "You may see a warning message when running the cell below. As discussed in lecture, `pandas` can't apply an aggregation function to non-numeric data (it doens't make sense to divide \"CA\" by a number). By default, `.groupby` will drop any columns that cannot be aggregated."
   ]
  },
  {
   "cell_type": "code",
   "execution_count": null,
   "metadata": {
    "tags": []
   },
   "outputs": [],
   "source": [
    "rtp_table = f_babynames.groupby(\"Name\")[[\"Year\", \"Count\"]].agg(ratio_to_peak)\n",
    "rtp_table"
   ]
  },
  {
   "cell_type": "code",
   "execution_count": null,
   "metadata": {},
   "outputs": [],
   "source": [
    "# Results in a TypeError\n",
    "#rtp_table = f_babynames.groupby(\"Name\").agg(ratio_to_peak)\n",
    "# rtp_table"
   ]
  },
  {
   "cell_type": "markdown",
   "metadata": {},
   "source": [
    "To avoid the warning message above, we explicitly extract only the columns relevant to our analysis before using `.agg`."
   ]
  },
  {
   "cell_type": "code",
   "execution_count": null,
   "metadata": {},
   "outputs": [],
   "source": [
    "# Recompute the RTPs, but only performing the calculation on the \"Count\" column\n",
    "rtp_table = f_babynames.groupby(\"Name\")[[\"Count\"]].agg(ratio_to_peak)\n",
    "rtp_table"
   ]
  },
  {
   "cell_type": "code",
   "execution_count": null,
   "metadata": {},
   "outputs": [],
   "source": [
    "# Rename \"Count\" to \"Count RTP\" for clarity\n",
    "rtp_table = rtp_table.rename(columns = {\"Count\": \"Count RTP\"})\n",
    "rtp_table"
   ]
  },
  {
   "cell_type": "code",
   "execution_count": null,
   "metadata": {},
   "outputs": [],
   "source": [
    "# What name has fallen the most in popularity?\n",
    "rtp_table.sort_values(\"Count RTP\")"
   ]
  },
  {
   "cell_type": "markdown",
   "metadata": {},
   "source": [
    "We can visualize the decrease in the popularity of the name \"Debra:\""
   ]
  },
  {
   "cell_type": "code",
   "execution_count": null,
   "metadata": {},
   "outputs": [],
   "source": [
    "def plot_name(*names):\n",
    "    fig = px.line(f_babynames[f_babynames[\"Name\"].isin(names)], \n",
    "                  x = \"Year\", y = \"Count\", color=\"Name\",\n",
    "                  title=f\"Popularity for: {names}\")\n",
    "    fig.update_layout(font_size = 18, \n",
    "                  autosize=False, \n",
    "                  width=1000, \n",
    "                  height=400)\n",
    "    return fig\n",
    "\n",
    "plot_name(\"Debra\")"
   ]
  },
  {
   "cell_type": "code",
   "execution_count": null,
   "metadata": {},
   "outputs": [],
   "source": [
    "# Find the 10 names that have decreased the most in popularity\n",
    "top10 = rtp_table.sort_values(\"Count RTP\").head(10).index\n",
    "top10"
   ]
  },
  {
   "cell_type": "code",
   "execution_count": null,
   "metadata": {},
   "outputs": [],
   "source": [
    "plot_name(*top10)"
   ]
  },
  {
   "cell_type": "markdown",
   "metadata": {},
   "source": [
    "For fun, try plotting your name or your friends' names."
   ]
  },
  {
   "cell_type": "markdown",
   "metadata": {},
   "source": [
    "### iClicker Exercises\n",
    "We want to obtain the rows with the first three baby names with `count > 250`. "
   ]
  },
  {
   "cell_type": "code",
   "execution_count": null,
   "metadata": {},
   "outputs": [],
   "source": [
    "babynames.loc[babynames[\"Count\"] > 250, :].head(3)"
   ]
  },
  {
   "cell_type": "code",
   "execution_count": null,
   "metadata": {
    "scrolled": true
   },
   "outputs": [],
   "source": [
    "babynames.loc[babynames[\"Count\"] > 250, :].iloc[0:2, :]"
   ]
  },
  {
   "cell_type": "code",
   "execution_count": null,
   "metadata": {},
   "outputs": [],
   "source": [
    "babynames[babynames[\"Count\"] > 250].head(3)"
   ]
  },
  {
   "cell_type": "code",
   "execution_count": null,
   "metadata": {},
   "outputs": [],
   "source": [
    "babynames.loc[babynames[\"Count\"] > 250, :].iloc[0:3, :]"
   ]
  },
  {
   "cell_type": "code",
   "execution_count": null,
   "metadata": {},
   "outputs": [],
   "source": [
    "# The code below uses the full babynames dataset, which is why some numbers are different relative to the diagram\n",
    "\n",
    "babynames.groupby(\"Year\").agg(sum)\n",
    "\n",
    "#babynames.groupby(\"Year\")[[\"Count\"]].agg(sum)"
   ]
  },
  {
   "cell_type": "markdown",
   "metadata": {},
   "source": []
  }
 ],
 "metadata": {
  "kernelspec": {
   "display_name": "Python 3 (ipykernel)",
   "language": "python",
   "name": "python3"
  },
  "language_info": {
   "codemirror_mode": {
    "name": "ipython",
    "version": 3
   },
   "file_extension": ".py",
   "mimetype": "text/x-python",
   "name": "python",
   "nbconvert_exporter": "python",
   "pygments_lexer": "ipython3",
   "version": "3.9.12"
  }
 },
 "nbformat": 4,
 "nbformat_minor": 4
}
