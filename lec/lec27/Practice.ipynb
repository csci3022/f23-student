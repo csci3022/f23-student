{
 "cells": [
  {
   "cell_type": "code",
   "execution_count": 1,
   "id": "72f57e54",
   "metadata": {},
   "outputs": [],
   "source": [
    "import numpy as np\n"
   ]
  },
  {
   "cell_type": "code",
   "execution_count": 2,
   "id": "48d39487",
   "metadata": {},
   "outputs": [],
   "source": [
    "def one_walk():\n",
    "    return abs(sum(np.random.choice([-1,1], 100)))\n"
   ]
  },
  {
   "cell_type": "code",
   "execution_count": 3,
   "id": "82335e30",
   "metadata": {},
   "outputs": [
    {
     "data": {
      "text/plain": [
       "array([ 2.,  8., 10.,  6.,  4., 14., 10.,  4.,  2.,  0.])"
      ]
     },
     "execution_count": 3,
     "metadata": {},
     "output_type": "execute_result"
    }
   ],
   "source": [
    "distances = np.array([])\n",
    "\n",
    "for i in np.arange(10):\n",
    "    new_distance = one_walk()\n",
    "    distances = np.append(distances, new_distance)\n",
    "    \n",
    "    \n",
    "distances"
   ]
  },
  {
   "cell_type": "code",
   "execution_count": 4,
   "id": "dde1892c",
   "metadata": {},
   "outputs": [],
   "source": [
    "from scipy import stats"
   ]
  },
  {
   "cell_type": "code",
   "execution_count": 54,
   "id": "a840da5e",
   "metadata": {},
   "outputs": [
    {
     "data": {
      "text/plain": [
       "1.304220932770874e-39"
      ]
     },
     "execution_count": 54,
     "metadata": {},
     "output_type": "execute_result"
    }
   ],
   "source": [
    "stats.norm.pdf(50000, 500000, 36000)"
   ]
  },
  {
   "cell_type": "code",
   "execution_count": 6,
   "id": "2b9a2731",
   "metadata": {},
   "outputs": [
    {
     "data": {
      "text/plain": [
       "0.4"
      ]
     },
     "execution_count": 6,
     "metadata": {},
     "output_type": "execute_result"
    }
   ],
   "source": [
    "4/10"
   ]
  },
  {
   "cell_type": "code",
   "execution_count": 11,
   "id": "f8ee109a",
   "metadata": {},
   "outputs": [
    {
     "data": {
      "text/plain": [
       "15625"
      ]
     },
     "execution_count": 11,
     "metadata": {},
     "output_type": "execute_result"
    }
   ],
   "source": [
    "125*125"
   ]
  },
  {
   "cell_type": "code",
   "execution_count": 12,
   "id": "9aa61ce2",
   "metadata": {},
   "outputs": [
    {
     "data": {
      "text/plain": [
       "33.166247903554"
      ]
     },
     "execution_count": 12,
     "metadata": {},
     "output_type": "execute_result"
    }
   ],
   "source": [
    "np.sqrt(1100)"
   ]
  },
  {
   "cell_type": "code",
   "execution_count": 19,
   "id": "a5a1e82e",
   "metadata": {},
   "outputs": [
    {
     "data": {
      "text/plain": [
       "1600"
      ]
     },
     "execution_count": 19,
     "metadata": {},
     "output_type": "execute_result"
    }
   ],
   "source": [
    "40*40\n"
   ]
  },
  {
   "cell_type": "code",
   "execution_count": 31,
   "id": "b22a78a9",
   "metadata": {},
   "outputs": [
    {
     "data": {
      "text/plain": [
       "4000.0"
      ]
     },
     "execution_count": 31,
     "metadata": {},
     "output_type": "execute_result"
    }
   ],
   "source": [
    "36000/9"
   ]
  },
  {
   "cell_type": "code",
   "execution_count": null,
   "id": "36dafc60",
   "metadata": {},
   "outputs": [],
   "source": [
    "def difference_of_means(df, numeric_label, category_label, groupA, groupB):\n",
    "    \"\"\"\n",
    "    Takes: \n",
    "       - name of DataFrame\n",
    "       - column label of numerical variable \n",
    "       - column label of categorical variable (i.e. which group)\n",
    "       - name of groupA \n",
    "       - name of groupB\n",
    "       \n",
    "    Returns: Difference of means of the numerical variable (groupA mean  - groupB mean)\n",
    "    \"\"\"\n",
    "    \n",
    "    #df with the two relevant columns\n",
    "    reduced = df[[numeric_label, category_label]]  \n",
    "    \n",
    "    # df containing group means\n",
    "    means_df = reduced.groupby(category_label).mean().rename(columns = {numeric_label: numeric_label+\" Mean\"})\n",
    "    \n",
    "    print(means_df)\n",
    "    \n",
    "    return means_df.loc[groupA,0]-means_df.loc[groupB,0]\n",
    "\n",
    "\n",
    "\n",
    "\n",
    "def one_simulated_test_stat():\n",
    "    \n",
    "    \n",
    "    step1 = df[category_label].sample(frac=1, replace=False).values\n",
    "    \n",
    "    # table of numerical variable and shuffled labels\n",
    "    \n",
    "    original_with_shuffled=df.copy()\n",
    "    original_with_shuffled[\"Shuffled Label\"] = shuffled_labels\n",
    "    \n",
    "   \n",
    "    if absol==True:\n",
    "        return difference_of_means(original_with_shuffled, numeric_label, 'Shuffled Label', absol=True)   \n",
    "    else:\n",
    "        return difference_of_means(original_with_shuffled, numeric_label, 'Shuffled Label')   \n",
    "    \n",
    "    \n",
    "simulated_statistics = np.array([one_simulated_test_stat() for i in range(10000)]) # SOLUTION\n",
    "\n",
    "\n",
    "    "
   ]
  },
  {
   "cell_type": "code",
   "execution_count": null,
   "id": "b76acb73",
   "metadata": {},
   "outputs": [],
   "source": []
  },
  {
   "cell_type": "code",
   "execution_count": null,
   "id": "2b4c0ef3",
   "metadata": {},
   "outputs": [],
   "source": [
    "def simulate_one_statistic():\n",
    "# BEGIN SOLUTION\n",
    "    shuffled_labels = football[\"Team\"].sample(frac=1, replace=False).values\n",
    "    shuffled_table= football.assign(ShuffledLabel = shuffled_labels)\n",
    "    averages_table = shuffled_table[[\"PressureDrop\",\"ShuffledLabel\"]].groupby(\"ShuffledLabel\").mean()\n",
    "    averages = averages_table.iloc[:,0]\n",
    "    return averages[1] - averages[0]\n",
    "# END SOLUTION\n",
    "\n",
    "# Your code above this line\n",
    "\n",
    "\n",
    "simulate_one_statistic()\n",
    "\n",
    "repetitions = 10000\n",
    "\n",
    "simulated_statistics_ab = np.array([simulate_one_statistic() for i in range(repetitions)]) # SOLUTION\n",
    "\n"
   ]
  }
 ],
 "metadata": {
  "kernelspec": {
   "display_name": "Python 3 (ipykernel)",
   "language": "python",
   "name": "python3"
  },
  "language_info": {
   "codemirror_mode": {
    "name": "ipython",
    "version": 3
   },
   "file_extension": ".py",
   "mimetype": "text/x-python",
   "name": "python",
   "nbconvert_exporter": "python",
   "pygments_lexer": "ipython3",
   "version": "3.9.12"
  }
 },
 "nbformat": 4,
 "nbformat_minor": 5
}
