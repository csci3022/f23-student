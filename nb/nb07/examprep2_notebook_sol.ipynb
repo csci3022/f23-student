{
 "cells": [
  {
   "cell_type": "code",
   "execution_count": null,
   "metadata": {
    "id": "8Tyq6Ipr3kAe"
   },
   "outputs": [],
   "source": [
    "import pandas as pd\n",
    "import numpy as np"
   ]
  },
  {
   "cell_type": "markdown",
   "metadata": {
    "id": "r6KSM8MF3lCe"
   },
   "source": [
    "# Cleaning Up the Billboard Hot 100"
   ]
  },
  {
   "cell_type": "markdown",
   "metadata": {},
   "source": [
    "Onika Tanya Maraj (better known by her stage name Nicki Minaj) knows she’s the\n",
    "baddest alive, but nonetheless, she wants to learn more about the popularity of her\n",
    "greatest hits.\n",
    "\n",
    "She obtains a dataset of entries from the Billboard Hot 100, an American\n",
    "music chart updated weekly containing the 100 most popular songs of that week. The\n",
    "dataset has 100 entries per week (corresponding to each song on the chart for that\n",
    "particular week), for every week from 1958 until today in 2022.\n",
    "\n",
    "As of 2018, rank is\n",
    "determined by a specific combination of physical/digital sales, radio play, and online\n",
    "streaming. However, the dataset is large and messy, so she enlists you, a Data 100\n",
    "student, as a consultant to help her clean and understand the data.\n",
    "\n",
    "You load the data\n",
    "into a Pandas DataFrame called billboard. A call to billboard.head(10) is shown\n",
    "below:"
   ]
  },
  {
   "cell_type": "code",
   "execution_count": null,
   "metadata": {
    "id": "jr0Yk6wc3j5D"
   },
   "outputs": [],
   "source": [
    "billboard = pd.read_csv('billboard.csv')"
   ]
  },
  {
   "cell_type": "code",
   "execution_count": null,
   "metadata": {
    "colab": {
     "base_uri": "https://localhost:8080/",
     "height": 363
    },
    "id": "rjjudpjX3j2t",
    "outputId": "bee0b41d-0330-47ea-cdfa-db8800723d20",
    "scrolled": true
   },
   "outputs": [],
   "source": [
    "billboard.head(10)"
   ]
  },
  {
   "cell_type": "markdown",
   "metadata": {
    "id": "VNXYvnNy3jkE"
   },
   "source": [
    "### 1c\n",
    "Since Onika only wants an assessment of her music, you need to obtain a DataFrame\n",
    "of only her Billboard Hot 100 entries. Write a line of code to accomplish this (be\n",
    "sure to use her stage name ”Nicki Minaj”). Store your result in a variable called\n",
    "`nicki`."
   ]
  },
  {
   "cell_type": "code",
   "execution_count": null,
   "metadata": {
    "colab": {
     "base_uri": "https://localhost:8080/",
     "height": 206
    },
    "id": "12A8AFIS-_-G",
    "outputId": "74397313-e497-4d89-d571-a6e85c0bccac"
   },
   "outputs": [],
   "source": [
    "nicki = billboard[billboard['performer'] == 'Nicki Minaj']\n",
    "nicki.head(5)"
   ]
  },
  {
   "cell_type": "markdown",
   "metadata": {
    "id": "MEVewuSfAFcM"
   },
   "source": [
    "### 1d\n",
    "In this new `nicki` DataFrame, are there any missing values in the consecutive weeks\n",
    "column? Write a line of Pandas code to return the amount of missing values in this\n",
    "column."
   ]
  },
  {
   "cell_type": "code",
   "execution_count": null,
   "metadata": {
    "colab": {
     "base_uri": "https://localhost:8080/"
    },
    "id": "PLXM0ygs-_0s",
    "outputId": "251bf223-ba2a-4dee-e7c0-9ad5a853662a"
   },
   "outputs": [],
   "source": [
    "np.sum(nicki[\"consecutive_weeks\"].isnull())"
   ]
  },
  {
   "cell_type": "markdown",
   "metadata": {
    "id": "mO_lsireAIKE"
   },
   "source": [
    "### 1f\n",
    "Onika wants to know what her most successful year was, where success is measured \n",
    "by the number of Billboard Hot 100 entries she had across all weeks of a give year.\n",
    "\n",
    "Write e two lines of Pandas code to return a Series whose index is the year, a d\n",
    "whose values are the number of entri\n",
    "*s. (Hint: you might want to add a col cn\n",
    "corresponding to the year of each observation, and Series.str.split(‘-’) is  our\n",
    "fri*end!)"
   ]
  },
  {
   "cell_type": "code",
   "execution_count": null,
   "metadata": {
    "colab": {
     "base_uri": "https://localhost:8080/"
    },
    "id": "mzjU2HPu-_ov",
    "outputId": "33ee56ee-32d5-46e0-8ab3-e74f8d48889a"
   },
   "outputs": [],
   "source": [
    "nicki.loc[:, 'year'] = nicki['chart_date'].str.split('-').str[2]\n",
    "nicki.groupby('year')['song'].count()"
   ]
  }
 ],
 "metadata": {
  "colab": {
   "provenance": []
  },
  "kernelspec": {
   "display_name": "Python 3 (ipykernel)",
   "language": "python",
   "name": "python3"
  },
  "language_info": {
   "codemirror_mode": {
    "name": "ipython",
    "version": 3
   },
   "file_extension": ".py",
   "mimetype": "text/x-python",
   "name": "python",
   "nbconvert_exporter": "python",
   "pygments_lexer": "ipython3",
   "version": "3.9.12"
  }
 },
 "nbformat": 4,
 "nbformat_minor": 4
}
