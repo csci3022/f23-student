{
 "cells": [
  {
   "cell_type": "code",
   "execution_count": null,
   "id": "5091ff53",
   "metadata": {},
   "outputs": [],
   "source": [
    "import pandas as pd\n",
    "import numpy as np"
   ]
  },
  {
   "cell_type": "markdown",
   "id": "3e9aca5d",
   "metadata": {},
   "source": [
    "## Question 1"
   ]
  },
  {
   "cell_type": "markdown",
   "id": "c4e33d61",
   "metadata": {},
   "source": [
    "Suppose we have the following DataFrame about pandas (the animal) shown below. We will calculate various statistics about pandas using the pandas library. In the end, we will hopefully understand pandas and pandas better!\n",
    "The DataFrame `panda` contains two columns: age and height for 10,000 pandas acr ss the world."
   ]
  },
  {
   "cell_type": "code",
   "execution_count": null,
   "id": "bd6e5b12",
   "metadata": {},
   "outputs": [],
   "source": [
    "panda = pd.DataFrame(\n",
    "    {\n",
    "        \"name\" : ['Pete', 'Sarah', 'Bono', 'Jasper', 'May'],\n",
    "        \"age\": [13, 17, 9, 2, 4],\n",
    "        \"height\": [18, 29, 7, 4, 13]\n",
    "    }\n",
    ")\n",
    "panda"
   ]
  },
  {
   "cell_type": "markdown",
   "id": "0f12be88",
   "metadata": {},
   "source": [
    "### Part a"
   ]
  },
  {
   "cell_type": "markdown",
   "id": "e101c220",
   "metadata": {},
   "source": [
    "Let us first convert the pandas heights into values with meters. Create a column\n",
    "`height in meters` that has each panda’s height in meters instead, and add it to the\n",
    "Dataframe `panda`."
   ]
  },
  {
   "cell_type": "code",
   "execution_count": null,
   "id": "400d45ca",
   "metadata": {},
   "outputs": [],
   "source": []
  },
  {
   "cell_type": "markdown",
   "id": "1e78cc8f",
   "metadata": {},
   "source": [
    "### Part b"
   ]
  },
  {
   "cell_type": "markdown",
   "id": "839f5160",
   "metadata": {},
   "source": [
    "We first want to know if there is a relationship between a panda’s age and height in\n",
    "meters. Write a one-line expression to calculate the average ratio between a panda’s\n",
    "height and age for all pandas in our DataFrame."
   ]
  },
  {
   "cell_type": "code",
   "execution_count": null,
   "id": "5ef251eb",
   "metadata": {},
   "outputs": [],
   "source": []
  },
  {
   "cell_type": "markdown",
   "id": "41c028d7",
   "metadata": {},
   "source": [
    "### Part c"
   ]
  },
  {
   "cell_type": "markdown",
   "id": "95188831",
   "metadata": {},
   "source": [
    "Instead, suppose we decide to calculate the median height for each age. Write a\n",
    "one-line pandas expression to accomplish this."
   ]
  },
  {
   "cell_type": "code",
   "execution_count": null,
   "id": "38dc6383",
   "metadata": {},
   "outputs": [],
   "source": []
  },
  {
   "cell_type": "markdown",
   "id": "364dc280",
   "metadata": {},
   "source": [
    "### Part d"
   ]
  },
  {
   "cell_type": "markdown",
   "id": "9efffd28",
   "metadata": {},
   "source": [
    "Expanding on the expression from the previous section, calculate the median ratio\n",
    "between a panda’s height and age for each age. Write pandas code to accomplish\n",
    "this."
   ]
  },
  {
   "cell_type": "code",
   "execution_count": null,
   "id": "f74912b5",
   "metadata": {},
   "outputs": [],
   "source": []
  },
  {
   "cell_type": "markdown",
   "id": "bf6b7362",
   "metadata": {},
   "source": [
    "### Part e"
   ]
  },
  {
   "cell_type": "markdown",
   "id": "fa97dd76",
   "metadata": {},
   "source": [
    "The zoo manager sends you another Dataframe mothers of mother-children relationships for the pandas in the above Dataframe:"
   ]
  },
  {
   "cell_type": "code",
   "execution_count": null,
   "id": "2360981f",
   "metadata": {},
   "outputs": [],
   "source": [
    "mother = pd.DataFrame(\n",
    "    data = {\n",
    "        'child' : ['Jasper', 'May', 'Sarah', 'Pete', 'Bono'],\n",
    "        'mother' : ['Giselle', 'Alice', 'May', 'Alex', 'Bella']\n",
    "    }\n",
    ")\n",
    "mother"
   ]
  },
  {
   "cell_type": "markdown",
   "id": "da86ed0a",
   "metadata": {},
   "source": [
    "Write a line of pandas code to add a new column mother to the DataFrame panda\n",
    "that contains each panda’s corresponding mother."
   ]
  },
  {
   "cell_type": "code",
   "execution_count": null,
   "id": "1cf27f33",
   "metadata": {},
   "outputs": [],
   "source": []
  },
  {
   "cell_type": "markdown",
   "id": "9cffa27b",
   "metadata": {},
   "source": [
    "## Question 2"
   ]
  },
  {
   "cell_type": "markdown",
   "id": "94c3a064",
   "metadata": {},
   "source": [
    "We will work with an Olympics dataset containing the names of all athletes who par-\n",
    "ticipated in the Olympic Games, including all the Games from Athens 1896 to Tokyo\n",
    "2020. We refer to this dataframe as ath. The first 5 lines of the table are shown below.\n",
    "You may assume that the ID column is unique to each athlete and that the only column\n",
    "with null values are height, weight, and medal."
   ]
  },
  {
   "cell_type": "code",
   "execution_count": null,
   "id": "31ef35f1",
   "metadata": {},
   "outputs": [],
   "source": [
    "ath = pd.DataFrame({\"ID\": [1, 2, 2, 3, 4],\n",
    "             \"Name\": [\"Edgar Lindenau Aabye\", \"Minna Maarit Aalto\", \"Minna Maarit Aalto\", \"Kjetil Andr Aamodt\", \"Ragnhild Margrethe Aamodt\"],\n",
    "             \"Sex\": [\"M\", \"F\", \"F\", \"M\", \"F\"],\n",
    "             \"Age\": [34.0, 30.0, 34.0, 20.0, 27.0],\n",
    "             \"Height\": [np.nan, 159, 159, 176, 163],\n",
    "             \"Weight\": [np.nan, 55.5, 55.5, 85, np.nan],\n",
    "             \"Team\": [\"Denmark/Sweden\", \"Finland\", \"Finland\", \"Norway\", \"Norway\"],\n",
    "             \"Year\": [1900, 1996, 2000, 1992, 2008],\n",
    "             \"Season\": ['Summer', \"Summer\", \"Summer\", \"Winter\", \"Summer\"],\n",
    "             \"City\": [\"Paris\", \"Atlanta\", \"Sydney\", \"Albertville\", \"Beijing\"],\n",
    "             \"Sport\": [\"Tug-Of-War\", \"Sailing\", \"Sailing\", \"Alpine Skiing\", \"Handball\"],\n",
    "             \"Event\": [\"Tug-Of-War Men's Tug-Of-War\", \"Sailing Women's Windsurfer\", \"Sailing Women's Windsurfer\", \"Alpine Skiing Men's Super G\", \"Handball Women's Handball\"],\n",
    "             \"Medal\": [\"Gold\", np.nan, np.nan, \"Gold\", \"Gold\"]})\n",
    "\n",
    "\n",
    "ath"
   ]
  },
  {
   "cell_type": "markdown",
   "id": "f8a3d0b3",
   "metadata": {},
   "source": [
    "### Part a"
   ]
  },
  {
   "cell_type": "markdown",
   "id": "f049b65a",
   "metadata": {},
   "source": [
    "Write pandas code to returns the 10 most common middle names among gold medal\n",
    "winners as pandas Series. The column Name contains the first name, the middle\n",
    "name, and the last name of each athlete that are separated by space. You may\n",
    "assume that all athletes in the table have a middle name. You can assume all\n",
    "athlete’s names are unique."
   ]
  },
  {
   "cell_type": "code",
   "execution_count": null,
   "id": "ff67e128",
   "metadata": {},
   "outputs": [],
   "source": []
  },
  {
   "cell_type": "markdown",
   "id": "d7e9beff",
   "metadata": {},
   "source": [
    "### Part b"
   ]
  },
  {
   "cell_type": "markdown",
   "id": "000d8d51",
   "metadata": {},
   "source": [
    "Which of the following lines of Pandas code will output the the most number of\n",
    "medals won by a single athlete?"
   ]
  },
  {
   "cell_type": "code",
   "execution_count": null,
   "id": "7205641d",
   "metadata": {},
   "outputs": [],
   "source": [
    "# Choice (A)\n",
    "ath['ID'].groupby('ID').count().iloc[0]"
   ]
  },
  {
   "cell_type": "code",
   "execution_count": null,
   "id": "07ea3b34",
   "metadata": {},
   "outputs": [],
   "source": [
    "# Choice (B)\n",
    "ath[['ID']].groupby('ID').count().iloc[0]"
   ]
  },
  {
   "cell_type": "code",
   "execution_count": null,
   "id": "a9c6f16e",
   "metadata": {},
   "outputs": [],
   "source": [
    "# Choice (C)\n",
    "ath[[\"ID\", \"Medal\", \"Name\"]].groupby(\"Name\").count().sort_values(\"Medal\", ascending = False)[\"Medal\"].iloc[0]\n",
    "\n",
    "## can't do value_counts() because it'll find the total count of non-null and null medals. \n",
    "## .count() just finds the count of non-null"
   ]
  },
  {
   "cell_type": "code",
   "execution_count": null,
   "id": "a1cd7f7c",
   "metadata": {},
   "outputs": [],
   "source": [
    "# Choice (D)\n",
    "ath[['ID', 'Medal']].groupby('ID').size().iloc[0]"
   ]
  },
  {
   "cell_type": "code",
   "execution_count": null,
   "id": "48b09ec2",
   "metadata": {},
   "outputs": [],
   "source": [
    "# Choice (E)\n",
    "ath[['Name', 'Medal']].groupby('Name').sum().iloc[0]"
   ]
  },
  {
   "cell_type": "code",
   "execution_count": null,
   "id": "b4ac9525",
   "metadata": {},
   "outputs": [],
   "source": [
    "# Choice (F)\n",
    "ath[['Name', 'Medal']].groupby('Name').count().iloc[0].sort\\_values(\n",
    "'Medal', ascending = False)"
   ]
  },
  {
   "cell_type": "markdown",
   "id": "f8c59daa",
   "metadata": {},
   "source": [
    "### Part c"
   ]
  },
  {
   "cell_type": "markdown",
   "id": "cebbd1b2",
   "metadata": {},
   "source": [
    "What are the oldest athletes to participate in each sport along with the corre-\n",
    "sponding year in which they participated? For this question, the ’corresponding\n",
    "year’ referred to the final year that the athlete participated."
   ]
  },
  {
   "cell_type": "code",
   "execution_count": null,
   "id": "eed8ea1e",
   "metadata": {},
   "outputs": [],
   "source": []
  },
  {
   "cell_type": "markdown",
   "id": "c952c381",
   "metadata": {},
   "source": [
    "### Part d"
   ]
  },
  {
   "cell_type": "markdown",
   "id": "002a3a1f",
   "metadata": {},
   "source": [
    "Fill in the blanks below to return the names of all the athletes who won a medal\n",
    "after a gap of 10 years or more of not winning any Olympics medals. You may\n",
    "assume that each individual’s name is unique to them."
   ]
  },
  {
   "cell_type": "markdown",
   "id": "bb09b933",
   "metadata": {},
   "source": [
    "##### Currently no output because the dataset isn't comprehensive, but feel free to play around with the DataFrame to generate output"
   ]
  },
  {
   "cell_type": "code",
   "execution_count": null,
   "id": "a2cf60bd",
   "metadata": {},
   "outputs": [],
   "source": []
  }
 ],
 "metadata": {
  "kernelspec": {
   "display_name": "Python 3 (ipykernel)",
   "language": "python",
   "name": "python3"
  },
  "language_info": {
   "codemirror_mode": {
    "name": "ipython",
    "version": 3
   },
   "file_extension": ".py",
   "mimetype": "text/x-python",
   "name": "python",
   "nbconvert_exporter": "python",
   "pygments_lexer": "ipython3",
   "version": "3.9.13"
  }
 },
 "nbformat": 4,
 "nbformat_minor": 5
}
