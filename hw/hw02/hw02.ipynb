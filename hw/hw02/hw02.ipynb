{
 "cells": [
  {
   "cell_type": "raw",
   "id": "8747d541",
   "metadata": {},
   "source": [
    "# ASSIGNMENT CONFIG\n",
    "files:\n",
    "    - data/namesbystate.zip\n",
    "export_cell:\n",
    "    pdf: true\n",
    "    instructions: \"AFTER running the cell below, click on <a href='hw02.pdf' download>this link to download the PDF </a> to upload to Gradescope.  There will be a separate link that appears after running the cell below with a link to download the zip file to upload to Gradescope.\"\n",
    "solutions_pdf: true\n",
    "template_pdf: true\n",
    "generate:\n",
    "    show_hidden: true\n",
    "    pagebreaks: true\n",
    "    filtering: true\n",
    "template_pdf: false\n",
    "solutions_pdf: false"
   ]
  },
  {
   "cell_type": "markdown",
   "id": "a552e640",
   "metadata": {},
   "source": [
    "### Importing Libraries and Magic Commands\n",
    "\n",
    "In CSCI 3022, we will be using common Python libraries to help us process data. By convention, we import all libraries at the very top of the notebook. There are also a set of standard aliases that are used to shorten the library names. Below are some of the libraries that you may encounter throughout the course, along with their respective aliases."
   ]
  },
  {
   "cell_type": "code",
   "execution_count": null,
   "id": "721febdf",
   "metadata": {},
   "outputs": [],
   "source": [
    "import numpy as np\n",
    "import pandas as pd\n",
    "import matplotlib.pyplot as plt\n",
    "plt.style.use('fivethirtyeight')\n"
   ]
  },
  {
   "cell_type": "markdown",
   "id": "380021a2",
   "metadata": {},
   "source": [
    "<a id='verytop'></a>\n",
    "\n",
    "# Homework 2\n",
    "## Prerequisities and Python\n",
    "## Due Date: Thursday, Sept 7th, 11:59 PM on Gradescope\n",
    "\n",
    "\n",
    "### Detailed Submission Instructions Are Provided at the end of this Notebook\n",
    "\n",
    "\n",
    "## Assignment Scope:\n",
    "\n",
    "* Slicing DataFrames (i.e. selecting rows and columns)\n",
    "* Filtering data (using boolean arrays)\n",
    "* Concepts from Discrete Math used in CSCI 3022\n",
    "* Concepts from Calculus used in CSCI 3022\n",
    "\n",
    "\n",
    "## Collaboration Policy\n",
    "\n",
    "Data science is a collaborative activity.  However a key step in learning and retention is **creating solutions on your own.**  \n",
    "\n",
    "Below are examples of acceptable vs unacceptable use of resources and collaboration when doing HW assignments in CSCI 3022.\n",
    "\n",
    "\n",
    "The following would be some **examples of cheating** when working on HW assignments in CSCI 3022.  Any of these constitute a **violation of the course's collaboration policy and will result in an F in the course and a trip to the honor council**.   \n",
    "\n",
    "\n",
    " - Consulting web pages that may have a solution to a given homework problem or one similar is cheating.  However, consulting the class notes, and web pages that explain the material taught in class but do NOT show a solution to the homework problem in question are permissible to view.  Clearly, there's a fuzzy line here between a valid use of resources and cheating. To avoid this line, one should merely consult the course notes, the course textbook, and references that contain syntax and/or formulas.\n",
    " - Copying a segment of code or math solution of three lines or more from another student from a printout, handwritten copy, or by looking at their computer screen \n",
    " - Allowing another student to copy a segment of your code or math solution of three lines or more\n",
    " - Taking a copy of another student's work (or a solution found online) and then editing that copy\n",
    " - Reading someone else’s solution to a problem on the HW before writing your own.\n",
    " - Asking someone to write all or part of a program or solution for you.\n",
    " - Asking someone else for the code necessary to fix the error for you, other than for simple syntactical errors\n",
    " \n",
    "\n",
    "\n",
    "On the other hand, the following are some **examples of things which would NOT usually be\n",
    "considered to be cheating**:\n",
    " - Working on a HW problem on your own first and then discussing with a classmate a particular part in the problem solution where you are stuck.  After clarifying any questions you should then continue to write your solution independently.\n",
    " - Asking someone (or searching online) how a particular construct in the language works.\n",
    " - Asking someone (or searching online) how to formulate a particular construct in the language.\n",
    " - Asking someone for help in finding an error in your program.  \n",
    " - Asking someone why a particular construct does not work as you expected in a given program.\n",
    "   \n",
    "\n",
    "To test whether you are truly doing your own work and retaining what you've learned you should be able to easily reproduce from scratch and explain a HW solution that was your own when asked in office hours by a TA/Instructor or on a quiz/exam.   \n",
    "\n",
    "\n",
    "If you have difficulty in formulating the general solution to a problem on your own, or\n",
    "you have difficulty in translating that general solution into a program, it is advisable to see\n",
    "your instructor or teaching assistant rather than another student as this situation can easily\n",
    "lead to a, possibly inadvertent, cheating situation.\n",
    "\n",
    "We are here to help!  Visit HW Hours and/or post questions on Piazza!\n",
    "\n"
   ]
  },
  {
   "cell_type": "markdown",
   "id": "e4d8a09d",
   "metadata": {},
   "source": [
    "If while completing this assignment you reference any websites other than those linked in this assignment or provided on Canvas please list those references here:\n",
    "\n",
    "**External references**:  *list any websites you referenced***Collaborators**: *list collaborators here*"
   ]
  },
  {
   "cell_type": "markdown",
   "id": "24b45ac0",
   "metadata": {},
   "source": [
    "## Grading\n",
    "Grading is broken down into autograded answers and manually graded answers. \n",
    "\n",
    "For autograded answers, the results of your code are compared to provided and/or hidden tests.\n",
    "\n",
    "For manually graded answers you must show and explain all steps.  Graders will evaluate how well you answered the question and/or fulfilled the requirements of the question.\n",
    "\n",
    "\n",
    "### Score breakdown\n",
    "\n",
    "\n",
    "\n",
    "Question | Points | Grading Type\n",
    "--- | --- | ---\n",
    "Question 1a | 3 | autograded\n",
    "Question 1b | 3 | autograded\n",
    "Question 1c | 2 | manual\n",
    "Question 1d | 4 | autograded\n",
    "Question 1e | 4 | autograded\n",
    "Question 2a | 3 | manual\n",
    "Question 2b | 4 | manual\n",
    "Question 2c | 3 | manual\n",
    "Question 3a | 4 | manual\n",
    "Question 3b | 6 | manual\n",
    "Question 4a | 3 | autograded\n",
    "Question 4b | 3 | manual\n",
    "Question 4c | 2 | manual\n",
    "Question 4d | 2 | manual\n",
    "Question 4e | 4 | manual\n",
    "<a id='top'></a>Total | 50"
   ]
  },
  {
   "cell_type": "markdown",
   "id": "b76da68d",
   "metadata": {},
   "source": [
    "<a id='top'></a>\n",
    "---\n",
    "**Shortcuts:**  [Problem 1](#p1) | [Problem 2](#p2) | [Problem 3](#p3) | [Problem 4](#p4) \n",
    "\n",
    "---"
   ]
  },
  {
   "cell_type": "markdown",
   "id": "c0eec3bc",
   "metadata": {},
   "source": [
    "<hr style=\"border: 5px solid #003262;\" />\n",
    "<hr style=\"border: 1px solid #fdb515;\" />\n",
    "\n"
   ]
  },
  {
   "cell_type": "markdown",
   "id": "0136fcf7",
   "metadata": {},
   "source": [
    "### Jupyter Shortcuts ###\n",
    "\n",
    "Here are some useful Jupyter notebook keyboard shortcuts.  To learn more keyboard shortcuts, go to **Help -> Keyboard Shortcuts** in the menu above. \n",
    "\n",
    "Here are a few we like:\n",
    "1. `ctrl`+`return` : *Evaluate the current cell*\n",
    "1. `shift`+`return`: *Evaluate the current cell and move to the next*\n",
    "1. `esc` : *command mode* (may need to press before using any of the commands below)\n",
    "1. `esc`+`a` : *create a cell above*\n",
    "1. `esc`+`b` : *create a cell below*\n",
    "1. `esc`+`dd` : *delete a cell*\n",
    "1. `esc`+`m` : *convert a cell to markdown*\n",
    "1. `esc`+`y` : *convert a cell to code*"
   ]
  },
  {
   "cell_type": "markdown",
   "id": "0fdd1575",
   "metadata": {},
   "source": [
    "## How to Answer Math Questions in this Assignment\n",
    "\n",
    "$\\text{Below is an example question to demonstrate the type of work and justification}$\n",
    "$\\text{that is required for full points when answering math questions using LaTex}$.\n",
    "## $\\color{red}{\\text{EXAMPLE QUESTION:}}  $\n",
    "\n",
    "Write a full solution to the following question using LaTex (i.e. do NOT use code to calculate the answer).\n",
    "\n",
    "What values of $x$ solve the equation: $\\phantom{xx}x^2-5x=-6$?\n",
    "\n",
    "### $\\color{red}{\\text{This correct answer would be worth zero points}}:$\n",
    "\n",
    "$x=2$ and $x=3$\n",
    "\n",
    "### $\\color{red}{\\text{This answer would be worth full points}}:$\n",
    "\n",
    "\n",
    "Solution to Example Question:\n",
    "\n",
    "$x^2-5x=-6$ \n",
    "\n",
    "$\\implies x^2-5x+6=0$\n",
    "\n",
    "$\\implies (x-2)(x-3)=0$\n",
    "\n",
    "$\\implies \\boxed{x=2}$ or $\\boxed{x=3}$."
   ]
  },
  {
   "cell_type": "markdown",
   "id": "93eaad3c",
   "metadata": {},
   "source": [
    "### Preliminary: LaTex ###\n",
    "You should use LaTeX to format math in your answers. If you aren't familiar with LaTeX, not to worry. It's not hard to use in a Jupyter notebook. Just place your math in between dollar signs:\n",
    "\n",
    "\\\\$ f(x) = 2x \\\\$ becomes $ f(x) = 2x $.\n",
    "\n",
    "If you have a longer equation, use double dollar signs to place it on a line by itself:\n",
    "\n",
    "\\\\$\\\\$ \\sum_{i=0}^n i^2 \\\\$\\\\$ becomes:\n",
    "\n",
    "$$ \\sum_{i=0}^n i^2 $$.\n",
    "\n",
    "Here is some handy LaTex:\n",
    "\n",
    "| Output | Latex   |\n",
    "|:--|:--|\n",
    "| $$x^{a + b}$$  | `x^{a + b}` |\n",
    "| $$x_{a + b}$$ | `x_{a + b}` |\n",
    "| $$\\frac{a}{b}$$ | `\\frac{a}{b}` |\n",
    "| $$\\sqrt{a + b}$$ | `\\sqrt{a + b}` |\n",
    "| $$\\{ \\alpha, \\beta, \\gamma, \\pi, \\mu, \\sigma^2  \\}$$ | `\\{ \\alpha, \\beta, \\gamma, \\pi, \\mu, \\sigma^2  \\}` |\n",
    "| $$\\int_{x=2}^{\\infty} \\frac{1}{x} \\,dx $$ | `\\sum_{x=2}^{\\infty} \\frac{1}{x} \\,dx` |\n",
    "| $$\\sum_{x=1}^{100} x$$ | `\\sum_{x=1}^{100} x` |\n",
    "| $$\\frac{d}{d x} $$ | `\\frac{d}{dx} ` |\n",
    "\n",
    "\n",
    "\n",
    "[For more about basic LaTeX formatting, you can read this article.](https://www.sharelatex.com/learn/Mathematical_expressions)\n"
   ]
  },
  {
   "cell_type": "markdown",
   "id": "70a54ed7",
   "metadata": {
    "nbgrader": {
     "grade": false,
     "grade_id": "babyname_dataset",
     "locked": true,
     "schema_version": 2,
     "solution": false
    }
   },
   "source": [
    "[Back to top](#top)\n",
    "\n",
    "<a id='p1'></a>\n",
    "\n",
    "## Question 1:  Practice with the  Babynames Dataset\n",
    "We'll be using the babynames dataset from Lecture 3. The babynames dataset contains a record of the given names of babies born in the United States each year.\n",
    "\n",
    "First let's run the following cells to build the DataFrame `baby_names`.\n",
    "The cells below download the data from the web and extract the data into a DataFrame. "
   ]
  },
  {
   "cell_type": "markdown",
   "id": "8f4c9f26",
   "metadata": {
    "nbgrader": {
     "grade": false,
     "grade_id": "fetch_and_cache",
     "locked": true,
     "schema_version": 2,
     "solution": false
    }
   },
   "source": [
    "### `fetch_and_cache` Helper\n",
    "\n",
    "The following function downloads and caches data in the `data/` directory and returns the `Path` to the downloaded file. The cell below the function describes how it works. You are not expected to understand this code, but you may find it useful as a reference as a practitioner of data science after the course. "
   ]
  },
  {
   "cell_type": "code",
   "execution_count": null,
   "id": "5115ad9e",
   "metadata": {
    "nbgrader": {
     "grade": false,
     "grade_id": "fetch_and_cache_code",
     "locked": true,
     "schema_version": 2,
     "solution": false
    }
   },
   "outputs": [],
   "source": [
    "import requests\n",
    "from pathlib import Path\n",
    "\n",
    "def fetch_and_cache(data_url, file, data_dir=\"data\", force=False):\n",
    "    \"\"\"\n",
    "    Download and cache a url and return the file object.\n",
    "    \n",
    "    data_url: the web address to download\n",
    "    file: the file in which to save the results.\n",
    "    data_dir: (default=\"data\") the location to save the data\n",
    "    force: if true the file is always re-downloaded \n",
    "    \n",
    "    return: The pathlib.Path to the file.\n",
    "    \"\"\"\n",
    "    data_dir = Path(data_dir)\n",
    "    data_dir.mkdir(exist_ok=True)\n",
    "    file_path = data_dir/Path(file)\n",
    "    if force and file_path.exists():\n",
    "        file_path.unlink()\n",
    "    if force or not file_path.exists():\n",
    "        print('Downloading...', end=' ')\n",
    "        resp = requests.get(data_url)\n",
    "        with file_path.open('wb') as f:\n",
    "            f.write(resp.content)\n",
    "        print('Done!')\n",
    "    else:\n",
    "        import time \n",
    "        created = time.ctime(file_path.stat().st_ctime)\n",
    "        print(\"Using cached version downloaded at\", created)\n",
    "    return file_path"
   ]
  },
  {
   "cell_type": "markdown",
   "id": "0cde87c9",
   "metadata": {
    "nbgrader": {
     "grade": false,
     "grade_id": "cell-18d54d536c23da04",
     "locked": true,
     "schema_version": 2,
     "solution": false
    }
   },
   "source": [
    "In Python, a `Path` object represents the filesystem paths to files (and other resources). The `pathlib` module is effective for writing code that works on different operating systems and filesystems. \n",
    "\n",
    "To check if a file exists at a path, use `.exists()`. To create a directory for a path, use `.mkdir()`. To remove a file that might be a [symbolic link](https://en.wikipedia.org/wiki/Symbolic_link), use `.unlink()`. \n",
    "\n",
    "This function creates a path to a directory that will contain data files. It ensures that the directory exists (which is required to write files in that directory), then proceeds to download the file based on its URL.\n",
    "\n",
    "The benefit of this function is that not only can you force when you want a new file to be downloaded using the `force` parameter, but in cases when you don't need the file to be re-downloaded, you can use the cached version and save download time."
   ]
  },
  {
   "cell_type": "markdown",
   "id": "a6be8c3c",
   "metadata": {
    "nbgrader": {
     "grade": false,
     "grade_id": "download_data",
     "locked": true,
     "schema_version": 2,
     "solution": false
    }
   },
   "source": [
    "Below we use `fetch_and_cache` to download the `namesbystate.zip` zip file, which is a compressed directory of CSV files. \n",
    "\n",
    "**This might take a little while! Consider stretching.**"
   ]
  },
  {
   "cell_type": "code",
   "execution_count": null,
   "id": "2dbc23a0",
   "metadata": {
    "nbgrader": {
     "grade": false,
     "grade_id": "download_data_code",
     "locked": true,
     "schema_version": 2,
     "solution": false
    }
   },
   "outputs": [],
   "source": [
    "data_url = 'https://www.ssa.gov/oact/babynames/state/namesbystate.zip'\n",
    "namesbystate_path = fetch_and_cache(data_url, 'namesbystate.zip')"
   ]
  },
  {
   "cell_type": "markdown",
   "id": "b74abc83",
   "metadata": {
    "nbgrader": {
     "grade": false,
     "grade_id": "build_df",
     "locked": true,
     "schema_version": 2,
     "solution": false
    }
   },
   "source": [
    "The following cell builds the final full `baby_names` DataFrame. It first builds one DataFrame per state, because that's how the data are stored in the zip file. Here is documentation for [pd.concat](https://pandas.pydata.org/pandas-docs/version/1.2/reference/api/pandas.concat.html) if you want to know more about its functionality. As before, you are not expected to understand this code. "
   ]
  },
  {
   "cell_type": "code",
   "execution_count": null,
   "id": "ba5519a8",
   "metadata": {
    "nbgrader": {
     "grade": false,
     "grade_id": "build_df_code",
     "locked": true,
     "schema_version": 2,
     "solution": false
    }
   },
   "outputs": [],
   "source": [
    "import zipfile\n",
    "zf = zipfile.ZipFile(namesbystate_path, 'r')\n",
    "\n",
    "column_labels = ['State', 'Sex', 'Year', 'Name', 'Count']\n",
    "\n",
    "def load_dataframe_from_zip(zf, f):\n",
    "    with zf.open(f) as fh: \n",
    "        return pd.read_csv(fh, header=None, names=column_labels)\n",
    "\n",
    "states = [\n",
    "    load_dataframe_from_zip(zf, f)\n",
    "    for f in sorted(zf.filelist, key=lambda x:x.filename) \n",
    "    if f.filename.endswith('.TXT')\n",
    "]\n",
    "\n",
    "baby_names = states[0]\n",
    "for state_df in states[1:]:\n",
    "    baby_names = pd.concat([baby_names, state_df])\n",
    "baby_names = baby_names.reset_index().iloc[:, 1:]"
   ]
  },
  {
   "cell_type": "raw",
   "id": "935e337c",
   "metadata": {},
   "source": [
    "# BEGIN QUESTION\n",
    "name: q1a\n",
    "points: 3"
   ]
  },
  {
   "cell_type": "markdown",
   "id": "f52dc639",
   "metadata": {},
   "source": [
    "#### Question 1a) #### \n",
    "How many rows are in the dataframe baby_names?  (i.e. replace the ellipses (`...`) with one line of code that will calculate this)."
   ]
  },
  {
   "cell_type": "raw",
   "id": "79bb9e4c",
   "metadata": {},
   "source": [
    "# BEGIN SOLUTION"
   ]
  },
  {
   "cell_type": "code",
   "execution_count": 1,
   "id": "0b2ccc82",
   "metadata": {
    "nbgrader": {
     "grade": false,
     "grade_id": "build_df_check_len",
     "locked": true,
     "schema_version": 2,
     "solution": false
    }
   },
   "outputs": [
    {
     "ename": "NameError",
     "evalue": "name 'baby_names' is not defined",
     "output_type": "error",
     "traceback": [
      "\u001b[0;31m---------------------------------------------------------------------------\u001b[0m",
      "\u001b[0;31mNameError\u001b[0m                                 Traceback (most recent call last)",
      "Cell \u001b[0;32mIn[1], line 1\u001b[0m\n\u001b[0;32m----> 1\u001b[0m baby_names_len \u001b[38;5;241m=\u001b[39m \u001b[38;5;28mlen\u001b[39m(\u001b[43mbaby_names\u001b[49m) \u001b[38;5;66;03m#SOLUTION\u001b[39;00m\n",
      "\u001b[0;31mNameError\u001b[0m: name 'baby_names' is not defined"
     ]
    }
   ],
   "source": [
    "baby_names_len = len(baby_names) #SOLUTION"
   ]
  },
  {
   "cell_type": "raw",
   "id": "51b4c3c3",
   "metadata": {},
   "source": [
    "# END SOLUTION"
   ]
  },
  {
   "cell_type": "raw",
   "id": "a9967373",
   "metadata": {},
   "source": [
    "# BEGIN TESTS"
   ]
  },
  {
   "cell_type": "code",
   "execution_count": null,
   "id": "ab7faf83",
   "metadata": {},
   "outputs": [],
   "source": [
    "assert baby_names_len==6408041"
   ]
  },
  {
   "cell_type": "raw",
   "id": "8ab42e7f",
   "metadata": {},
   "source": [
    "# END TESTS "
   ]
  },
  {
   "cell_type": "raw",
   "id": "cce06b90",
   "metadata": {},
   "source": [
    "# END QUESTION"
   ]
  },
  {
   "cell_type": "raw",
   "id": "27cbdd75",
   "metadata": {},
   "source": [
    "# BEGIN QUESTION\n",
    "name: q1b\n",
    "points: 3"
   ]
  },
  {
   "cell_type": "markdown",
   "id": "6d1f6c72",
   "metadata": {},
   "source": [
    "#### Question 1b) ####  \n",
    "Select the first 5 rows from baby_names"
   ]
  },
  {
   "cell_type": "raw",
   "id": "eb25ee67",
   "metadata": {},
   "source": [
    "# BEGIN SOLUTION"
   ]
  },
  {
   "cell_type": "code",
   "execution_count": null,
   "id": "5f2457c7",
   "metadata": {},
   "outputs": [],
   "source": [
    "baby_names_first5 = baby_names.head(5) #SOLUTION\n",
    "baby_names_first5"
   ]
  },
  {
   "cell_type": "raw",
   "id": "a75ad691",
   "metadata": {},
   "source": [
    "# END SOLUTION"
   ]
  },
  {
   "cell_type": "raw",
   "id": "0e5d8a8c",
   "metadata": {},
   "source": [
    "# BEGIN TESTS"
   ]
  },
  {
   "cell_type": "code",
   "execution_count": null,
   "id": "f2c2157b",
   "metadata": {},
   "outputs": [],
   "source": [
    "# TEST\n",
    "assert baby_names_first5.iloc[4,3] == \"Helen\""
   ]
  },
  {
   "cell_type": "code",
   "execution_count": null,
   "id": "a2e28455",
   "metadata": {},
   "outputs": [],
   "source": [
    "# TEST\n",
    "assert baby_names_first5.shape[0] == 5"
   ]
  },
  {
   "cell_type": "raw",
   "id": "372b424b",
   "metadata": {},
   "source": [
    "# END TESTS"
   ]
  },
  {
   "cell_type": "raw",
   "id": "2ee4f017",
   "metadata": {},
   "source": [
    "# END QUESTION"
   ]
  },
  {
   "cell_type": "markdown",
   "id": "a595518b",
   "metadata": {
    "nbgrader": {
     "grade": false,
     "grade_id": "slicing_text",
     "locked": true,
     "schema_version": 2,
     "solution": false
    }
   },
   "source": [
    "### Selection Examples on Baby Names"
   ]
  },
  {
   "cell_type": "markdown",
   "id": "e7787343",
   "metadata": {},
   "source": [
    "We can use `loc` and `iloc` to select rows and columns of interest from our dataset."
   ]
  },
  {
   "cell_type": "code",
   "execution_count": null,
   "id": "9a2c8bc0",
   "metadata": {
    "nbgrader": {
     "grade": false,
     "grade_id": "slicing_e1",
     "locked": true,
     "schema_version": 2,
     "solution": false
    }
   },
   "outputs": [],
   "source": [
    "baby_names.loc[2:5, 'Name']"
   ]
  },
  {
   "cell_type": "markdown",
   "id": "0ff84b11",
   "metadata": {},
   "source": [
    "Notice the difference between the following cell and the previous one, just passing in `'Name'` returns a Series while `['Name']` returns a DataFrame."
   ]
  },
  {
   "cell_type": "code",
   "execution_count": null,
   "id": "2b80ace2",
   "metadata": {
    "nbgrader": {
     "grade": false,
     "grade_id": "slicing_e2",
     "locked": true,
     "schema_version": 2,
     "solution": false
    }
   },
   "outputs": [],
   "source": [
    "baby_names.loc[2:5, ['Name']]"
   ]
  },
  {
   "cell_type": "markdown",
   "id": "86be0da9",
   "metadata": {},
   "source": [
    "The code below collects the rows in positions 1 through 3, and the column in position 3 (\"Name\")."
   ]
  },
  {
   "cell_type": "code",
   "execution_count": null,
   "id": "80d0470c",
   "metadata": {
    "nbgrader": {
     "grade": false,
     "grade_id": "cell-1292533181dbd2eb",
     "locked": true,
     "schema_version": 2,
     "solution": false
    }
   },
   "outputs": [],
   "source": [
    "baby_names.iloc[1:4, [3]]"
   ]
  },
  {
   "cell_type": "markdown",
   "id": "c85c8b8e",
   "metadata": {
    "nbgrader": {
     "grade": false,
     "grade_id": "q4",
     "locked": true,
     "schema_version": 2,
     "solution": false
    }
   },
   "source": [
    "**REVIEW: Selecting Rows and Columns in Pandas:** \n",
    "\n",
    "`[]` and `loc` are quite similar. \n",
    "\n",
    "Because it yields more concise code, you'll find that our code and your code both tend to feature `[]`. However, there are some subtle pitfalls of using `[]`. If you're ever having performance issues, weird behavior, or you see a `SettingWithCopyWarning` in pandas, switch from `[]` to `loc` and this may help.\n",
    "\n",
    "To avoid getting too bogged down in indexing syntax, we'll avoid a more thorough discussion of `[]` and `loc`.\n",
    "\n",
    "For more on `[]` vs `loc`, you may optionally try reading:\n",
    "1. https://stackoverflow.com/questions/48409128/what-is-the-difference-between-using-loc-and-using-just-square-brackets-to-filte\n",
    "2. https://stackoverflow.com/questions/38886080/python-pandas-series-why-use-loc/65875826#65875826\n",
    "3. https://stackoverflow.com/questions/20625582/how-to-deal-with-settingwithcopywarning-in-pandas/53954986#53954986\n"
   ]
  },
  {
   "cell_type": "raw",
   "id": "0a0b66d3",
   "metadata": {},
   "source": [
    "# BEGIN QUESTION\n",
    "name: q1c\n",
    "points: 0 \n",
    "export: true"
   ]
  },
  {
   "cell_type": "markdown",
   "id": "050a13ba",
   "metadata": {},
   "source": [
    "#### Question 1c) ####  \n",
    "\n",
    "Use `[ ]` to select `Name` and `Year` **in that order** from the `baby_names` table.\n",
    "\n",
    "Then repeat the same selection using the  `.loc` notation instead.\n",
    "\n",
    "\n"
   ]
  },
  {
   "cell_type": "raw",
   "id": "641407f0",
   "metadata": {},
   "source": [
    "# BEGIN SOLUTION"
   ]
  },
  {
   "cell_type": "code",
   "execution_count": null,
   "id": "e2b916a9",
   "metadata": {
    "nbgrader": {
     "grade": false,
     "grade_id": "q4_answer",
     "locked": false,
     "schema_version": 2,
     "solution": true
    }
   },
   "outputs": [],
   "source": [
    "name_and_year1=baby_names[['Name', 'Year']] #SOLUTION\n",
    "name_and_year1.head()"
   ]
  },
  {
   "cell_type": "code",
   "execution_count": null,
   "id": "7eb3cce9-a0c8-49ed-8e9b-57faf3c536c0",
   "metadata": {},
   "outputs": [],
   "source": [
    "name_and_year2 = baby_names.loc[:, ['Name', 'Year']] #SOLUTION\n",
    "\n",
    "name_and_year2.head()"
   ]
  },
  {
   "cell_type": "raw",
   "id": "23ebebf2",
   "metadata": {},
   "source": [
    "# END SOLUTION"
   ]
  },
  {
   "cell_type": "raw",
   "id": "41fe684b",
   "metadata": {},
   "source": [
    "# END QUESTION"
   ]
  },
  {
   "cell_type": "markdown",
   "id": "bf90f750",
   "metadata": {
    "nbgrader": {
     "grade": false,
     "grade_id": "filter_data",
     "locked": true,
     "schema_version": 2,
     "solution": false
    }
   },
   "source": [
    "## Filtering Data"
   ]
  },
  {
   "cell_type": "markdown",
   "id": "70d77b0b",
   "metadata": {
    "nbgrader": {
     "grade": false,
     "grade_id": "filter_data_op",
     "locked": true,
     "schema_version": 2,
     "solution": false
    }
   },
   "source": [
    "### **REVIEW**: Filtering with boolean arrays\n",
    "\n",
    "Filtering is the process of removing unwanted material.  In your quest for cleaner data, you will undoubtedly filter your data at some point: whether it be for clearing up cases with missing values, for culling out fishy outliers, or for analyzing subgroups of your data set.  Example usage looks like `df[df['column name'] < 5]`.\n",
    "\n",
    "For your reference, some commonly used comparison operators are given below.\n",
    "\n",
    "Symbol | Usage      | Meaning \n",
    "------ | ---------- | -------------------------------------\n",
    "==   | a == b   | Does a equal b?\n",
    "<=   | a <= b   | Is a less than or equal to b?\n",
    "&gt;=   | a >= b   | Is a greater than or equal to b?\n",
    "<    | a < b    | Is a less than b?\n",
    "&#62;    | a &#62; b    | Is a greater than b?\n",
    "~    | ~p       | Returns negation of p\n",
    "&#124; | p &#124; q | p OR q\n",
    "&    | p & q    | p AND q\n",
    "^  | p ^ q | p XOR q (exclusive or)"
   ]
  },
  {
   "cell_type": "raw",
   "id": "d40aabec",
   "metadata": {},
   "source": [
    "# BEGIN QUESTION\n",
    "name: q1d\n",
    "points: 4 "
   ]
  },
  {
   "cell_type": "markdown",
   "id": "c6cd0bcb",
   "metadata": {
    "nbgrader": {
     "grade": false,
     "grade_id": "filter_ca",
     "locked": true,
     "schema_version": 2,
     "solution": false
    }
   },
   "source": [
    "#### Question 1d) #### \n",
    "\n",
    "Use one line of code to construct a new DataFrame containing the first 10 names in baby_names registered in Colorado and the columns `Name` and `Count` **in that order**"
   ]
  },
  {
   "cell_type": "raw",
   "id": "f7ad26dd",
   "metadata": {},
   "source": [
    "# BEGIN SOLUTION"
   ]
  },
  {
   "cell_type": "code",
   "execution_count": 4,
   "id": "581fa1a6",
   "metadata": {
    "nbgrader": {
     "grade": false,
     "grade_id": "filter_ca_code",
     "locked": true,
     "schema_version": 2,
     "solution": false
    }
   },
   "outputs": [
    {
     "ename": "NameError",
     "evalue": "name 'baby_names' is not defined",
     "output_type": "error",
     "traceback": [
      "\u001b[0;31m---------------------------------------------------------------------------\u001b[0m",
      "\u001b[0;31mNameError\u001b[0m                                 Traceback (most recent call last)",
      "Cell \u001b[0;32mIn[4], line 1\u001b[0m\n\u001b[0;32m----> 1\u001b[0m co \u001b[38;5;241m=\u001b[39m \u001b[43mbaby_names\u001b[49m\u001b[38;5;241m.\u001b[39mloc[baby_names[\u001b[38;5;124m\"\u001b[39m\u001b[38;5;124mState\u001b[39m\u001b[38;5;124m\"\u001b[39m]\u001b[38;5;241m==\u001b[39m\u001b[38;5;124m\"\u001b[39m\u001b[38;5;124mCO\u001b[39m\u001b[38;5;124m\"\u001b[39m,[\u001b[38;5;124m\"\u001b[39m\u001b[38;5;124mName\u001b[39m\u001b[38;5;124m\"\u001b[39m,\u001b[38;5;124m\"\u001b[39m\u001b[38;5;124mCount\u001b[39m\u001b[38;5;124m\"\u001b[39m]]\u001b[38;5;241m.\u001b[39mhead(\u001b[38;5;241m10\u001b[39m) \u001b[38;5;66;03m#SOLUTION\u001b[39;00m\n\u001b[1;32m      2\u001b[0m co\n",
      "\u001b[0;31mNameError\u001b[0m: name 'baby_names' is not defined"
     ]
    }
   ],
   "source": [
    "co = baby_names.loc[baby_names[\"State\"]==\"CO\",[\"Name\",\"Count\"]].head(10) #SOLUTION\n",
    "co"
   ]
  },
  {
   "cell_type": "raw",
   "id": "0ac9ba66",
   "metadata": {},
   "source": [
    "# END SOLUTION"
   ]
  },
  {
   "cell_type": "raw",
   "id": "d55402cd-5e72-446b-8d55-8cfd4d984b41",
   "metadata": {},
   "source": [
    "# BEGIN TESTS"
   ]
  },
  {
   "cell_type": "code",
   "execution_count": null,
   "id": "19e728a2-b48d-48e7-b00c-d4ff824b371d",
   "metadata": {},
   "outputs": [],
   "source": [
    "#TEST\n",
    "assert co.iloc[6,1] == 46"
   ]
  },
  {
   "cell_type": "code",
   "execution_count": null,
   "id": "fc7ca878-b860-495f-be92-5175ed827be8",
   "metadata": {},
   "outputs": [],
   "source": [
    "#TEST \n",
    "assert len(co) == 10"
   ]
  },
  {
   "cell_type": "raw",
   "id": "faecef66-ce02-49b5-b3ae-63e8fb26c718",
   "metadata": {},
   "source": [
    "# END TESTS"
   ]
  },
  {
   "cell_type": "raw",
   "id": "4c59259d",
   "metadata": {},
   "source": [
    "# END QUESTION"
   ]
  },
  {
   "cell_type": "raw",
   "id": "f7ae6dc5",
   "metadata": {},
   "source": [
    "# BEGIN QUESTION\n",
    "name: q1e\n",
    "points: 4"
   ]
  },
  {
   "cell_type": "markdown",
   "id": "a35b7853",
   "metadata": {
    "nbgrader": {
     "grade": false,
     "grade_id": "q5a",
     "locked": true,
     "schema_version": 2,
     "solution": false
    }
   },
   "source": [
    "#### Question 1e) #### \n",
    "\n",
    "Using a boolean array, select the names in Year 2000 (from `baby_names`) that have larger than 3000 counts. Keep all columns from the original `baby_names` DataFrame.\n",
    "\n",
    "Note: Note that compound expressions have to be grouped with parentheses. That is, any time you use `p & q` to filter the DataFrame, make sure to use `df[(df[p]) & (df[q])]` or `df.loc[(df[p]) & (df[q])]`. \n",
    "\n",
    "You may use either `[]` or `loc`. Both will achieve the same result. For more on `[]` vs. `loc` see the stack overflow links from the intro portion of this lab.\n"
   ]
  },
  {
   "cell_type": "raw",
   "id": "1a454596",
   "metadata": {},
   "source": [
    "# BEGIN SOLUTION"
   ]
  },
  {
   "cell_type": "code",
   "execution_count": null,
   "id": "1f924cd9",
   "metadata": {
    "nbgrader": {
     "grade": false,
     "grade_id": "q5a_answer",
     "locked": false,
     "schema_version": 2,
     "solution": true
    }
   },
   "outputs": [],
   "source": [
    "result = baby_names[(baby_names[\"Year\"] == 2000) & (baby_names[\"Count\"] > 3000)] # SOLUTION\n",
    "result.head()"
   ]
  },
  {
   "cell_type": "raw",
   "id": "40248fd2",
   "metadata": {},
   "source": [
    "# END SOLUTION"
   ]
  },
  {
   "cell_type": "raw",
   "id": "d5c6d86c",
   "metadata": {},
   "source": [
    "# BEGIN TESTS"
   ]
  },
  {
   "cell_type": "code",
   "execution_count": null,
   "id": "fe9d2a6b",
   "metadata": {
    "nbgrader": {
     "grade": true,
     "grade_id": "q5a_test",
     "locked": true,
     "points": 1,
     "schema_version": 2,
     "solution": false
    }
   },
   "outputs": [],
   "source": [
    "# TEST\n",
    "assert len(result) == 11"
   ]
  },
  {
   "cell_type": "code",
   "execution_count": null,
   "id": "81cc89b9",
   "metadata": {},
   "outputs": [],
   "source": [
    "# TEST\n",
    "assert result[\"Count\"].sum() == 39001"
   ]
  },
  {
   "cell_type": "code",
   "execution_count": null,
   "id": "8e1e309e",
   "metadata": {},
   "outputs": [],
   "source": [
    "# TEST\n",
    "assert result[\"Count\"].iloc[0] == 4342"
   ]
  },
  {
   "cell_type": "raw",
   "id": "84da2a27",
   "metadata": {},
   "source": [
    "# END TESTS"
   ]
  },
  {
   "cell_type": "raw",
   "id": "6dccb97c",
   "metadata": {},
   "source": [
    "# END QUESTION"
   ]
  },
  {
   "cell_type": "markdown",
   "id": "2e476e17",
   "metadata": {},
   "source": [
    "[Back to top](#top)\n",
    "\n",
    "<a id='p1'></a>\n",
    "\n",
    "## Question 2: Discrete Structures Review ##\n",
    "\n",
    "You will need a solid understanding of the following concepts from Discrete Structures to succeed in this course. See the Prerequisite Review Resources posted on Canvas if you need to review any of these key concepts.\n"
   ]
  },
  {
   "cell_type": "raw",
   "id": "78dc3756",
   "metadata": {},
   "source": [
    "# BEGIN QUESTION\n",
    "name: q2a\n",
    "points: 3\n",
    "manual: true"
   ]
  },
  {
   "cell_type": "markdown",
   "id": "d4fa1cca",
   "metadata": {},
   "source": [
    "#### Question 2a) ####  \n",
    "\n",
    "A coin is flipped 10 times.  How many possible outcomes have exactly 2 heads?  Use LaTeX (not code) in the cell below to show all of your steps and fully justify your answer.  \n",
    "\n",
    "**Note: In this class, you must always put your answer in the cell that immediately follows the question. DO NOT create any cells between this one and the one that says** _Write your answer here, replacing this text._"
   ]
  },
  {
   "cell_type": "raw",
   "id": "93ba62dc",
   "metadata": {},
   "source": [
    "# BEGIN SOLUTION"
   ]
  },
  {
   "cell_type": "markdown",
   "id": "02464e35",
   "metadata": {},
   "source": [
    "**Solution**\n",
    "\n",
    "This is combination of 10 choose 2 (because once we've chosen the two spots the other 8 spots will automatically be tails).  $C(10,2) = \\frac{10!}{2!8!} = \\frac{10*9}{2} = \\boxed{45}$"
   ]
  },
  {
   "cell_type": "raw",
   "id": "ab6d225c",
   "metadata": {},
   "source": [
    "# END SOLUTION"
   ]
  },
  {
   "cell_type": "raw",
   "id": "bffddfc2",
   "metadata": {},
   "source": [
    "# END QUESTION"
   ]
  },
  {
   "cell_type": "raw",
   "id": "3cb7a114",
   "metadata": {},
   "source": [
    "# BEGIN QUESTION\n",
    "name: q2acheck\n",
    "points: 0"
   ]
  },
  {
   "cell_type": "markdown",
   "id": "f72e19da-7137-4fc6-889d-da5c30fcb026",
   "metadata": {},
   "source": [
    "2a Answer Check).  To check your final answer to part 2a above, enter the answer you came up with (just the number) in the cell below. Note that this is just a built-in public test so you can check your work and determine if you are on the right track.  To receive credit on problem you must show all steps in part 2a above using LaTeX and fully justifying your answer using correct mathematical notation.  "
   ]
  },
  {
   "cell_type": "raw",
   "id": "534f180b",
   "metadata": {},
   "source": [
    "# BEGIN SOLUTION"
   ]
  },
  {
   "cell_type": "code",
   "execution_count": null,
   "id": "d1feefa4",
   "metadata": {},
   "outputs": [],
   "source": [
    "q2a_answer = 45 # SOLUTION"
   ]
  },
  {
   "cell_type": "raw",
   "id": "7dc71229",
   "metadata": {},
   "source": [
    "# END SOLUTION"
   ]
  },
  {
   "cell_type": "raw",
   "id": "ec0a13d4",
   "metadata": {},
   "source": [
    "# BEGIN TESTS"
   ]
  },
  {
   "cell_type": "code",
   "execution_count": null,
   "id": "b29e447c",
   "metadata": {},
   "outputs": [],
   "source": [
    "assert q2a_answer == 45"
   ]
  },
  {
   "cell_type": "raw",
   "id": "57040354",
   "metadata": {},
   "source": [
    "# END TESTS"
   ]
  },
  {
   "cell_type": "raw",
   "id": "be2b17b5",
   "metadata": {},
   "source": [
    "# END QUESTION"
   ]
  },
  {
   "cell_type": "raw",
   "id": "52fd57c3",
   "metadata": {},
   "source": [
    "# BEGIN QUESTION\n",
    "name: q2b\n",
    "points: 4\n",
    "manual: true"
   ]
  },
  {
   "cell_type": "markdown",
   "id": "1ab22f02",
   "metadata": {},
   "source": [
    "#### Question 2b) ####  \n",
    "\n",
    "What is the probability that if I roll two 6-sided dice they add up to **at most** $9$? Use LaTeX (not code) in the cell directly below to show all of your steps and fully justify your answer.\n"
   ]
  },
  {
   "cell_type": "raw",
   "id": "c838be15",
   "metadata": {},
   "source": [
    "# BEGIN SOLUTION"
   ]
  },
  {
   "cell_type": "markdown",
   "id": "c674f4c6",
   "metadata": {},
   "source": [
    "**Solution**\n",
    "\n",
    "To find the probability of at most adding to $9$ we will calculate:\n",
    "\n",
    "$1-P(\\text{sum of 10})- P(\\text{sum of 11})- P(\\text{sum of 12}) $\n",
    "\n",
    "$P(\\text{sum of 12}) = \\frac{1}{36}$ (since there are (6)(6)=36 possible outcomes and only the outcome with 2 sixes adds to 12)\n",
    "\n",
    "$P(\\text{sum of 11}) = \\frac{2}{36}$ (i.e. either 5 and 6 or 6 and 5)\n",
    "\n",
    "$P(\\text{sum of 10}) = \\frac{3}{36}$ (either (6, 4), (4, 6), (5,5))\n",
    "\n",
    "Thus $P(\\text{sum of at most 9}) = 1-\\frac{3}{36}-\\frac{2}{36}-\\frac{1}{36} = \\frac{30}{36} =\\boxed{ \\frac{5}{6}}$\n"
   ]
  },
  {
   "cell_type": "raw",
   "id": "4e5b297f",
   "metadata": {},
   "source": [
    "# END SOLUTION"
   ]
  },
  {
   "cell_type": "raw",
   "id": "be8b359f",
   "metadata": {},
   "source": [
    "# END QUESTION"
   ]
  },
  {
   "cell_type": "raw",
   "id": "d7954501",
   "metadata": {},
   "source": [
    "# BEGIN QUESTION\n",
    "name: q2bcheck\n",
    "points: 1"
   ]
  },
  {
   "cell_type": "markdown",
   "id": "a0d38f42-6d27-4efa-9a08-5e417d264935",
   "metadata": {},
   "source": [
    "2b Answer Check).  To check your final answer to 2b, enter the answer you came up with (just the number) in the cell below. Note that this is just a built-in public test so you can check your work and determine if you are on the right track.  To receive credit on this problem you must show all steps in part 2b above using LaTeX and fully justifying your answer using correct mathematical notation.  "
   ]
  },
  {
   "cell_type": "raw",
   "id": "a03cd5ed",
   "metadata": {},
   "source": [
    "# BEGIN SOLUTION"
   ]
  },
  {
   "cell_type": "code",
   "execution_count": null,
   "id": "6009357b",
   "metadata": {},
   "outputs": [],
   "source": [
    "q2b_answer = 5/6  # SOLUTION"
   ]
  },
  {
   "cell_type": "raw",
   "id": "f66dfb19",
   "metadata": {},
   "source": [
    "# END SOLUTION"
   ]
  },
  {
   "cell_type": "raw",
   "id": "be60ec2f",
   "metadata": {},
   "source": [
    "# BEGIN TESTS"
   ]
  },
  {
   "cell_type": "code",
   "execution_count": null,
   "id": "5f6af7b4",
   "metadata": {},
   "outputs": [],
   "source": [
    "assert np.isclose(q2b_answer,0.8333333333333334)"
   ]
  },
  {
   "cell_type": "raw",
   "id": "093fc42a-25e0-43fa-9a24-8a696bfe842b",
   "metadata": {},
   "source": [
    "# END TESTS"
   ]
  },
  {
   "cell_type": "raw",
   "id": "5abadc22",
   "metadata": {},
   "source": [
    "# END QUESTION"
   ]
  },
  {
   "cell_type": "raw",
   "id": "2f0f8cdd",
   "metadata": {},
   "source": [
    "# BEGIN QUESTION\n",
    "name: q2c\n",
    "points: 3\n",
    "manual: true"
   ]
  },
  {
   "cell_type": "markdown",
   "id": "5d9cc266",
   "metadata": {},
   "source": [
    "#### Question 2c) #### \n",
    "\n",
    "Suppose you show up to a quiz completely unprepared.  The quiz has 10 questions, each with 5 multiple choice options. You decide to guess each answer in a completely random way.  What is the probability that you get exactly 3 questions correct?  Use LaTeX (not code) in the cell directly below to show all of your steps and fully justify your answer. \n"
   ]
  },
  {
   "cell_type": "raw",
   "id": "483e5917",
   "metadata": {},
   "source": [
    "# BEGIN SOLUTION"
   ]
  },
  {
   "cell_type": "markdown",
   "id": "71d4775b",
   "metadata": {},
   "source": [
    "**Solution**\n",
    "\n",
    "On any given question, you have a $1/5$ probability of guessing the correct answer and a $4/5$ probability of guessing incorrectly. \n",
    "\n",
    "There are $C(10,3) = \\frac{10!}{7!3!}=\\frac{10*9*8}{3*2} = 120$ different ways to select the exact 3 questions out of 10 you get correct.  \n",
    "\n",
    "The probability of any one of these is $(\\frac{1}{5})^3(\\frac{4}{5})^7$.\n",
    "\n",
    "Thus the total probability is $C(10,3)(\\frac{1}{5})^3(\\frac{4}{5})^7 =\\boxed{120\\left(\\frac{4^7}{5^{10}}\\right)}$\n"
   ]
  },
  {
   "cell_type": "raw",
   "id": "1dd06d93",
   "metadata": {},
   "source": [
    "# END SOLUTION"
   ]
  },
  {
   "cell_type": "raw",
   "id": "af367c64",
   "metadata": {},
   "source": [
    "# END QUESTION"
   ]
  },
  {
   "cell_type": "raw",
   "id": "33fabda0",
   "metadata": {},
   "source": [
    "# BEGIN QUESTION\n",
    "name: q2ccheck\n",
    "points: 0"
   ]
  },
  {
   "cell_type": "markdown",
   "id": "1cad4881",
   "metadata": {},
   "source": [
    "2c Final Answer Check).  To check your final answer to 2c, enter the final answer you came up with in the cell below. Note that this is just a built-in public test so you can check your work and determine if you are on the right track.  To receive credit on this problem you must show all steps in part 2c above using LaTeX and fully justifying your answer using correct mathematical notation.  "
   ]
  },
  {
   "cell_type": "raw",
   "id": "a2b0fe91",
   "metadata": {},
   "source": [
    "# BEGIN SOLUTION"
   ]
  },
  {
   "cell_type": "code",
   "execution_count": null,
   "id": "e60c132f",
   "metadata": {},
   "outputs": [],
   "source": [
    "q2c_answer = 120*(4**7)/(5**10) # SOLUTION"
   ]
  },
  {
   "cell_type": "raw",
   "id": "3a493f7c",
   "metadata": {},
   "source": [
    "# END SOLUTION"
   ]
  },
  {
   "cell_type": "raw",
   "id": "13724247",
   "metadata": {},
   "source": [
    "# BEGIN TESTS"
   ]
  },
  {
   "cell_type": "code",
   "execution_count": null,
   "id": "1b2fade3",
   "metadata": {},
   "outputs": [],
   "source": [
    "assert np.isclose(q2c_answer,0.201326592)"
   ]
  },
  {
   "cell_type": "raw",
   "id": "c81ab4ae",
   "metadata": {},
   "source": [
    "# END TESTS"
   ]
  },
  {
   "cell_type": "raw",
   "id": "1fa35274",
   "metadata": {},
   "source": [
    "# END QUESTION"
   ]
  },
  {
   "cell_type": "markdown",
   "id": "151d4cdc",
   "metadata": {},
   "source": [
    "[Back to top](#top)\n",
    "\n",
    "<a id='p3'></a>\n",
    "\n",
    "## Question 3: Calculus Review ##\n",
    "\n",
    "You will need a solid understanding of the following concepts from Calculus 1 and 2 to succeed in this course. See the Prerequisite Review Resources posted on Canvas if you need to review any of these key concepts.\n",
    "\n",
    "\n",
    "### Preliminary: Sums ###\n",
    "\n",
    "Here's a recap of some basic algebra written in sigma notation. The facts are all just applications of the ordinary associative and distributive properties of addition and multiplication, written compactly and without the possibly ambiguous \"...\". But if you are ever unsure of whether you're working correctly with a sum, you can always try writing $\\sum_{i=1}^n a_i$ as $a_1 + a_2 + \\cdots + a_n$ and see if that helps.\n",
    "\n",
    "- You can use any reasonable notation for the index over which you are summing, just as in Python you can use any reasonable name in `for name in list`. Thus $\\sum_{i=1}^n a_i = \\sum_{k=1}^n a_k$.\n",
    "- $\\sum_{i=1}^n (a_i + b_i) = \\sum_{i=1}^n a_i + \\sum_{i=1}^n b_i$\n",
    "- $\\sum_{i=1}^n d = nd$\n",
    "- $\\sum_{i=1}^n (ca_i + d) = c\\sum_{i=1}^n a_i + nd$\n"
   ]
  },
  {
   "cell_type": "raw",
   "id": "335ecdcd",
   "metadata": {},
   "source": [
    "# BEGIN QUESTION\n",
    "name: q3a\n",
    "points: 4\n",
    "manual: true"
   ]
  },
  {
   "cell_type": "markdown",
   "id": "0b918cef",
   "metadata": {},
   "source": [
    "#### Question 3a) #### \n",
    "\n",
    "We commonly use sigma notation to compactly write the definition of the arithmetic mean (commonly known as the average):\n",
    "\n",
    "$$\\bar{x} = \\frac{1}{n}\\left(x_1+x_2+ ... + x_n \\right) = \\frac{1}{n}\\sum_{i=1}^n x_i$$\n",
    "\n",
    "\n",
    "\n",
    "The $i$th *deviation from average* is the difference $x_i - \\bar{x}$. Prove that the sum of all these deviations is 0 that is, prove that $\\sum_{i=1}^n (x_i - \\bar{x}) = 0$ (write your full solution in the box directly below showing all steps and using LaTeX).\n"
   ]
  },
  {
   "cell_type": "raw",
   "id": "db58396b",
   "metadata": {},
   "source": [
    "# BEGIN SOLUTION"
   ]
  },
  {
   "cell_type": "markdown",
   "id": "d0e0389e",
   "metadata": {},
   "source": [
    "**Solution**\n",
    "\n",
    "\n"
   ]
  },
  {
   "cell_type": "raw",
   "id": "407e8d65",
   "metadata": {},
   "source": [
    "# END SOLUTION"
   ]
  },
  {
   "cell_type": "raw",
   "id": "f24db30e",
   "metadata": {},
   "source": [
    "# END QUESTION"
   ]
  },
  {
   "cell_type": "raw",
   "id": "cb502435",
   "metadata": {},
   "source": [
    "# BEGIN QUESTION\n",
    "name: q3b\n",
    "points: 6\n",
    "manual: true"
   ]
  },
  {
   "cell_type": "markdown",
   "id": "06fe4dcc",
   "metadata": {},
   "source": [
    "#### Question 3b) ####  \n",
    "\n",
    "Let $x_1, x_2, \\ldots, x_n$ be a list of numbers. You can think of each index $i$ as the label of a household, and the entry $x_i$ as the annual income of Household $i$. \n",
    "\n",
    "Consider the function  $$f(c) = \\frac{1}{n} \\sum_{i=1}^n (x_i-c)^2$$\n",
    "\n",
    "\n",
    "In this scenario, suppose that our data points $x_1, x_2, \\ldots, x_n$ are fixed and that $c$ is the only variable.\n",
    "\n",
    "Using calculus, determine the value of $c$ that minimizes $f(c)$.  You must use calculus to justify that this is indeed a minimum, and not a maximum.\n"
   ]
  },
  {
   "cell_type": "raw",
   "id": "74d5d613",
   "metadata": {},
   "source": [
    "# BEGIN SOLUTION"
   ]
  },
  {
   "cell_type": "markdown",
   "id": "aff317dc",
   "metadata": {},
   "source": [
    "**Solution**\n",
    "\n",
    "\n"
   ]
  },
  {
   "cell_type": "raw",
   "id": "7e1e9e35",
   "metadata": {},
   "source": [
    "# END SOLUTION"
   ]
  },
  {
   "cell_type": "raw",
   "id": "52aa6834",
   "metadata": {},
   "source": [
    "# END QUESTION"
   ]
  },
  {
   "cell_type": "markdown",
   "id": "8721ade4",
   "metadata": {},
   "source": [
    "[Back to top](#top)\n",
    "\n",
    "<a id='p4'></a>\n",
    "\n",
    "## Question 4).  Applying Those Prereqs:  A Maximum Likelihood Estimate ##"
   ]
  },
  {
   "cell_type": "raw",
   "id": "9817e529",
   "metadata": {},
   "source": [
    "# BEGIN QUESTION\n",
    "name: 4a\n",
    "points: 3"
   ]
  },
  {
   "cell_type": "markdown",
   "id": "62bc076a",
   "metadata": {},
   "source": [
    "In this problem we're going to apply your calculus and discrete math prerequisite knowledge to introduce a data science concept called a maximum likelihood estimate.\n",
    "\n",
    "Data scientists use coin tossing as a visual image for sampling at random with replacement from a binary population.\n",
    "\n",
    "#### Question 4a) ####\n",
    "A coin that lands heads with chance 0.7 is tossed six times. What is the chance of the sequence HHHTHT? Assign your answer to the variable `p_HHHTHT`."
   ]
  },
  {
   "cell_type": "raw",
   "id": "6c97abc8",
   "metadata": {},
   "source": [
    "# BEGIN SOLUTION"
   ]
  },
  {
   "cell_type": "code",
   "execution_count": null,
   "id": "18663714",
   "metadata": {},
   "outputs": [],
   "source": [
    "p_HHHTHT = 0.7**4*(0.3**2)  #SOLUTION\n",
    "p_HHHTHT"
   ]
  },
  {
   "cell_type": "raw",
   "id": "406f3753",
   "metadata": {},
   "source": [
    "# END SOLUTION"
   ]
  },
  {
   "cell_type": "raw",
   "id": "933bd57e",
   "metadata": {},
   "source": [
    "# BEGIN TESTS"
   ]
  },
  {
   "cell_type": "code",
   "execution_count": null,
   "id": "13613134",
   "metadata": {},
   "outputs": [],
   "source": [
    "assert np.isclose(p_HHHTHT, 0.021608999999999996)"
   ]
  },
  {
   "cell_type": "raw",
   "id": "6ac0d8ee",
   "metadata": {},
   "source": [
    "# END TESTS"
   ]
  },
  {
   "cell_type": "raw",
   "id": "e0081b33",
   "metadata": {},
   "source": [
    "# END QUESTION"
   ]
  },
  {
   "cell_type": "raw",
   "id": "dee2cac8",
   "metadata": {},
   "source": [
    "# BEGIN QUESTION\n",
    "name: 4b\n",
    "points: 3\n",
    "manual: true"
   ]
  },
  {
   "cell_type": "markdown",
   "id": "6405e77f",
   "metadata": {},
   "source": [
    "#### Question 4b) ####\n",
    "I have a coin that lands heads with an unknown probability $p$. \n",
    "\n",
    "Suppose I toss it 10 times and get the sequence TTTHTHHTTH.\n",
    "\n",
    "If you toss this coin 10 times, the chance that you get the sequence above is a function of $p$. That function is called the *likelihood* of the sequence TTTHTHHTTH, so we will call it $L(p)$.\n",
    "\n",
    "What is $L(p)$ for the sequence TTTHTHHTTH?\n",
    "\n",
    "Write your answer using LaTeX below (i.e. your answer should be of the form:  $L(p)$=some function of p)\n",
    "\n"
   ]
  },
  {
   "cell_type": "raw",
   "id": "4c649de7",
   "metadata": {},
   "source": [
    "# BEGIN SOLUTION"
   ]
  },
  {
   "cell_type": "markdown",
   "id": "1af43508-fcf3-445d-b42e-2a302ae695cc",
   "metadata": {},
   "source": [
    "**Solution **"
   ]
  },
  {
   "cell_type": "raw",
   "id": "8feae245",
   "metadata": {},
   "source": [
    "# END SOLUTION"
   ]
  },
  {
   "cell_type": "raw",
   "id": "f5ec225d-2e1f-4972-afaa-733101c64c0d",
   "metadata": {},
   "source": [
    "# END QUESTION"
   ]
  },
  {
   "cell_type": "raw",
   "id": "e6ebf922",
   "metadata": {},
   "source": [
    "# BEGIN QUESTION\n",
    "name: 4c\n",
    "points: 0\n",
    "export: true"
   ]
  },
  {
   "cell_type": "markdown",
   "id": "9387df81",
   "metadata": {},
   "source": [
    "#### Question 4c) ####\n",
    "\n",
    "Below is a section of code that will help you plot the function $L(p)$ that you defined above.\n",
    "Replace the ellipses with your function of $p$\n"
   ]
  },
  {
   "cell_type": "raw",
   "id": "49d44d98-64f4-4c92-a0a0-c0507fb2acdf",
   "metadata": {},
   "source": [
    "# BEGIN SOLUTION"
   ]
  },
  {
   "cell_type": "code",
   "execution_count": null,
   "id": "cdcec98f",
   "metadata": {},
   "outputs": [],
   "source": [
    "p = np.linspace(0, 1, 100) \n",
    "#This creates an array of 100 values equally spaced between 0 and 1\n",
    "\n",
    "likelihood = (p**4)(1-p)**6 #SOLUTION\n",
    "\n",
    "plt.plot(p, likelihood, lw=2, color='darkblue') \n",
    "#This plots the likelihood function  \n",
    "\n",
    "plt.plot([0, 1], [0, 0], lw=1, color='grey')  \n",
    "#This plots a horizontal axis\n",
    "\n",
    "plt.xlabel('$p$')\n",
    "#This labels the x axis\n",
    "plt.ylabel('$L(p)$', rotation=0)\n",
    "#This labels the y-axis\n",
    "\n",
    "plt.title('Likelihood of TTTHTHHTTH');\n",
    "#This titles the plot"
   ]
  },
  {
   "cell_type": "raw",
   "id": "ff9a5fdf-3fdd-4167-9089-7d43307d43ed",
   "metadata": {},
   "source": [
    "# END SOLUTION"
   ]
  },
  {
   "cell_type": "raw",
   "id": "ee5bab4b",
   "metadata": {},
   "source": [
    "# END QUESTION"
   ]
  },
  {
   "cell_type": "raw",
   "id": "0ded0c23-20a4-4043-b894-f3ba3bcaeaec",
   "metadata": {},
   "source": [
    "# BEGIN QUESTION\n",
    "name: 4d\n",
    "points: 2\n",
    "manual: true"
   ]
  },
  {
   "cell_type": "markdown",
   "id": "75cb7c2f",
   "metadata": {},
   "source": [
    "#### Question 4d) ####\n",
    "\n",
    "The value $\\hat{p}$ at which the likelihood function attains its maximum is called the *maximum likelihood estimate* (MLE) of $p$. Among all values of $p$, it is the one that makes the observed data most likely.\n",
    "\n",
    "Using your plot above, what is the value of $\\hat{p}$?   \n",
    "\n",
    "Provide a simple interpretation of that value in terms of the data TTTHTHHTTH.\n"
   ]
  },
  {
   "cell_type": "raw",
   "id": "c71c6015-13d6-4760-98fd-fb53ef027eab",
   "metadata": {},
   "source": [
    "# BEGIN SOLUTION"
   ]
  },
  {
   "cell_type": "markdown",
   "id": "47973b32",
   "metadata": {},
   "source": [
    "**SOLUTION:**\n",
    "\n",
    "\n"
   ]
  },
  {
   "cell_type": "raw",
   "id": "5c671f30-ba1b-4146-9881-f1c434cd28c8",
   "metadata": {},
   "source": [
    "# END SOLUTION"
   ]
  },
  {
   "cell_type": "raw",
   "id": "c6b54cc1-59ad-4898-9e7b-5ce7a4f2d62b",
   "metadata": {},
   "source": [
    "# END QUESTION"
   ]
  },
  {
   "cell_type": "raw",
   "id": "b3f003fc-9e92-4709-92ca-b2f8b843b827",
   "metadata": {},
   "source": [
    "# BEGIN QUESTION\n",
    "name: 4e\n",
    "points: 4\n",
    "manual: true"
   ]
  },
  {
   "cell_type": "markdown",
   "id": "d9516a5d",
   "metadata": {},
   "source": [
    "#### Question 4e) ####\n",
    "\n",
    "Let's prove what you observed graphically above.  That is, let's use calculus to find $\\hat{p}$.  \n",
    "\n",
    "But wait before you start trying to find the value $p$ where $L'(p)=0$ (trust us, the algebra is not pretty...)\n",
    "\n",
    "TIP:  \n",
    "The value $\\hat{p}$ at which the function $L$ attains its maximum is the same as the value at which the function $\\log(L)$ attains its maximum. To clarify, $\\log(L)$ is the composition of $\\log$ and $L$: $\\log(L)$ at $p$ is $\\log(L(p))$. Even though it doesn't make a difference for this problem, $\\log$ is now and forevermore the $\\log$ to the base $e$, not to the base 10.\n",
    "\n",
    "\n",
    "This tip is hugely important in data science because many probabilities are products and the $\\log$ function turns products into sums. It's much simpler to work with a sum than with a product.\n",
    "\n",
    "\n",
    "Armed with that tip use calculus to find $\\hat{p}$. You don't have to check that the value you've found produces a max and not a min – we'll spare you that step.\n",
    "\n",
    "\n",
    "\n",
    "\n",
    "\n"
   ]
  },
  {
   "cell_type": "raw",
   "id": "e797ebe8-e73b-48b6-a5db-9eb543b8dd7c",
   "metadata": {},
   "source": [
    "# BEGIN SOLUTION"
   ]
  },
  {
   "cell_type": "markdown",
   "id": "95033056-d3e0-4a31-8dc7-3c17f11f9260",
   "metadata": {},
   "source": [
    "*SOLUTION*"
   ]
  },
  {
   "cell_type": "raw",
   "id": "4a025627-ae53-471a-84b3-10f74716cf49",
   "metadata": {},
   "source": [
    "# END SOLUTION"
   ]
  },
  {
   "cell_type": "raw",
   "id": "851b7437-d8bd-4aa0-9e8d-72cdeca71938",
   "metadata": {},
   "source": [
    "# END QUESTION"
   ]
  },
  {
   "cell_type": "markdown",
   "id": "4f74f72e",
   "metadata": {},
   "source": [
    "<br/><br/>\n",
    "<hr style=\"border: 5px solid #003262;\" />\n",
    "<hr style=\"border: 1px solid #fdb515;\" />\n",
    "\n",
    "## Congratulations! You have finished Homework 2!"
   ]
  },
  {
   "cell_type": "markdown",
   "id": "cc31acf9",
   "metadata": {},
   "source": [
    "If you discussed this assignment with any other students in the class (in a manner that is acceptable as described by the Collaboration policy above) please **include their names** here:\n",
    "\n",
    "**Collaborators**: *list collaborators here*"
   ]
  },
  {
   "cell_type": "markdown",
   "id": "46739932",
   "metadata": {},
   "source": [
    "### Submission Instructions\n",
    "\n",
    "Before proceeding any further, **save this notebook.**\n",
    "\n",
    "After running the `grader.export()` cell provided below, **2 files will be created**: a zip file and pdf file.  You can download them using the links provided below OR by finding them in the same folder where this juptyer notebook resides in your JuptyerHub.\n",
    "\n",
    "To receive credit on this assignment, **you must submit BOTH of these files\n",
    "to their respective Gradescope portals:** \n",
    "\n",
    "* **Homework 2 Autograded**: Submit the zip file that is output by the `grader.export()` cell below to the HW1 Autograded assignment in Gradescope.\n",
    "\n",
    "* **Homework 2 Manually Graded**: Submit your hw01.PDF to the HW1 Manually Graded assignment in Gradescope.  \n",
    "\n",
    "\n",
    "**You are responsible for ensuring your submission follows our requirements. We will not be granting regrade requests nor extensions to submissions that don't follow instructions.** If you encounter any difficulties with submission, please don't hesitate to reach out to staff prior to the deadline."
   ]
  }
 ],
 "metadata": {
  "kernelspec": {
   "display_name": "Python 3 (ipykernel)",
   "language": "python",
   "name": "python3"
  },
  "language_info": {
   "codemirror_mode": {
    "name": "ipython",
    "version": 3
   },
   "file_extension": ".py",
   "mimetype": "text/x-python",
   "name": "python",
   "nbconvert_exporter": "python",
   "pygments_lexer": "ipython3",
   "version": "3.9.12"
  }
 },
 "nbformat": 4,
 "nbformat_minor": 5
}
